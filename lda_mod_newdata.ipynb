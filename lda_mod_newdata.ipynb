{
 "cells": [
  {
   "cell_type": "markdown",
   "metadata": {},
   "source": [
    "### Table of Contents\n",
    "\n",
    "### Data analysis (preprocessing, heap's law, zief's law, bigram)\n",
    "\n",
    "### Word Clouds\n",
    "\n",
    "### LDA\n",
    "*  LDA over all years and logistic regression - unigram\n",
    "\n",
    "* Logistic Regression\n",
    "\n",
    "Note\n",
    "Y variable is 1 = cited above median (4), 0 = anything less than 4"
   ]
  },
  {
   "cell_type": "code",
   "execution_count": 1,
   "metadata": {},
   "outputs": [],
   "source": [
    "import pickle, re\n",
    "import pandas as pd\n",
    "from sklearn.feature_extraction.text import CountVectorizer\n",
    "from sklearn.feature_extraction import text\n",
    "from sklearn.feature_extraction.text import TfidfVectorizer\n",
    "from yellowbrick.text import FreqDistVisualizer\n",
    "import matplotlib.pyplot as plt\n",
    "import numpy as np\n",
    "import spacy\n",
    "from stargazer.stargazer import Stargazer"
   ]
  },
  {
   "cell_type": "markdown",
   "metadata": {},
   "source": [
    "# Get the data and check it"
   ]
  },
  {
   "cell_type": "code",
   "execution_count": 2,
   "metadata": {},
   "outputs": [],
   "source": [
    "# unpickled_df = pd.read_pickle(\"C:/Users/amt/Documents/0. MSc Tinbergen/block 5. NLP/extracted_data.pkl\")\n",
    "#df = pd.read_pickle(r\"C:\\Users\\marco\\Desktop\\NLP\\extracted_data.pkl\")\n",
    "df = pd.read_pickle(r\"C:\\Users\\USER\\OneDrive\\Documents\\Python\\NLP\\extracted_data.pkl\")\n",
    "df['Cited by'] = df['Cited by'].fillna(0)\n",
    "df = df.reset_index(drop = True)"
   ]
  },
  {
   "cell_type": "code",
   "execution_count": 3,
   "metadata": {},
   "outputs": [],
   "source": [
    "#We drop irrelevant data\n",
    "df = df.drop(1131)\n",
    "df = df.reset_index(drop = True)"
   ]
  },
  {
   "cell_type": "markdown",
   "metadata": {},
   "source": [
    "* Take out the nan values"
   ]
  },
  {
   "cell_type": "code",
   "execution_count": 4,
   "metadata": {},
   "outputs": [
    {
     "name": "stdout",
     "output_type": "stream",
     "text": [
      "\\begin{tabular}{rrrrrrrr}\n",
      "\\toprule\n",
      " count &     mean &        std &  min &  25\\% &  50\\% &  75\\% &    max \\\\\n",
      "\\midrule\n",
      "7658.0 & 36.80726 & 135.525199 &  0.0 & 2.25 & 10.0 & 33.0 & 8657.0 \\\\\n",
      "\\bottomrule\n",
      "\\end{tabular}\n",
      "\n"
     ]
    }
   ],
   "source": [
    "#describing the citation data\n",
    "\n",
    "d = df['Cited by'].describe()\n",
    "d = pd.DataFrame(d).transpose()\n",
    "print(d.to_latex(index=False))"
   ]
  },
  {
   "cell_type": "code",
   "execution_count": 10,
   "metadata": {},
   "outputs": [],
   "source": [
    "# Select only a subset of the data\n",
    "#df = df.iloc[:1000, :]"
   ]
  },
  {
   "cell_type": "code",
   "execution_count": 11,
   "metadata": {},
   "outputs": [
    {
     "name": "stdout",
     "output_type": "stream",
     "text": [
      "\\begin{tabular}{rrrrrrrr}\n",
      "\\toprule\n",
      " count &     mean &      std &    min &    25\\% &    50\\% &    75\\% &    max \\\\\n",
      "\\midrule\n",
      "1000.0 & 1994.218 & 4.386538 & 1985.0 & 1990.0 & 1996.0 & 1998.0 & 1999.0 \\\\\n",
      "\\bottomrule\n",
      "\\end{tabular}\n",
      "\n"
     ]
    }
   ],
   "source": [
    "d = df['Year'].describe()\n",
    "d = pd.DataFrame(d).transpose()\n",
    "print(d.to_latex(index=False))"
   ]
  },
  {
   "cell_type": "markdown",
   "metadata": {},
   "source": [
    "# Corpus warm-up:\n",
    "\n",
    "* First, make all words in abstract lower cases\n",
    "* Create the corpus of abstracts"
   ]
  },
  {
   "cell_type": "code",
   "execution_count": 4,
   "metadata": {
    "scrolled": true
   },
   "outputs": [],
   "source": [
    "#lower case and save it as corpus\n",
    "#suggestion: list index\n",
    "\n",
    "def column_to_lower(df, column):\n",
    "    \"\"\"\n",
    "        Input: df and a corresponding column\n",
    "        Output: converted dataframe column \n",
    "        Function: Converts all strings in a column of a dataframe to lowercases.\n",
    "    \"\"\"\n",
    "    return df[column].str.lower()\n",
    "\n",
    "df.loc[:,'Abstract'] = column_to_lower(df, 'Abstract')\n",
    "\n",
    "corpus = df[\"Abstract\"].tolist()\n",
    "\n"
   ]
  },
  {
   "cell_type": "code",
   "execution_count": 13,
   "metadata": {
    "scrolled": false
   },
   "outputs": [
    {
     "data": {
      "text/plain": [
       "'this article extends a foucauldian view of power/knowledge to the archetypical knowledge-intensive organization, the scientific research laboratory. although foucault hesitated to extend his analytics of power to the so-called hard sciences, rhetorical and social studies of science provide a foundation for such an extension. the article describes the discursive production of power/knowledge at a \"big science\" laboratory conducting nuclear fusion research and illuminates a critical incident in which the fusion research \"discipline\" imposes normative \"discipline\" on individual scientists and research teams. here scientific knowledge is not solely a product of data and theory but emerges from a discursive formation in which management practices and institutional context frame the relationship between knowledge and power. © 1999 sage publications, inc.'"
      ]
     },
     "execution_count": 13,
     "metadata": {},
     "output_type": "execute_result"
    }
   ],
   "source": [
    "#check how some values look like\n",
    "corpus[0]\n",
    "#type(corpus[0])\n",
    "#len(corpus)\n",
    "#1028 abstracts"
   ]
  },
  {
   "cell_type": "code",
   "execution_count": 14,
   "metadata": {},
   "outputs": [],
   "source": [
    "#to count the amount of words in the entire dataset, also repeating\n",
    "corpus_all = []\n",
    "\n",
    "for i in range(0,len(corpus)):\n",
    "    res = re.findall(r'\\w+', str(corpus[i]))\n",
    "    corpus_all.extend(res)\n",
    "\n",
    "#corpus_all\n",
    "#len(corpus_all)\n",
    "#type(corpus_all)\n",
    "#print(corpus_all)"
   ]
  },
  {
   "cell_type": "code",
   "execution_count": 5,
   "metadata": {},
   "outputs": [],
   "source": [
    "#we are adding marketing to our stopwords list\n",
    "#What kinds of words should we include in our stopwords list?\n",
    "techstop = []\n",
    "file = open(\"techstop.txt\", \"r\") #Ask HyeJin to give you the file. Otherwise, \n",
    "\n",
    "for line in file:\n",
    "    line = line.rstrip('\\n')\n",
    "    techstop.append(line)\n",
    "\n",
    "file.close()\n",
    "\n",
    "my_stop_words = text.ENGLISH_STOP_WORDS.union([\"marketing\", \"consumer\", \"customer\", 'consumers', 'elsevi',\n",
    "                                               'customers',  \"ieee\", \"rights\", \"reserve\", 'rights reserve','science',\n",
    "                                              'haworth', 'press', 'journal', 'springer', \"©\", \"academy\"], techstop)\n",
    "\n"
   ]
  },
  {
   "cell_type": "markdown",
   "metadata": {},
   "source": [
    "* Create a list all the unique words in the corpus"
   ]
  },
  {
   "cell_type": "code",
   "execution_count": 16,
   "metadata": {},
   "outputs": [
    {
     "name": "stdout",
     "output_type": "stream",
     "text": [
      "There are 9786 unique words in that list\n"
     ]
    }
   ],
   "source": [
    "#counting unqiue words in coprus\n",
    "\n",
    "lister = []\n",
    "for i in corpus_all:\n",
    "    if i not in lister:\n",
    "        lister.append(i)\n",
    "            \n",
    "#print(lister)\n",
    "print(\"There are\", len(lister), \"unique words in that list\")"
   ]
  },
  {
   "cell_type": "markdown",
   "metadata": {},
   "source": [
    "* Tokenize and check the words most frequent in the entire corpus"
   ]
  },
  {
   "cell_type": "code",
   "execution_count": 17,
   "metadata": {},
   "outputs": [
    {
     "data": {
      "image/png": "[encoded data removed]",
      "text/plain": [
       "<Figure size 520x860 with 1 Axes>"
      ]
     },
     "metadata": {},
     "output_type": "display_data"
    },
    {
     "data": {
      "text/plain": [
       "<AxesSubplot:title={'center':'Frequency Distribution of Top 25 tokens'}>"
      ]
     },
     "execution_count": 17,
     "metadata": {},
     "output_type": "execute_result"
    }
   ],
   "source": [
    "vectorizer = CountVectorizer()\n",
    "docs       = vectorizer.fit_transform(corpus)\n",
    "features   = vectorizer.get_feature_names()\n",
    "\n",
    "visualizer = FreqDistVisualizer(features=features, n=25, size= (520, 860))\n",
    "visualizer.fit(docs)\n",
    "visualizer.show()"
   ]
  },
  {
   "cell_type": "markdown",
   "metadata": {},
   "source": [
    "A function that takes as inputs a visualizer object and the number of words to be plotted and returns the **Zipf's law plot**"
   ]
  },
  {
   "cell_type": "markdown",
   "metadata": {},
   "source": [
    "### Take out english stopwords and check which are the most used words"
   ]
  },
  {
   "cell_type": "code",
   "execution_count": 18,
   "metadata": {},
   "outputs": [
    {
     "name": "stderr",
     "output_type": "stream",
     "text": [
      "C:\\Users\\marco\\anaconda3\\lib\\site-packages\\sklearn\\feature_extraction\\text.py:383: UserWarning: Your stop_words may be inconsistent with your preprocessing. Tokenizing the stop words generated tokens ['al', 'et', 'forward', 'mentioned', 'straight', 'versa', 'vice'] not in stop_words.\n",
      "  warnings.warn('Your stop_words may be inconsistent with '\n"
     ]
    },
    {
     "data": {
      "image/png": "[encoded data removed]",
      "text/plain": [
       "<Figure size 520x860 with 1 Axes>"
      ]
     },
     "metadata": {},
     "output_type": "display_data"
    },
    {
     "data": {
      "text/plain": [
       "<AxesSubplot:title={'center':'Frequency Distribution of Top 25 tokens'}>"
      ]
     },
     "execution_count": 18,
     "metadata": {},
     "output_type": "execute_result"
    }
   ],
   "source": [
    "vectorizer = CountVectorizer(stop_words=my_stop_words)\n",
    "docs       = vectorizer.fit_transform(corpus)\n",
    "features   = vectorizer.get_feature_names()\n",
    "\n",
    "visualizer = FreqDistVisualizer(features=features, n=25,  size= (520, 860))\n",
    "visualizer.fit(docs)\n",
    "visualizer.show()"
   ]
  },
  {
   "cell_type": "code",
   "execution_count": 19,
   "metadata": {},
   "outputs": [],
   "source": [
    "#list of english stopwords \n",
    "#from sklearn.feature_extraction import stop_words\n",
    "#print(stop_words.ENGLISH_STOP_WORDS)"
   ]
  },
  {
   "cell_type": "markdown",
   "metadata": {},
   "source": [
    "* Check the most popular words only for some years"
   ]
  },
  {
   "cell_type": "code",
   "execution_count": 20,
   "metadata": {},
   "outputs": [],
   "source": [
    "#Try to use column than index if possible\n",
    "\n",
    "#from datetime import datetime, timedelta\n",
    "#df['coverDate'] = df['coverDate'].astype('datetime64')"
   ]
  },
  {
   "cell_type": "code",
   "execution_count": 21,
   "metadata": {},
   "outputs": [],
   "source": [
    "#df = df.set_index('Year')"
   ]
  },
  {
   "cell_type": "code",
   "execution_count": 22,
   "metadata": {},
   "outputs": [],
   "source": [
    "#df[\"Year\"] = df.index #terrible to add this columns equal to the index, but the LDA part uses it several times\n"
   ]
  },
  {
   "cell_type": "code",
   "execution_count": 23,
   "metadata": {},
   "outputs": [],
   "source": [
    "import matplotlib.pyplot as plt\n",
    "%matplotlib inline"
   ]
  },
  {
   "cell_type": "code",
   "execution_count": 24,
   "metadata": {},
   "outputs": [
    {
     "data": {
      "image/png": "[encoded data removed]",
      "text/plain": [
       "<Figure size 432x288 with 1 Axes>"
      ]
     },
     "metadata": {
      "needs_background": "light"
     },
     "output_type": "display_data"
    }
   ],
   "source": [
    "#number of articles published per date (dates with 0 articles are not ont he chart)\n",
    "plt.plot(df.Abstract.groupby(df.Year).count().tolist())\n",
    "plt.show()"
   ]
  },
  {
   "cell_type": "code",
   "execution_count": 25,
   "metadata": {},
   "outputs": [],
   "source": [
    "#plt.plot(df.Year.unique(),df.Abstract.groupby(df.Year).count().tolist())\n",
    "#plt.show()"
   ]
  },
  {
   "cell_type": "code",
   "execution_count": 26,
   "metadata": {},
   "outputs": [
    {
     "data": {
      "image/png": "[encoded data removed]",
      "text/plain": [
       "<Figure size 432x288 with 1 Axes>"
      ]
     },
     "metadata": {
      "needs_background": "light"
     },
     "output_type": "display_data"
    }
   ],
   "source": [
    "#number of articles published per month (months with 0 articles are not ont he chart)\n",
    "#the aggregation is done per month. we can see that a lot is published in january, \n",
    "#a bit in December, but less at the end of summer\n",
    "plt.plot(df.Abstract.groupby(df.Year).count().tolist())\n",
    "plt.show()\n",
    "#np.unique(df.index.year)"
   ]
  },
  {
   "cell_type": "code",
   "execution_count": 27,
   "metadata": {},
   "outputs": [],
   "source": [
    "#number of articles published per year, for the years that \n",
    "#plt.plot( df.description.groupby(df.index.year).count().tolist())\n",
    "#ax = plt.gca()\n",
    "#plt.show()\n"
   ]
  },
  {
   "cell_type": "code",
   "execution_count": 28,
   "metadata": {},
   "outputs": [
    {
     "data": {
      "text/plain": [
       "Year\n",
       "1985     28\n",
       "1986     36\n",
       "1987     56\n",
       "1988     46\n",
       "1989     52\n",
       "1990     33\n",
       "1991     39\n",
       "1992     33\n",
       "1993     33\n",
       "1994     54\n",
       "1995     49\n",
       "1996     87\n",
       "1997    169\n",
       "1998    121\n",
       "1999    164\n",
       "Name: Abstract, dtype: int64"
      ]
     },
     "execution_count": 28,
     "metadata": {},
     "output_type": "execute_result"
    }
   ],
   "source": [
    "df.Abstract.groupby(df.Year).count()"
   ]
  },
  {
   "cell_type": "code",
   "execution_count": 29,
   "metadata": {},
   "outputs": [
    {
     "name": "stdout",
     "output_type": "stream",
     "text": [
      "count    1000.00000\n",
      "mean       56.85100\n",
      "std       136.21191\n",
      "min         0.00000\n",
      "25%         5.00000\n",
      "50%        18.00000\n",
      "75%        54.00000\n",
      "max      2553.00000\n",
      "Name: Cited by, dtype: float64\n"
     ]
    }
   ],
   "source": [
    "#plot citations\n",
    "print(df['Cited by'].describe())\n",
    "#plt.hist(df['Cited by'], bins = 2000)"
   ]
  },
  {
   "cell_type": "code",
   "execution_count": 30,
   "metadata": {},
   "outputs": [],
   "source": [
    "# analysis on 'year 2021'\n",
    "\n",
    "#vectorizer = CountVectorizer(stop_words=my_stop_words)\n",
    "#docs       = vectorizer.fit_transform(corpus[0:171])\n",
    "#features   = vectorizer.get_feature_names()\n",
    "\n",
    "#visualizer = FreqDistVisualizer(features=features, n=25,  size= (520, 860))\n",
    "#visualizer.fit(docs)\n",
    "#visualizer.show()"
   ]
  },
  {
   "cell_type": "code",
   "execution_count": 31,
   "metadata": {},
   "outputs": [],
   "source": [
    "#year 2020\n",
    "#vectorizer = CountVectorizer(stop_words=my_stop_words)\n",
    "#docs       = vectorizer.fit_transform(corpus[171:546])\n",
    "#features   = vectorizer.get_feature_names()\n",
    "\n",
    "#visualizer = FreqDistVisualizer(features=features, n=25,  size= (520, 860))\n",
    "#visualizer.fit(docs)\n",
    "#visualizer.show()"
   ]
  },
  {
   "cell_type": "code",
   "execution_count": 32,
   "metadata": {},
   "outputs": [],
   "source": [
    "#year 2019\n",
    "#vectorizer = CountVectorizer(stop_words=my_stop_words)\n",
    "#docs       = vectorizer.fit_transform(corpus[546:775])\n",
    "#features   = vectorizer.get_feature_names()\n",
    "\n",
    "#visualizer = FreqDistVisualizer(features=features, n=25,  size= (520, 860))\n",
    "#visualizer.fit(docs)\n",
    "#visualizer.show()"
   ]
  },
  {
   "cell_type": "markdown",
   "metadata": {},
   "source": [
    "----\n",
    "\n",
    "### Pre-processing:  Lemmatizing & Tokenization"
   ]
  },
  {
   "cell_type": "markdown",
   "metadata": {},
   "source": [
    "### Creating corpus1 and corpus2"
   ]
  },
  {
   "cell_type": "code",
   "execution_count": 6,
   "metadata": {},
   "outputs": [
    {
     "name": "stderr",
     "output_type": "stream",
     "text": [
      "C:\\Users\\USER\\anaconda3\\lib\\site-packages\\gensim\\similarities\\__init__.py:15: UserWarning: The gensim.similarities.levenshtein submodule is disabled, because the optional Levenshtein package <https://pypi.org/project/python-Levenshtein/> is unavailable. Install Levenhstein (e.g. `pip install python-Levenshtein`) to suppress this warning.\n",
      "  warnings.warn(msg)\n"
     ]
    }
   ],
   "source": [
    "#Select the words that are not numeric and longer than 1 character\n",
    "#New variable: corpus2\n",
    "\n",
    "from nltk.tokenize import RegexpTokenizer\n",
    "import gensim\n",
    "from gensim.utils import simple_preprocess\n",
    "\n",
    "#def remove_stopwords(texts):\n",
    "#    return [[word for word in simple_preprocess(str(doc)) \n",
    "#            if word not in my_stop_words] for doc in texts]\n",
    "\n",
    "corpus_tkn = corpus.copy()\n",
    "\n",
    "tokenizer = RegexpTokenizer(r'\\w+')\n",
    "for idx in range(len(corpus)):\n",
    "    corpus_tkn[idx] = tokenizer.tokenize(str(corpus[idx]))\n",
    "\n",
    "corpus2 = [[token for token in doc if not token.isnumeric()] for doc in corpus_tkn]\n",
    "corpus2 = [[token for token in doc if len(token) > 1] for doc in corpus_tkn]"
   ]
  },
  {
   "cell_type": "code",
   "execution_count": 7,
   "metadata": {},
   "outputs": [],
   "source": [
    "# Includes bigrams and trigrams to corpus2\n",
    "# Create corpus1 that is the same of corpus2 but WITHOUT bitrigrams\n",
    "corpus1 = corpus2.copy()\n",
    "\n",
    "#bigram = gensim.models.Phrases(corpus2, min_count=100, threshold=100) # higher threshold fewer phrases.\n",
    "#trigram = gensim.models.Phrases(bigram[corpus2], threshold=100)  \n",
    "#bigram_mod = gensim.models.phrases.Phraser(bigram)\n",
    "#trigram_mod = gensim.models.phrases.Phraser(trigram)\n",
    "\n",
    "def process_words(texts, stop_words=my_stop_words, allowed_postags=['NOUN', 'ADJ', 'VERB', 'ADV'], bi = True, tri = True):\n",
    "    \"\"\"\n",
    "    Remove Stopwords, Lemmatization and Form Bigrams and Trigrams [if bi = True, tri = True (by default)]\n",
    "    If bi and tri are set to false, Bigrams and Trigrams are not added to texts\n",
    "    \n",
    "    \"\"\"\n",
    "    texts = [[word for word in simple_preprocess(str(doc)) if word not in my_stop_words] for doc in texts]\n",
    "    \n",
    "    if bi:\n",
    "        bigram = gensim.models.Phrases(texts, min_count=100, threshold=100)\n",
    "        bigram_mod = gensim.models.phrases.Phraser(bigram)\n",
    "        texts = [bigram_mod[doc] for doc in texts]\n",
    "    if tri:\n",
    "        trigram = gensim.models.Phrases(bigram[texts], threshold=100)\n",
    "        trigram_mod = gensim.models.phrases.Phraser(trigram)\n",
    "        texts = [trigram_mod[bigram_mod[doc]] for doc in texts]\n",
    "    texts_out = []\n",
    "    nlp = spacy.load('en_core_web_sm', disable=['parser', 'ner'])\n",
    "    for sent in texts:\n",
    "        doc = nlp(\" \".join(sent)) \n",
    "        texts_out.append([token.lemma_ for token in doc if token.pos_ in allowed_postags])\n",
    "    # remove stopwords once more after lemmatization\n",
    "    texts_out = [[word for word in simple_preprocess(str(doc)) if word not in stop_words] for doc in texts_out]    \n",
    "    return texts_out\n",
    "\n",
    "corpus2 = process_words(corpus2)  # processed Text Data!\n",
    "corpus1 = process_words(corpus1 , bi = False, tri = False)"
   ]
  },
  {
   "cell_type": "code",
   "execution_count": 35,
   "metadata": {},
   "outputs": [
    {
     "name": "stdout",
     "output_type": "stream",
     "text": [
      "6776\n",
      "6718\n"
     ]
    }
   ],
   "source": [
    "from itertools import chain\n",
    "#print(corpus2[1000])\n",
    "print (len(np.unique(list(chain(*corpus2)))))\n",
    "print (len(np.unique(list(chain(*corpus1)))))"
   ]
  },
  {
   "cell_type": "code",
   "execution_count": 36,
   "metadata": {},
   "outputs": [],
   "source": [
    "#Bigram statistics\n",
    "bi = []\n",
    "for word in list(chain(*corpus2)):\n",
    "    if '_' in word:\n",
    "        bi.append(word)\n",
    "\n",
    "count = []\n",
    "for i in np.unique(bi):\n",
    "    c = 0\n",
    "    for j in list(chain(*corpus2)):\n",
    "        if i == j:\n",
    "            c += 1\n",
    "    count.append(c)\n",
    "\n",
    "count_describe = pd.DataFrame(count)\n",
    "\n",
    "\n",
    "\n"
   ]
  },
  {
   "cell_type": "code",
   "execution_count": 37,
   "metadata": {},
   "outputs": [],
   "source": [
    "count_describe = count_describe.describe()\n",
    "bigram_count = dict(zip(np.unique(bi), count))\n"
   ]
  },
  {
   "cell_type": "code",
   "execution_count": 38,
   "metadata": {},
   "outputs": [
    {
     "data": {
      "text/plain": [
       "[('decision_making', 64),\n",
       " ('human_science', 63),\n",
       " ('neural_network', 49),\n",
       " ('end_user', 37),\n",
       " ('decision_make', 32),\n",
       " ('decision_maker', 31),\n",
       " ('busn_re', 26),\n",
       " ('time_serie', 26),\n",
       " ('life_cycle', 18),\n",
       " ('elsevier_ipma', 17),\n",
       " ('north_holland', 17),\n",
       " ('market_share', 15),\n",
       " ('problem_solving', 15),\n",
       " ('machine_learne', 14),\n",
       " ('small_businesse', 14)]"
      ]
     },
     "execution_count": 38,
     "metadata": {},
     "output_type": "execute_result"
    }
   ],
   "source": [
    "import collections\n",
    "\n",
    "d = collections.Counter(bigram_count)\n",
    "d.most_common(15)"
   ]
  },
  {
   "cell_type": "code",
   "execution_count": 39,
   "metadata": {},
   "outputs": [],
   "source": [
    "#unigram statistics\n",
    "uni = []\n",
    "for word in list(chain(*corpus1)):\n",
    "    \n",
    "    uni.append(word)\n",
    "\n",
    "count1 = []\n",
    "for i in np.unique(uni):\n",
    "    c = 0\n",
    "    for j in list(chain(*corpus1)):\n",
    "        if i == j:\n",
    "            c += 1\n",
    "    count1.append(c)\n",
    "\n",
    "count1 = pd.DataFrame(count1)\n",
    "count1_describe = count1.describe()"
   ]
  },
  {
   "cell_type": "markdown",
   "metadata": {},
   "source": [
    "## Count corpus sentences\n",
    "Note: if we need the sentences as well, we should extract them "
   ]
  },
  {
   "cell_type": "code",
   "execution_count": 40,
   "metadata": {},
   "outputs": [
    {
     "data": {
      "text/plain": [
       "['this article extends a foucauldian view of power/knowledge to the archetypical knowledge-intensive organization, the scientific research laborato',\n",
       " 'although foucault hesitated to extend his analytics of power to the so-called hard sciences, rhetorical and social studies of science provide a foundation for such an extensi',\n",
       " 'the article describes the discursive production of power/knowledge at a \"big science\" laboratory conducting nuclear fusion research and illuminates a critical incident in which the fusion research \"discipline\" imposes normative \"discipline\" on individual scientists and research tea',\n",
       " 'here scientific knowledge is not solely a product of data and theory but emerges from a discursive formation in which management practices and institutional context frame the relationship between knowledge and pow',\n",
       " '© 1999 sage publications, inc.']"
      ]
     },
     "execution_count": 40,
     "metadata": {},
     "output_type": "execute_result"
    }
   ],
   "source": [
    "re.split(r'[a-zA-Z][a-zA-Z][.!?][ ]|[^a-zA-Z][.!?][ ][A-Z]', corpus[0])"
   ]
  },
  {
   "cell_type": "code",
   "execution_count": 41,
   "metadata": {},
   "outputs": [
    {
     "data": {
      "text/plain": [
       "5"
      ]
     },
     "execution_count": 41,
     "metadata": {},
     "output_type": "execute_result"
    }
   ],
   "source": [
    "len(re.split(r'[a-zA-Z][a-zA-Z][.!?][ ]|[^a-zA-Z][.!?][ ][A-Z]', corpus[0]))"
   ]
  },
  {
   "cell_type": "code",
   "execution_count": 42,
   "metadata": {},
   "outputs": [],
   "source": [
    "corpus_sentences = []\n",
    "\n",
    "for i in range(0,len(corpus)):\n",
    "    #split the current abstract into sentences\n",
    "    sentences = re.split(r'[a-zA-Z][a-zA-Z][.!?][ ]|[^a-zA-Z][.!?][ ][A-Z]', corpus[i])\n",
    "    #nr of sentences in current abstract\n",
    "    nr_of_sentences = len(sentences)\n",
    "    corpus_sentences.append(nr_of_sentences)"
   ]
  },
  {
   "cell_type": "code",
   "execution_count": 43,
   "metadata": {},
   "outputs": [],
   "source": [
    "df.loc[:,'nr_sentences_abstract'] = corpus_sentences"
   ]
  },
  {
   "cell_type": "code",
   "execution_count": 44,
   "metadata": {},
   "outputs": [
    {
     "data": {
      "text/plain": [
       "count    1000.000000\n",
       "mean        7.313000\n",
       "std         4.011873\n",
       "min         2.000000\n",
       "25%         5.000000\n",
       "50%         7.000000\n",
       "75%         8.000000\n",
       "max        43.000000\n",
       "Name: nr_sentences_abstract, dtype: float64"
      ]
     },
     "execution_count": 44,
     "metadata": {},
     "output_type": "execute_result"
    }
   ],
   "source": [
    "df.nr_sentences_abstract.describe()"
   ]
  },
  {
   "cell_type": "code",
   "execution_count": 45,
   "metadata": {},
   "outputs": [],
   "source": [
    "#print(df.nr_sentences_abstract.sum(), \"total number of sentences\")\n",
    "#print(df.nr_sentences_abstract.median(), \"median\")\n",
    "#print(df.nr_sentences_abstract.describe())\n",
    "#print(df.loc[df['nr_sentences_abstract'] == 46]['description'].values)"
   ]
  },
  {
   "cell_type": "code",
   "execution_count": 46,
   "metadata": {},
   "outputs": [],
   "source": [
    "#df.loc[df['nr_sentences_abstract'] == 56]['Abstract']\n",
    "#Note index 1131 is not a relevant data so we drop them\n",
    "\n"
   ]
  },
  {
   "cell_type": "code",
   "execution_count": 47,
   "metadata": {},
   "outputs": [],
   "source": [
    "#df.loc[df['nr_sentences_abstract'] == 41]['description']\n",
    "#re.split(r'[a-zA-Z][a-zA-Z][.!?][ ]|[^a-zA-Z][.!?][ ][A-Z]', df.loc[1922][\"description\"])"
   ]
  },
  {
   "cell_type": "code",
   "execution_count": 48,
   "metadata": {},
   "outputs": [
    {
     "data": {
      "text/html": [
       "<div>\n",
       "<style scoped>\n",
       "    .dataframe tbody tr th:only-of-type {\n",
       "        vertical-align: middle;\n",
       "    }\n",
       "\n",
       "    .dataframe tbody tr th {\n",
       "        vertical-align: top;\n",
       "    }\n",
       "\n",
       "    .dataframe thead th {\n",
       "        text-align: right;\n",
       "    }\n",
       "</style>\n",
       "<table border=\"1\" class=\"dataframe\">\n",
       "  <thead>\n",
       "    <tr style=\"text-align: right;\">\n",
       "      <th></th>\n",
       "      <th>Author Keywords</th>\n",
       "      <th>Index Keywords</th>\n",
       "    </tr>\n",
       "  </thead>\n",
       "  <tbody>\n",
       "    <tr>\n",
       "      <th>0</th>\n",
       "      <td>NaN</td>\n",
       "      <td>NaN</td>\n",
       "    </tr>\n",
       "    <tr>\n",
       "      <th>1</th>\n",
       "      <td>NaN</td>\n",
       "      <td>administration</td>\n",
       "    </tr>\n",
       "    <tr>\n",
       "      <th>2</th>\n",
       "      <td>NaN</td>\n",
       "      <td>Artificial intelligence; Knowledge based syste...</td>\n",
       "    </tr>\n",
       "    <tr>\n",
       "      <th>3</th>\n",
       "      <td>NaN</td>\n",
       "      <td>Cost benefit analysis; Genetic algorithms; Lea...</td>\n",
       "    </tr>\n",
       "    <tr>\n",
       "      <th>4</th>\n",
       "      <td>NaN</td>\n",
       "      <td>institutional framework; science and technolog...</td>\n",
       "    </tr>\n",
       "    <tr>\n",
       "      <th>...</th>\n",
       "      <td>...</td>\n",
       "      <td>...</td>\n",
       "    </tr>\n",
       "    <tr>\n",
       "      <th>995</th>\n",
       "      <td>Assignation of instruments to goals; Austro-Ke...</td>\n",
       "      <td>NaN</td>\n",
       "    </tr>\n",
       "    <tr>\n",
       "      <th>996</th>\n",
       "      <td>Data Processing Personnel; Data Processing Tur...</td>\n",
       "      <td>HUMAN ENGINEERING - Subjective Tests; MANAGEME...</td>\n",
       "    </tr>\n",
       "    <tr>\n",
       "      <th>997</th>\n",
       "      <td>information resource encyclopedia; model admin...</td>\n",
       "      <td>COMPUTERS, MICROCOMPUTER - Applications; DATA ...</td>\n",
       "    </tr>\n",
       "    <tr>\n",
       "      <th>998</th>\n",
       "      <td>NaN</td>\n",
       "      <td>COMPUTERS, MICROCOMPUTER; DATA PROCESSING; SYS...</td>\n",
       "    </tr>\n",
       "    <tr>\n",
       "      <th>999</th>\n",
       "      <td>NaN</td>\n",
       "      <td>Management science; DISCRIMINANT ANALYSIS; DIS...</td>\n",
       "    </tr>\n",
       "  </tbody>\n",
       "</table>\n",
       "<p>1000 rows × 2 columns</p>\n",
       "</div>"
      ],
      "text/plain": [
       "                                       Author Keywords  \\\n",
       "0                                                  NaN   \n",
       "1                                                  NaN   \n",
       "2                                                  NaN   \n",
       "3                                                  NaN   \n",
       "4                                                  NaN   \n",
       "..                                                 ...   \n",
       "995  Assignation of instruments to goals; Austro-Ke...   \n",
       "996  Data Processing Personnel; Data Processing Tur...   \n",
       "997  information resource encyclopedia; model admin...   \n",
       "998                                                NaN   \n",
       "999                                                NaN   \n",
       "\n",
       "                                        Index Keywords  \n",
       "0                                                  NaN  \n",
       "1                                       administration  \n",
       "2    Artificial intelligence; Knowledge based syste...  \n",
       "3    Cost benefit analysis; Genetic algorithms; Lea...  \n",
       "4    institutional framework; science and technolog...  \n",
       "..                                                 ...  \n",
       "995                                                NaN  \n",
       "996  HUMAN ENGINEERING - Subjective Tests; MANAGEME...  \n",
       "997  COMPUTERS, MICROCOMPUTER - Applications; DATA ...  \n",
       "998  COMPUTERS, MICROCOMPUTER; DATA PROCESSING; SYS...  \n",
       "999  Management science; DISCRIMINANT ANALYSIS; DIS...  \n",
       "\n",
       "[1000 rows x 2 columns]"
      ]
     },
     "execution_count": 48,
     "metadata": {},
     "output_type": "execute_result"
    }
   ],
   "source": [
    "df[['Author Keywords', 'Index Keywords']]"
   ]
  },
  {
   "cell_type": "markdown",
   "metadata": {},
   "source": [
    "### Keywords\n",
    "This part is not working... Maybe we dont use keywords so not a problem"
   ]
  },
  {
   "cell_type": "code",
   "execution_count": 49,
   "metadata": {},
   "outputs": [],
   "source": [
    "#keywords = df['Author Keywords'].tolist()\n",
    "#print(keywords[1])"
   ]
  },
  {
   "cell_type": "code",
   "execution_count": 50,
   "metadata": {},
   "outputs": [
    {
     "data": {
      "text/plain": [
       "'\\nkeywords_paper = [] # List of the keywords associated to each paper (another list)\\nkeywords_all = [] # List of all the keywords (the same keyword can be repeated more than once)\\n\\nfor i in range(0, len(keywords)):\\n    # Some articles do not have keywords, set it to nan\\n    if keywords[i] == None:\\n        res = pd.NA\\n    else:\\n        # The keywords are separated by \" | \", using it to split them\\n        res = keywords[i].split(\" | \")\\n        keywords_all.extend(res) # Must be inside the else block, otherwise get error: \\'NAType\\' object is not iterable\\n    keywords_paper.append(res)\\n\\n# Checking if okay\\nprint(keywords_all[5000])\\nprint(keywords_paper[50])\\n'"
      ]
     },
     "execution_count": 50,
     "metadata": {},
     "output_type": "execute_result"
    }
   ],
   "source": [
    "'''\n",
    "keywords_paper = [] # List of the keywords associated to each paper (another list)\n",
    "keywords_all = [] # List of all the keywords (the same keyword can be repeated more than once)\n",
    "\n",
    "for i in range(0, len(keywords)):\n",
    "    # Some articles do not have keywords, set it to nan\n",
    "    if keywords[i] == None:\n",
    "        res = pd.NA\n",
    "    else:\n",
    "        # The keywords are separated by \" | \", using it to split them\n",
    "        res = keywords[i].split(\" | \")\n",
    "        keywords_all.extend(res) # Must be inside the else block, otherwise get error: 'NAType' object is not iterable\n",
    "    keywords_paper.append(res)\n",
    "\n",
    "# Checking if okay\n",
    "print(keywords_all[5000])\n",
    "print(keywords_paper[50])\n",
    "'''"
   ]
  },
  {
   "cell_type": "markdown",
   "metadata": {},
   "source": [
    "# (Very) Basic sentiment analysis"
   ]
  },
  {
   "cell_type": "code",
   "execution_count": 8,
   "metadata": {},
   "outputs": [
    {
     "data": {
      "text/plain": [
       "Index(['Authors', 'Author(s) ID', 'Title', 'Year', 'Source title', 'Volume',\n",
       "       'Issue', 'Art. No.', 'Page start', 'Page end', 'Page count', 'Cited by',\n",
       "       'DOI', 'Link', 'Affiliations', 'Authors with affiliations', 'Abstract',\n",
       "       'Author Keywords', 'Index Keywords', 'Correspondence Address',\n",
       "       'Editors', 'Publisher', 'ISSN', 'ISBN', 'CODEN', 'PubMed ID',\n",
       "       'Language of Original Document', 'Abbreviated Source Title',\n",
       "       'Document Type', 'Publication Stage', 'Open Access', 'Source', 'EID'],\n",
       "      dtype='object')"
      ]
     },
     "execution_count": 8,
     "metadata": {},
     "output_type": "execute_result"
    }
   ],
   "source": [
    "df.columns"
   ]
  },
  {
   "cell_type": "code",
   "execution_count": 9,
   "metadata": {},
   "outputs": [
    {
     "name": "stdout",
     "output_type": "stream",
     "text": [
      "subjectivity:\n",
      "SpearmanrResult(correlation=-0.054688085709638054, pvalue=1.6798512240650107e-06)\n",
      "polarity:\n",
      "SpearmanrResult(correlation=0.03234789195307631, pvalue=0.004639652125946124)\n",
      "subjectivity:\n",
      "SpearmanrResult(correlation=-0.025906128508926294, pvalue=0.023386825306891467)\n",
      "polarity:\n",
      "SpearmanrResult(correlation=0.0017941207104537828, pvalue=0.8752621870710525)\n",
      "\n",
      "Most subjective sentence according to TextBlog (from raw data):\n",
      "['student satisfaction can be measured through the concept of disconfirmation. disconfirmation is the difference between expectations concerning a service and the perceived value of the service. using regression analysis and the concept of disconfirmation, easily interpreted graphical displays can be produced to identify areas that are important to student satisfaction. this article illustrates this technique, using data collected in undergraduate decision sciences courses. © 1997, copyright taylor & francis group, llc.'\n",
      " 'this article investigates the interactions among sales management tools and practices used in six key areas of managerial responsibility, namely: organization, selection, training, remuneration, supervision, and evaluation. the results are based principally upon a mail survey of 113 u.k. manufacturing companies. our data suggest that the sales management tools and practices used by the sample companies in the aforementioned managerial areas tend to be interrelated. specificially, the practices pertaining to the organization and selection of the sales force are linked with the training practices employed. also, the selection and the training practices used by manufacturing companies tend to be linked with the evaluation practices. finally, the remuneration practices and policies are linked to the practices pertaining to the supervision and evaluation of the sales force. © 1989 academy of marketing science.'\n",
      " 'this section of the paper describes the wine adviser, a deductive database on wine, that was developed in the framework of the wining and dining project in applied artificial intelligence. the wine adviser provides information on wines of interest to final customers and restaurant management. © 1987.'\n",
      " 'toshiba’s electronic\\ue4f8imaging division (eid) is a business in transition. yesterday, it seemed, all photocopiers and fax machines were simply standalone pieces of kit. today they are just as likely to be sitting on a network and will be seen as part of the it infrastructure rather than simply as pieces of office machinery. © 2002, mcb up limited. all rights reserved.'\n",
      " 'artificial intelligence is transforming the employment landscape. so we must adapt our skills to exploit technology to the full, argues lynda gratton. © 2017 london business school'\n",
      " 'segmentation results derived using cluster analysis depend on (1) the structure of the data and (2) algorithm parameters. typically, neither the data structure nor the sensitivity of the analysis to changes in algorithm parameters is assessed in advance of clustering. we propose a benchmarking framework based on bootstrapping techniques that accounts for sample and algorithm randomness. this provides much needed guidance both to data analysts and users of clustering solutions regarding the choice of the final clusters from computations that are exploratory in nature. © springer science+business media, llc 2009.'\n",
      " 'predicting the behavior of customers plays a crucial role in the quality of resource management and customer services. in this article, a fuzzy neural network model for predicting the customer storage usage is identified. the identified fuzzy neural network is improved and finally the result of the improved fuzzy neural network is compared with some other fuzzy neural network and other prediction methods. © 2020, the author(s).'\n",
      " \"this article offers a transition-based neural network model for extracting informative expressions from user request texts. the configuration and transition system that turns the process of informative expression extraction into the execution of a sequence of transitions is described. prediction of transition sequence is done using a neural network that uses features derived from the configuration. to train and evaluate a proposed model, a corpus of annotated android mobile application reviews from the google play store was created. the training procedure of the model for informative expressions extraction and selected model's hyperparameters are described. an experiment was conducted comparing the proposed model and an alternative model based on a hybrid of convolutional and recurrent neural networks. to compare quality of these two models, the f1 score that aggregates recall and precision of extracted informative expressions was used. the experiment shows that the proposed model extracts expressions of interest better than the alternative: the f1 score for spans extraction increased by 2.9% and the f1 for link extraction increased by 36.2%. a qualitive analysis of extracted expressions indicates that the proposed model is applicable for the task of user request analysis during operation and the maintenance phase of software products. © 2010 sociedad mexicana de psicologia. all rights reserved.\"]\n",
      "\n",
      "Most subjective sentence according to TextBlog (after data cleaning):\n",
      "['student satisfaction measure concept disconfirmation disconfirmation difference expectation concern service perceive value service use regression analysis concept disconfirmation interpret graphical display produce identify area important student satisfaction article illustrate technique use datum collect undergraduate decision course copyright taylor francis group llc'\n",
      " 'article investigate interaction sale management tool practice use key area managerial responsibility organization selection training remuneration supervision evaluation result base principally mail survey manufacturing company datum suggest sale management tool practice use sample company aforementione managerial area tend interrelated specificially practice pertain organization selection sale force link training practice employ selection training practice use manufacturing company tend link evaluation practice remuneration practice policy link practice pertain supervision evaluation sale force'\n",
      " 'section paper wine adviser deductive database wine develop framework wining dining project apply artificial intelligence wine adviser provide information wine final restaurant management'\n",
      " 'toshiba electronic imaging division eid business transition yesterday photocopier fax machine standalone piece kit today just likely sit network infrastructure piece office machinery mcb limit'\n",
      " 'artificial intelligence transform employment landscape adapt skill exploit technology argue lynda gratton london business school'\n",
      " 'segmentation result derive use cluster analysis depend structure datum algorithm parameter data structure sensitivity analysis change algorithm parameter assess advance clustering propose benchmarke framework base bootstrappe technique account sample algorithm randomness provide need guidance datum analyst user cluster solution regard choice final cluster computation exploratory nature business medium llc'\n",
      " 'predict behavior play crucial role quality resource management service article fuzzy neural network model predict storage usage identify identify fuzzy neural network improve result improve fuzzy neural network compare fuzzy neural network prediction method author'\n",
      " 'article offer transition base neural network model extract informative expression user request text configuration transition turn process informative expression extraction execution sequence transition prediction transition sequence use neural network use feature derive configuration train evaluate propose model corpus annotate android mobile application review play store create training procedure model informative expression extraction select model hyperparameter experiment conduct compare propose model alternative model base hybrid convolutional recurrent neural network compare quality model score aggregate recall precision extract informative expression use experiment propose model extract expression alternative score span extraction increase link extraction increase qualitive analysis extract expression indicate propose model applicable task user request analysis operation maintenance phase software product sociedad mexicana psicologia']\n",
      "\n",
      "Most negative sentence according to TextBlog:\n",
      "this article offers a transition-based neural network model for extracting informative expressions from user request texts. the configuration and transition system that turns the process of informative expression extraction into the execution of a sequence of transitions is described. prediction of transition sequence is done using a neural network that uses features derived from the configuration. to train and evaluate a proposed model, a corpus of annotated android mobile application reviews from the google play store was created. the training procedure of the model for informative expressions extraction and selected model's hyperparameters are described. an experiment was conducted comparing the proposed model and an alternative model based on a hybrid of convolutional and recurrent neural networks. to compare quality of these two models, the f1 score that aggregates recall and precision of extracted informative expressions was used. the experiment shows that the proposed model extracts expressions of interest better than the alternative: the f1 score for spans extraction increased by 2.9% and the f1 for link extraction increased by 36.2%. a qualitive analysis of extracted expressions indicates that the proposed model is applicable for the task of user request analysis during operation and the maintenance phase of software products. © 2010 sociedad mexicana de psicologia. all rights reserved.\n",
      "[[1.        0.1539479]\n",
      " [0.1539479 1.       ]]\n"
     ]
    }
   ],
   "source": [
    "from scipy.stats import spearmanr\n",
    "\n",
    "# Sentiment analysis using textblob\n",
    "from textblob import TextBlob\n",
    "\n",
    "subjectivity_list = []\n",
    "polarity_list =[]\n",
    "corpus1_as_sentence = []\n",
    "\n",
    "for abstr in corpus1:\n",
    "    corpus1_as_sentence.append(\" \".join(abstr))\n",
    "\n",
    "for abstr in corpus1_as_sentence:\n",
    "    # TextBlob().sentiment returns the sentiment associated with a sentence (or sentences in this case)\n",
    "    subjectivity_list.append(TextBlob(abstr).sentiment[1]) # [1] because we take only the subjetivity measure\n",
    "    polarity_list.append(TextBlob(abstr).sentiment[0])# with .sentiment[0] we get an index in the range [-1,+1] that reports the positity/negativity of the sentence\n",
    "\n",
    "# merge it with the dataframe\n",
    "df[\"corpus1_token\"] = corpus1\n",
    "df[\"corpus1\"] = corpus1_as_sentence\n",
    "df[\"abs_subjectivity\"] = subjectivity_list\n",
    "df[\"abs_polarity\"] = polarity_list\n",
    "# print(max(df[\"abs_subjectivity\"]))\n",
    "# print(min(df[\"abs_subjectivity\"]))\n",
    "\n",
    "# check if correlated (rank-order spearman's correlation) with number of citations\n",
    "print(\"subjectivity:\")\n",
    "print(spearmanr(df[\"abs_subjectivity\"], df['Cited by']))\n",
    "print(\"polarity:\")\n",
    "print(spearmanr(df[\"abs_polarity\"], df['Cited by']))\n",
    "\n",
    "# and with citations/years from pubblication\n",
    "years_from_pub = 2021-df.Year\n",
    "\n",
    "print(\"subjectivity:\")\n",
    "print(spearmanr(df[\"abs_subjectivity\"], df['Cited by']/years_from_pub))\n",
    "print(\"polarity:\")\n",
    "print(spearmanr(df[\"abs_polarity\"], df['Cited by']/years_from_pub))\n",
    "\n",
    "# check one of the most subjective sentences (does not sound that subjective)\n",
    "print(\"\\nMost subjective sentence according to TextBlog (from raw data):\")\n",
    "print(df[df[\"abs_subjectivity\"] == max(df[\"abs_subjectivity\"])].Abstract.values)\n",
    "print(\"\\nMost subjective sentence according to TextBlog (after data cleaning):\")\n",
    "print(df[df[\"abs_subjectivity\"] == max(df[\"abs_subjectivity\"])].corpus1.values)\n",
    "#print(list((df[\"abs_subjectivity\"] == max(df[\"abs_subjectivity\"]))))\n",
    "\n",
    "# Check the most negative sentence\n",
    "print(\"\\nMost negative sentence according to TextBlog:\")\n",
    "print(df[df[\"abs_polarity\"] == min(df[\"abs_polarity\"])].Abstract.values[0])\n",
    "\n",
    "# just sanity check correlation between years from publication and number of citations\n",
    "print(np.corrcoef(years_from_pub, df['Cited by']))"
   ]
  },
  {
   "cell_type": "code",
   "execution_count": 10,
   "metadata": {},
   "outputs": [],
   "source": [
    "# Sentiment analysis using pysentiment2\n",
    "import pysentiment2 as ps\n",
    "lm = ps.LM()\n",
    "list_scores = []\n",
    "for i in range(0,len(corpus)):\n",
    "    tokens = lm.tokenize(corpus[i])\n",
    "    score = lm.get_score(tokens)\n",
    "    list_scores.append(score)"
   ]
  },
  {
   "cell_type": "code",
   "execution_count": 11,
   "metadata": {},
   "outputs": [],
   "source": [
    "# create dataframe od pysentiment2 scores with same index of df\n",
    "df_sentiment = pd.DataFrame.from_dict(list_scores) \n",
    "df_sentiment.set_index(df.index, drop = True, inplace = True)"
   ]
  },
  {
   "cell_type": "code",
   "execution_count": 12,
   "metadata": {},
   "outputs": [
    {
     "name": "stdout",
     "output_type": "stream",
     "text": [
      "this study investigates the effects of rewards in a research and development (r&d) setting in which employees' inventive efforts lead to patented inventions. pay for performance (pfp) for inventions is associated with two challenges: low-quality inventions may be rewarded (false positives), and high-quality inventions may be overlooked (false negatives). building on previous findings regarding the motivational and informational effects of rewards, we use social identity theory to predict that different types of inventors react differently to such false positive and false negative information. specifically, we hypothesize that pfp that produces false positives has detrimental effects on corporate inventors with a taste for science, who are motivated by scientific prestige, reputation, and intellectual curiosity. the empirical results from survey data related to 3, 995 inventor-patent pairs show that, for this particular group of inventors, false positives are associated with reduced effort in research activities and fewer interactions with peers in the r&d department. in addition, these effects are stronger when firms have many patents and thus provide less noisy information to corporate inventors. © academy of management journal.\n",
      "CORRELATION WITH CITATIONS\n",
      "subjectivity:\n",
      "SpearmanrResult(correlation=0.05181137983512944, pvalue=5.724417974926262e-06)\n",
      "polarity:\n",
      "SpearmanrResult(correlation=0.05984105998172661, pvalue=1.6011364872825878e-07)\n",
      "\n",
      "CORRELATION WITH CITATIONS/YEAR FROM PUBLICATION\n",
      "subjectivity:\n",
      "SpearmanrResult(correlation=0.06794969214504222, pvalue=2.6458321554166884e-09)\n",
      "polarity:\n",
      "SpearmanrResult(correlation=0.05267556151041719, pvalue=3.986445040483953e-06)\n",
      "\n",
      "CORRELATION BETWEEN TEXBLOB AND PYSENT2\n",
      "subjectivity:\n",
      "SpearmanrResult(correlation=0.10122546844947487, pvalue=6.709536042451786e-19)\n",
      "polarity:\n",
      "SpearmanrResult(correlation=0.15442739536403885, pvalue=4.385386183344563e-42)\n"
     ]
    },
    {
     "data": {
      "image/png": "[encoded data removed]",
      "text/plain": [
       "<Figure size 576x396 with 1 Axes>"
      ]
     },
     "metadata": {},
     "output_type": "display_data"
    },
    {
     "data": {
      "image/png": "[encoded data removed]",
      "text/plain": [
       "<Figure size 576x396 with 1 Axes>"
      ]
     },
     "metadata": {},
     "output_type": "display_data"
    }
   ],
   "source": [
    "# printing most subjective sentence according to pysentiment2\n",
    "print(df[df_sentiment.Subjectivity == max(df_sentiment.Subjectivity)].Abstract.values[0])\n",
    "\n",
    "# Check correlation\n",
    "print(\"CORRELATION WITH CITATIONS\")\n",
    "print(\"subjectivity:\")\n",
    "print(spearmanr(df_sentiment.Subjectivity, df['Cited by']))\n",
    "print(\"polarity:\")\n",
    "print(spearmanr(df_sentiment.Polarity, df['Cited by']))\n",
    "\n",
    "print(\"\\nCORRELATION WITH CITATIONS/YEAR FROM PUBLICATION\")\n",
    "print(\"subjectivity:\")\n",
    "print(spearmanr(df_sentiment.Subjectivity, df['Cited by']/years_from_pub))\n",
    "print(\"polarity:\")\n",
    "print(spearmanr(df_sentiment.Polarity, df['Cited by']/years_from_pub))\n",
    "\n",
    "print(\"\\nCORRELATION BETWEEN TEXBLOB AND PYSENT2\")\n",
    "print(\"subjectivity:\")\n",
    "print(spearmanr(df_sentiment.Subjectivity, df[\"abs_subjectivity\"]))\n",
    "print(\"polarity:\")\n",
    "print(spearmanr(df_sentiment.Polarity, df[\"abs_polarity\"]))\n",
    "plt.scatter(df_sentiment.Polarity, df[\"abs_polarity\"])\n",
    "plt.title(\"Rank correlation polarity Textblob-pysent2\")\n",
    "plt.show()\n",
    "plt.scatter(df_sentiment.Subjectivity, df[\"abs_subjectivity\"])\n",
    "plt.title(\"Rank correlation subjectivity Textblob-pysent2\")\n",
    "plt.show()"
   ]
  },
  {
   "cell_type": "code",
   "execution_count": 40,
   "metadata": {},
   "outputs": [
    {
     "data": {
      "image/png": "[encoded data removed]",
      "text/plain": [
       "<Figure size 576x396 with 1 Axes>"
      ]
     },
     "metadata": {},
     "output_type": "display_data"
    },
    {
     "data": {
      "image/png": "[encoded data removed]",
      "text/plain": [
       "<Figure size 576x396 with 1 Axes>"
      ]
     },
     "metadata": {},
     "output_type": "display_data"
    },
    {
     "data": {
      "image/png": "[encoded data removed]",
      "text/plain": [
       "<Figure size 576x396 with 1 Axes>"
      ]
     },
     "metadata": {},
     "output_type": "display_data"
    },
    {
     "data": {
      "image/png": "[encoded data removed]",
      "text/plain": [
       "<Figure size 576x396 with 1 Axes>"
      ]
     },
     "metadata": {},
     "output_type": "display_data"
    }
   ],
   "source": [
    "# HISTOGRAMS with the distribution of scores with the 2 packages\n",
    "plt.hist(df[\"abs_polarity\"])\n",
    "plt.title(\"Polarity with TextBlob\")\n",
    "plt.show()\n",
    "plt.hist(df_sentiment[\"Polarity\"])\n",
    "plt.title(\"Polarity with pysentiment2\")\n",
    "plt.show()\n",
    "plt.hist(df[\"abs_subjectivity\"])\n",
    "plt.title(\"Subjectivity with TextBlob\")\n",
    "plt.show()\n",
    "plt.hist(df_sentiment[\"Subjectivity\"])\n",
    "plt.title(\"Subjectivity with pysentiment2\")\n",
    "plt.show()"
   ]
  },
  {
   "cell_type": "code",
   "execution_count": 41,
   "metadata": {},
   "outputs": [
    {
     "name": "stdout",
     "output_type": "stream",
     "text": [
      "99th percentile polarity: 0.28483005050505117\n",
      "\n",
      " 99th percentile SUBJECTIVITY: 0.7531925133689845\n",
      "              polarity  subjectivity\n",
      "appropriate   0.500000      0.500000\n",
      "certain       0.214286      0.571429\n",
      "empirical     0.100000      0.100000\n",
      "relevant      0.400000      0.900000\n",
      "effectively   0.600000      0.800000\n",
      "...                ...           ...\n",
      "successfully  0.750000      0.950000\n",
      "ethically     0.200000      0.600000\n",
      "robotic      -0.100000      0.200000\n",
      "ethical       0.200000      0.600000\n",
      "artificially -0.600000      1.000000\n",
      "\n",
      "[63 rows x 2 columns]\n",
      "\n",
      "The above are the 63 most recurring words with a positive polarity score in the abstracts that have the top 1% score in terms of polarity\n"
     ]
    }
   ],
   "source": [
    "from collections import Counter\n",
    "from bs4 import BeautifulSoup\n",
    "\n",
    "# FOCUS TextBlob <--\n",
    "# Read the file with the scores associated to each word in TextBlob\n",
    "# HOWEVER notice that there are differences between these values and those obtained with TextBlob().sentiment\n",
    "pattern_words_file = open(r\"textblob_dict.txt\", \"r\").read()\n",
    "\n",
    "# Here we transform the html file into a dictionary of dictionaries\n",
    "dict_of_dicts = {}\n",
    "soup = BeautifulSoup(pattern_words_file,  \"html.parser\")\n",
    "for line in soup.find_all(\"word\"):\n",
    "    # Try/except needed because sometimes \"confidence\" is called \"reliability\"\n",
    "    try: \n",
    "        partial_dict = {'subjectivity' : line.attrs['subjectivity'],\n",
    "                       'polarity' : line.attrs['polarity'],\n",
    "                       'intensity' : line.attrs['intensity'],\n",
    "                       'confidence' : line.attrs['confidence']}\n",
    "    except:\n",
    "        partial_dict = {'subjectivity' : line.attrs['subjectivity'],\n",
    "                       'polarity' : line.attrs['polarity'],\n",
    "                       'intensity' : line.attrs['intensity'],\n",
    "                       'confidence' : line.attrs[\"reliability\"]}\n",
    "    dict_of_dicts[line.attrs[\"form\"]] =  partial_dict\n",
    "\n",
    "# And finally get the data in a DataFrame\n",
    "Text_BloB_Dict = pd.DataFrame.from_dict(dict_of_dicts, orient = 'index')\n",
    "\n",
    "# print percentiles of the TextBlob polarity distribution\n",
    "perc = np.percentile(df[\"abs_polarity\"], np.arange(0, 100, 1))[-1]\n",
    "print(\"99th percentile polarity:\", perc)\n",
    "\n",
    "# Create a list with all the words of the abstracts in the top something% for polarity\n",
    "all_words = []\n",
    "for lista in df[df.abs_polarity>perc].corpus1_token: # Select only those abstract that are in top 1%\n",
    "    all_words.extend(lista)\n",
    "    \n",
    "# Counting the most occuring words among these abstracts\n",
    "wordz = pd.Series(Counter(all_words), index=Counter(all_words).keys())\n",
    "\n",
    "# Printing subjectivity and polarity associated with those words that occur more than once in these abstract\n",
    "sent_dict = {}\n",
    "for w in wordz[wordz>1].index: # here this number should be such that we have a treatable number of words <---\n",
    "    sent = TextBlob(w).sentiment\n",
    "    if (sent[0]!= 0):\n",
    "        word_dict = {\"polarity\" : sent[0], \"subjectivity\" : sent[1]}\n",
    "        sent_dict[w] = word_dict\n",
    "        \n",
    "# SAME THING FOR SUBJECTIVITY\n",
    "perc = np.percentile(df[\"abs_subjectivity\"], np.arange(0, 100, 1))[-1]\n",
    "print(\"\\n 99th percentile SUBJECTIVITY:\", perc)\n",
    "\n",
    "# Create a list with all the words of the abstracts in the top something% for polarity\n",
    "all_words = []\n",
    "for lista in df[df.abs_subjectivity>perc].corpus1_token: # Select only those abstract that are in top 1%\n",
    "    all_words.extend(lista)\n",
    "    \n",
    "# Counting the most occuring words among these abstracts\n",
    "wordz = pd.Series(Counter(all_words), index=Counter(all_words).keys())\n",
    "sent_word_data = pd.DataFrame.from_dict(sent_dict, orient = \"index\")\n",
    "print(sent_word_data)\n",
    "print(f\"\\nThe above are the {sent_word_data.polarity.size} most recurring words with a positive polarity score in the abstracts that have the top 1% score in terms of polarity\")"
   ]
  },
  {
   "cell_type": "code",
   "execution_count": 42,
   "metadata": {},
   "outputs": [
    {
     "name": "stdout",
     "output_type": "stream",
     "text": [
      "Sentiment(polarity=0.13636363636363635, subjectivity=0.45454545454545453)\n",
      "Sentiment(polarity=0.0, subjectivity=0.6)\n",
      "Sentiment(polarity=0.06818181818181818, subjectivity=0.5272727272727272)\n",
      "Sentiment(polarity=0.4, subjectivity=0.675)\n",
      "Sentiment(polarity=0.4, subjectivity=0.675)\n"
     ]
    }
   ],
   "source": [
    "# Just checking a few words manually\n",
    "# There are differences between these values and those of the Text_BloB_Dict DataFrame <---\n",
    "print(TextBlob(\"new\").sentiment)\n",
    "print(TextBlob(\"different\").sentiment)\n",
    "print(TextBlob(\"new different\").sentiment)\n",
    "print(TextBlob(\"great idea for different reasons\").sentiment)\n",
    "print(TextBlob(\"I would say that this is a great different idea for the weekend car submarine road house bins\").sentiment)"
   ]
  },
  {
   "cell_type": "code",
   "execution_count": 43,
   "metadata": {},
   "outputs": [
    {
     "name": "stdout",
     "output_type": "stream",
     "text": [
      "Index(['Word', 'Sequence Number', 'Word Count', 'Word Proportion',\n",
      "       'Average Proportion', 'Std Dev', 'Doc Count', 'Negative', 'Positive',\n",
      "       'Uncertainty', 'Litigious', 'Constraining', 'Superfluous',\n",
      "       'Interesting', 'Modal', 'Irr_Verb', 'Harvard_IV', 'Syllables',\n",
      "       'Source'],\n",
      "      dtype='object')\n",
      "0     AARDVARK\n",
      "1    AARDVARKS\n",
      "2        ABACI\n",
      "3        ABACK\n",
      "4       ABACUS\n",
      "Name: Word, dtype: object\n",
      "['great', 'idea', 'differ', 'reason']\n",
      "{'Positive': 1, 'Negative': 0, 'Polarity': 0.9999990000010001, 'Subjectivity': 0.24999993750001562}\n",
      "patent    5\n",
      "dtype: int64\n",
      "\n",
      "NEW SENTENCE \n",
      "\n",
      "conclus\n",
      "{'Positive': 1, 'Negative': 0, 'Polarity': 0.9999990000010001, 'Subjectivity': 0.9999990000010001}\n",
      "depend\n",
      "{'Positive': 1, 'Negative': 0, 'Polarity': 0.9999990000010001, 'Subjectivity': 0.9999990000010001}\n",
      "invent\n",
      "{'Positive': 1, 'Negative': 0, 'Polarity': 0.9999990000010001, 'Subjectivity': 0.9999990000010001}\n",
      "\n",
      "NEW SENTENCE \n",
      "\n",
      "reward\n",
      "{'Positive': 1, 'Negative': 0, 'Polarity': 0.9999990000010001, 'Subjectivity': 0.9999990000010001}\n",
      "reward\n",
      "{'Positive': 1, 'Negative': 0, 'Polarity': 0.9999990000010001, 'Subjectivity': 0.9999990000010001}\n",
      "\n",
      "NEW SENTENCE \n",
      "\n",
      "achiev\n",
      "{'Positive': 1, 'Negative': 0, 'Polarity': 0.9999990000010001, 'Subjectivity': 0.9999990000010001}\n",
      "success\n",
      "{'Positive': 1, 'Negative': 0, 'Polarity': 0.9999990000010001, 'Subjectivity': 0.9999990000010001}\n",
      "destin\n",
      "{'Positive': 1, 'Negative': 0, 'Polarity': 0.9999990000010001, 'Subjectivity': 0.9999990000010001}\n",
      "success\n",
      "{'Positive': 1, 'Negative': 0, 'Polarity': 0.9999990000010001, 'Subjectivity': 0.9999990000010001}\n",
      "\n",
      "NEW SENTENCE \n",
      "\n",
      "effici\n",
      "{'Positive': 1, 'Negative': 0, 'Polarity': 0.9999990000010001, 'Subjectivity': 0.9999990000010001}\n",
      "assur\n",
      "{'Positive': 1, 'Negative': 0, 'Polarity': 0.9999990000010001, 'Subjectivity': 0.9999990000010001}\n",
      "achiev\n",
      "{'Positive': 1, 'Negative': 0, 'Polarity': 0.9999990000010001, 'Subjectivity': 0.9999990000010001}\n",
      "assur\n",
      "{'Positive': 1, 'Negative': 0, 'Polarity': 0.9999990000010001, 'Subjectivity': 0.9999990000010001}\n",
      "\n",
      "NEW SENTENCE \n",
      "\n",
      "effici\n",
      "{'Positive': 1, 'Negative': 0, 'Polarity': 0.9999990000010001, 'Subjectivity': 0.9999990000010001}\n",
      "effici\n",
      "{'Positive': 1, 'Negative': 0, 'Polarity': 0.9999990000010001, 'Subjectivity': 0.9999990000010001}\n",
      "effici\n",
      "{'Positive': 1, 'Negative': 0, 'Polarity': 0.9999990000010001, 'Subjectivity': 0.9999990000010001}\n",
      "effici\n",
      "{'Positive': 1, 'Negative': 0, 'Polarity': 0.9999990000010001, 'Subjectivity': 0.9999990000010001}\n",
      "effici\n",
      "{'Positive': 1, 'Negative': 0, 'Polarity': 0.9999990000010001, 'Subjectivity': 0.9999990000010001}\n",
      "effici\n",
      "{'Positive': 1, 'Negative': 0, 'Polarity': 0.9999990000010001, 'Subjectivity': 0.9999990000010001}\n",
      "great\n",
      "{'Positive': 1, 'Negative': 0, 'Polarity': 0.9999990000010001, 'Subjectivity': 0.9999990000010001}\n",
      "\n",
      "NEW SENTENCE \n",
      "\n",
      "critic\n",
      "{'Positive': 0, 'Negative': 1, 'Polarity': -0.9999990000010001, 'Subjectivity': 0.9999990000010001}\n",
      "incid\n",
      "{'Positive': 0, 'Negative': 1, 'Polarity': -0.9999990000010001, 'Subjectivity': 0.9999990000010001}\n",
      "\n",
      "NEW SENTENCE \n",
      "\n",
      "ill\n",
      "{'Positive': 0, 'Negative': 1, 'Polarity': -0.9999990000010001, 'Subjectivity': 0.9999990000010001}\n",
      "difficult\n",
      "{'Positive': 0, 'Negative': 1, 'Polarity': -0.9999990000010001, 'Subjectivity': 0.9999990000010001}\n",
      "problem\n",
      "{'Positive': 0, 'Negative': 1, 'Polarity': -0.9999990000010001, 'Subjectivity': 0.9999990000010001}\n",
      "artifici\n",
      "{'Positive': 0, 'Negative': 1, 'Polarity': -0.9999990000010001, 'Subjectivity': 0.9999990000010001}\n",
      "overcom\n",
      "{'Positive': 0, 'Negative': 1, 'Polarity': -0.9999990000010001, 'Subjectivity': 0.9999990000010001}\n",
      "limit\n",
      "{'Positive': 0, 'Negative': 1, 'Polarity': -0.9999990000010001, 'Subjectivity': 0.9999990000010001}\n",
      "artifici\n",
      "{'Positive': 0, 'Negative': 1, 'Polarity': -0.9999990000010001, 'Subjectivity': 0.9999990000010001}\n",
      "\n",
      "NEW SENTENCE \n",
      "\n",
      "fail\n",
      "{'Positive': 0, 'Negative': 1, 'Polarity': -0.9999990000010001, 'Subjectivity': 0.9999990000010001}\n",
      "confus\n",
      "{'Positive': 0, 'Negative': 1, 'Polarity': -0.9999990000010001, 'Subjectivity': 0.9999990000010001}\n",
      "oppos\n",
      "{'Positive': 0, 'Negative': 1, 'Polarity': -0.9999990000010001, 'Subjectivity': 0.9999990000010001}\n",
      "investig\n",
      "{'Positive': 0, 'Negative': 1, 'Polarity': -0.9999990000010001, 'Subjectivity': 0.9999990000010001}\n",
      "\n",
      "NEW SENTENCE \n",
      "\n",
      "challeng\n",
      "{'Positive': 0, 'Negative': 1, 'Polarity': -0.9999990000010001, 'Subjectivity': 0.9999990000010001}\n",
      "implic\n",
      "{'Positive': 0, 'Negative': 1, 'Polarity': -0.9999990000010001, 'Subjectivity': 0.9999990000010001}\n",
      "\n",
      "NEW SENTENCE \n",
      "\n",
      "implic\n",
      "{'Positive': 0, 'Negative': 1, 'Polarity': -0.9999990000010001, 'Subjectivity': 0.9999990000010001}\n"
     ]
    }
   ],
   "source": [
    "# FOCUS Pysentiment2\n",
    "# Reading the pysentiment2 disctionary\n",
    "pysentiment2_dict = pd.read_csv(r\"pysentiment2_dict.csv\", sep = \";\")\n",
    "print(pysentiment2_dict.columns)\n",
    "print(pysentiment2_dict.Word[:5])\n",
    "\n",
    "tokens = lm.tokenize(\"this is a great idea for different reasons\")\n",
    "print(tokens)\n",
    "print(lm.get_score(tokens))\n",
    "\n",
    "all_words = []\n",
    "for lista in df[df_sentiment.Polarity>0.99][:2].corpus1:\n",
    "    all_words.extend(lm.tokenize(lista))\n",
    "wordz = pd.Series(Counter(all_words), index=Counter(all_words).keys())\n",
    "print(wordz[wordz>3].sort_values())\n",
    "\n",
    "# checking characteristics of extremely positive sentences\n",
    "for lista in df[df_sentiment.Polarity>0.99][:5].corpus1:\n",
    "    print(\"\\nNEW SENTENCE \\n\")\n",
    "    for w in lm.tokenize(lista):\n",
    "        if lm.get_score([w])[\"Polarity\"]!= 0:\n",
    "            print(w)\n",
    "            print(lm.get_score([w]))\n",
    "\n",
    "# Same for negative\n",
    "for lista in df[df_sentiment.Polarity<-0.99][:5].corpus1:\n",
    "    print(\"\\nNEW SENTENCE \\n\")\n",
    "    for w in lm.tokenize(lista):\n",
    "        if lm.get_score([w])[\"Polarity\"]!= 0:\n",
    "            print(w)\n",
    "            print(lm.get_score([w]))"
   ]
  },
  {
   "cell_type": "markdown",
   "metadata": {},
   "source": [
    "----\n",
    "\n",
    "## Word cloud\n"
   ]
  },
  {
   "cell_type": "code",
   "execution_count": 60,
   "metadata": {},
   "outputs": [
    {
     "data": {
      "image/png": "[encoded data removed]",
      "text/plain": [
       "<PIL.Image.Image image mode=RGB size=400x200 at 0x18BADA78A90>"
      ]
     },
     "execution_count": 60,
     "metadata": {},
     "output_type": "execute_result"
    }
   ],
   "source": [
    "from wordcloud import WordCloud\n",
    "\n",
    "\n",
    "long_string = ','.join(list(df['Abstract'].values))\n",
    "#print(long_string[1:100])\n",
    "\n",
    "wordcloud = WordCloud(background_color = \"white\", max_words = 5000, contour_width = 3,\n",
    "                     contour_color = 'steelblue')\n",
    "\n",
    "wordcloud.generate(long_string)\n",
    "\n",
    "wordcloud.to_image()"
   ]
  },
  {
   "cell_type": "markdown",
   "metadata": {},
   "source": [
    "## LDA - bigram + trigram + logistic regression\n"
   ]
  },
  {
   "cell_type": "code",
   "execution_count": 16,
   "metadata": {},
   "outputs": [],
   "source": [
    "from gensim.corpora import Dictionary\n",
    "from gensim.models import LdaModel\n",
    "dictionary2 = Dictionary(corpus2)\n",
    "dictionary2.filter_extremes(no_below=20, no_above=0.5)\n",
    "bi_corpus = [dictionary2.doc2bow(doc) for doc in corpus2]\n",
    "\n",
    "topic = []\n",
    "perplexity= []\n",
    "decay = []\n",
    "\n",
    "num_topics = 20\n",
    "temp = dictionary2[0]  # This is only to \"load\" the dictionary."
   ]
  },
  {
   "cell_type": "code",
   "execution_count": null,
   "metadata": {},
   "outputs": [],
   "source": []
  },
  {
   "cell_type": "code",
   "execution_count": null,
   "metadata": {},
   "outputs": [],
   "source": [
    "def compute_coherence_values(corpus, dictionary, k, a, b):\n",
    "    \n",
    "    lda_model = gensim.models.LdaMulticore(corpus=bi_corpus,\n",
    "                                           id2word=dictionary2,\n",
    "                                           num_topics=k, \n",
    "                                           workers = 7,\n",
    "                                           random_state=100,\n",
    "                                           chunksize=200,\n",
    "                                           passes=10,\n",
    "                                           alpha=a,\n",
    "                                           eta=b)\n",
    "    \n",
    "    coherence_model_lda1 = CoherenceModel(model=lda_model, texts=corpus2, dictionary=dictionary2, coherence='u_mass')\n",
    "    coherence_model_lda2 = CoherenceModel(model=lda_model, texts=corpus2, dictionary=dictionary2, coherence='c_v')\n",
    "    x = coherence_model_lda1.get_coherence()\n",
    "    y = coherence_model_lda2.get_coherence()\n",
    "    \n",
    "    return x, y"
   ]
  },
  {
   "cell_type": "code",
   "execution_count": null,
   "metadata": {},
   "outputs": [],
   "source": [
    "from gensim.models import CoherenceModel\n",
    "import numpy as np\n",
    "import tqdm\n",
    "\n",
    "grid = {}\n",
    "grid['Validation_Set'] = {}\n",
    "\n",
    "# Topics range\n",
    "min_topics = 5\n",
    "max_topics = 20\n",
    "step_size = 1\n",
    "topics_range = range(min_topics, max_topics, step_size)\n",
    "\n",
    "# Alpha parameter\n",
    "alpha = list(np.arange(0.01, 1, 0.3))\n",
    "alpha.append('symmetric')\n",
    "alpha.append('asymmetric')\n",
    "\n",
    "# Beta parameter\n",
    "beta = list(np.arange(0.01, 1, 0.3))\n",
    "beta.append('symmetric')\n",
    "beta.append('auto')\n",
    "\n",
    "# Validation sets\n",
    "num_of_docs = len(bi_corpus)\n",
    "corpus_sets = bi_corpus\n",
    "\n",
    "corpus_title = ['100% Corpus']\n",
    "\n",
    "model_results = {'Validation_Set': [],\n",
    "                 'Topics': [],\n",
    "                 'Alpha': [],\n",
    "                 'Beta': [],\n",
    "                 'Coherence_u': [],\n",
    "                 'Coherence_v': []\n",
    "                }\n",
    "\n",
    "# Can take a long time to run\n",
    "if 1 == 1:\n",
    "    pbar = tqdm.tqdm(total=(len(beta)*len(alpha)*len(topics_range)*len(corpus_title)))\n",
    "    \n",
    "    # iterate through validation corpuses\n",
    "    for i in range(len(corpus_sets)):\n",
    "        # iterate through number of topics\n",
    "        for k in topics_range:\n",
    "            # iterate through alpha va\n",
    "            for a in alpha:\n",
    "                # iterare through beta values\n",
    "                for b in beta:\n",
    "                    # get the coherence score for the given parameters\n",
    "                    u, v = compute_coherence_values(corpus=corpus_sets[i], dictionary=dictionary2, \n",
    "                                                  k=k, a=a, b=b)\n",
    "                    print(u, v)\n",
    "\n",
    "                    # Save the model results\n",
    "                    model_results['Validation_Set'].append(corpus_title[i])\n",
    "                    model_results['Topics'].append(k)\n",
    "                    model_results['Alpha'].append(a)\n",
    "                    model_results['Beta'].append(b)\n",
    "                    model_results['Coherence_u'].append(u)\n",
    "                    model_results['Coherence_v'].append(v)\n",
    "                    \n",
    "                    pbar.update(1)\n",
    "    pd.DataFrame(model_results).to_csv('./results/lda_tuning_results.csv', index=False)\n",
    "    pbar.close()"
   ]
  },
  {
   "cell_type": "code",
   "execution_count": null,
   "metadata": {},
   "outputs": [],
   "source": [
    "pd.DataFrame(model_results).to_csv('./results/lda_tuning_results.csv', index=False)"
   ]
  },
  {
   "cell_type": "code",
   "execution_count": null,
   "metadata": {},
   "outputs": [],
   "source": [
    "pd.DataFrame(model_results).max"
   ]
  },
  {
   "cell_type": "code",
   "execution_count": 17,
   "metadata": {},
   "outputs": [],
   "source": [
    "#The best model\n",
    "#coherence_u: topic 12, alpha 0.81, beta 0.91\n",
    "#coherence_v: topic 16, alpha: asymmetric, beta: 0.91\n",
    "num_topics_u = 12\n",
    "\n",
    "lda_model_u = gensim.models.LdaMulticore(corpus=bi_corpus,\n",
    "                                           id2word=dictionary2,\n",
    "                                           num_topics=num_topics_u, \n",
    "                                           random_state=100,\n",
    "                                           chunksize=100,\n",
    "                                           passes=20,\n",
    "                                           alpha=0.81,\n",
    "                                           eta=0.91)\n",
    "\n",
    "#num_topics_v = 16\n",
    "\n",
    "#lda_model_v = gensim.models.LdaMulticore(corpus=bi_corpus,\n",
    " #                                          id2word=dictionary2,\n",
    "  #                                         num_topics=num_topics_v, \n",
    "   #                                        random_state=100,\n",
    "    #                                       chunksize=100,\n",
    "     #                                      passes=20,\n",
    "      #                                     alpha= 'asymmetric',\n",
    "       #                                    eta=0.91)"
   ]
  },
  {
   "cell_type": "code",
   "execution_count": null,
   "metadata": {},
   "outputs": [],
   "source": [
    "from pprint import pprint\n",
    "\n",
    "# Print the Keyword in the 10 topics\n",
    "pprint(lda_model_u.print_topics())"
   ]
  },
  {
   "cell_type": "code",
   "execution_count": null,
   "metadata": {},
   "outputs": [],
   "source": [
    "pprint(lda_model_v.print_topics())"
   ]
  },
  {
   "cell_type": "code",
   "execution_count": 20,
   "metadata": {},
   "outputs": [
    {
     "name": "stdout",
     "output_type": "stream",
     "text": [
      "[0.031585038, 0.08781533, 0.2625214, 0.018940438, 0.017175902, 0.04575821, 0.015408423, 0.15554191, 0.25905085, 0.021132564, 0.06375875, 0.021311171]\n"
     ]
    }
   ],
   "source": [
    "#We need to plot the results\n",
    "\n",
    "train_vecs = []\n",
    "for i in range(len(df)):\n",
    "    top_topics = (\n",
    "        lda_model_u.get_document_topics(bi_corpus[i], minimum_probability = 0.0) #we capture the instances where a review is \n",
    "        #presented with 0% in some topics, and the representation for each review will add up to 100%\n",
    "    )\n",
    "    \n",
    "    topic_vec = [top_topics[i][1] for i in range(num_topics_u)]\n",
    "    train_vecs.append(topic_vec)\n",
    "    \n",
    "print(train_vecs[1])"
   ]
  },
  {
   "cell_type": "code",
   "execution_count": null,
   "metadata": {},
   "outputs": [],
   "source": [
    "train_vecs"
   ]
  },
  {
   "cell_type": "code",
   "execution_count": null,
   "metadata": {},
   "outputs": [],
   "source": [
    "#1990\n",
    "print(df[df['Year'] == 1990].index)\n",
    "print(df[df['Year'] == 2000].index)\n",
    "print(df[df['Year'] == 2010].index)\n",
    "print(df[df['Year'] == 2020].index)\n",
    "dftrain_vecs_1990 = pd.DataFrame(train_vecs[749:781])\n",
    "dftrain_vecs_2000 = pd.DataFrame(train_vecs[2844:3014])\n",
    "dftrain_vecs_2010 = pd.DataFrame(train_vecs[6400:6731])\n",
    "dftrain_vecs_2020 = pd.DataFrame(train_vecs[6732:7657])"
   ]
  },
  {
   "cell_type": "code",
   "execution_count": null,
   "metadata": {},
   "outputs": [],
   "source": [
    "fig, ax = plt.subplots()\n",
    "fig.set_figwidth(7)\n",
    "fig.set_figheight(5)\n",
    "ax.set_xlim([0,0.2])\n",
    "(dftrain_vecs_1990.sum()/dftrain_vecs_1990.sum().sum()).plot(kind = 'barh')\n",
    "\n",
    "fig, ax = plt.subplots()\n",
    "fig.set_figwidth(7)\n",
    "fig.set_figheight(5)\n",
    "ax.set_xlim([0,0.2])\n",
    "(dftrain_vecs_2000.sum()/dftrain_vecs_2000.sum().sum()).plot(kind = 'barh')\n",
    "\n",
    "fig, ax = plt.subplots()\n",
    "fig.set_figwidth(7)\n",
    "fig.set_figheight(5)\n",
    "ax.set_xlim([0,0.2])\n",
    "(dftrain_vecs_2010.sum()/dftrain_vecs_2010.sum().sum()).plot(kind = 'barh')\n",
    "\n",
    "fig, ax = plt.subplots()\n",
    "fig.set_figwidth(7)\n",
    "fig.set_figheight(5)\n",
    "ax.set_xlim([0,0.2])\n",
    "(dftrain_vecs_2020.sum()/dftrain_vecs_2020.sum().sum()).plot(kind = 'barh')"
   ]
  },
  {
   "cell_type": "code",
   "execution_count": null,
   "metadata": {},
   "outputs": [],
   "source": []
  },
  {
   "cell_type": "code",
   "execution_count": null,
   "metadata": {},
   "outputs": [],
   "source": [
    "#frequency plot\n",
    "location = []\n",
    "\n",
    "for i in range(len(train_vecs)):\n",
    "    maxi = max(train_vecs[i])\n",
    "    loc = train_vecs[i].index(maxi)\n",
    "    location.append(loc + 1)\n",
    "    \n",
    "df['Topic'] = location\n",
    "\n",
    "print(df['Topic'])"
   ]
  },
  {
   "cell_type": "code",
   "execution_count": null,
   "metadata": {},
   "outputs": [],
   "source": [
    "from matplotlib import pyplot as plt\n",
    "\n",
    "f, ax = plt.subplots(1, 1, figsize = (10, 10))\n",
    "\n",
    "df['Topic'].value_counts().plot(kind = 'barh') #horizontal frequency plot"
   ]
  },
  {
   "cell_type": "code",
   "execution_count": null,
   "metadata": {},
   "outputs": [],
   "source": [
    "(agg_topics.loc[2000,:]/agg_topics.loc[2000,:].sum())*100\n"
   ]
  },
  {
   "cell_type": "code",
   "execution_count": null,
   "metadata": {},
   "outputs": [],
   "source": [
    "from matplotlib import pyplot as plt\n",
    "agg_topics = df.groupby([df.index.year,'Topic'])['Topic'].count().unstack().fillna(0)\n",
    "agg_topics_1 = agg_topics.copy()\n",
    "\n",
    "for i in list(df.index.year.unique()):\n",
    "    print(i)\n",
    "    sum_ = agg_topics_1.loc[i,:].sum()\n",
    "    print(sum_)\n",
    "    agg_topics_1.loc[i,:] = (agg_topics_1.loc[i,:]/sum_) * 100\n"
   ]
  },
  {
   "cell_type": "code",
   "execution_count": null,
   "metadata": {},
   "outputs": [],
   "source": [
    "\n",
    "\n",
    "fig, ax = plt.subplots()\n",
    "\n",
    "\n",
    "fig.set_figwidth(7)\n",
    "fig.set_figheight(5)\n",
    "colors = ['black', 'slategray', 'lightcoral','peru','chocolate','darkorange',\n",
    "          'yellow','greenyellow','darkgreen','aquamarine','cyan',\n",
    "         'blue', 'violet','hotpink','pink','orchid','red','darkred']\n",
    "bottom = np.zeros(len(agg_topics))\n",
    "\n",
    "for i, col in enumerate(agg_topics.columns):\n",
    "  ax.bar(agg_topics.index, agg_topics[col], bottom=bottom, label=col,\n",
    "         color=colors[i])\n",
    "  bottom += np.array(agg_topics[col])\n",
    "\n",
    "ax.set_title('Topics by year')\n",
    "ax.legend()\n",
    "\n",
    "\n",
    "fig, ax = plt.subplots()\n",
    "fig.set_figwidth(10)\n",
    "fig.set_figheight(5)\n",
    "\n",
    "colors = ['black', 'slategray', 'lightcoral','peru','chocolate','darkorange',\n",
    "          'yellow','greenyellow','darkgreen','aquamarine','cyan',\n",
    "         'blue', 'violet','hotpink','pink','orchid','red','darkred']\n",
    "bottom = np.zeros(len(agg_topics_1))\n",
    "\n",
    "for i, col in enumerate(agg_topics_1.columns):\n",
    "  ax.bar(agg_topics_1.index, agg_topics_1[col], bottom=bottom, label=col,\n",
    "         color=colors[i])\n",
    "  bottom += np.array(agg_topics_1[col])\n",
    "\n",
    "ax.set_title('Topics by year (%)')\n",
    "ax.legend()"
   ]
  },
  {
   "cell_type": "code",
   "execution_count": null,
   "metadata": {},
   "outputs": [],
   "source": [
    "import pyLDAvis.gensim_models\n",
    "import pickle\n",
    "import pyLDAvis\n",
    "import os\n",
    "\n",
    "pyLDAvis.enable_notebook()\n",
    "\n",
    "LDAvis_data_filepath = os.path.join('./results/ldavis_prepared_'+ 'Final')\n",
    "\n",
    "if 1 == 1:\n",
    "    LDAvis_prepared = pyLDAvis.gensim_models.prepare(lda_model, bi_corpus, dictionary2)\n",
    "    with open(LDAvis_data_filepath,'wb') as f:\n",
    "        pickle.dump(LDAvis_prepared, f)\n",
    "        \n",
    "with open(LDAvis_data_filepath, 'rb') as f:\n",
    "    LDAvis_prepared = pickle.load(f)\n",
    "    \n",
    "pyLDAvis.save_html(LDAvis_prepared, './results/ldavis_prepared_'+ 'Final' + '.html')"
   ]
  },
  {
   "cell_type": "code",
   "execution_count": null,
   "metadata": {},
   "outputs": [],
   "source": [
    "pyLDAvis.gensim_models.prepare(lda_model, bi_corpus, dictionary2)"
   ]
  },
  {
   "cell_type": "code",
   "execution_count": null,
   "metadata": {},
   "outputs": [],
   "source": [
    "from collections import Counter\n",
    "\n",
    "Counter(df.coverDate).keys()"
   ]
  },
  {
   "cell_type": "code",
   "execution_count": null,
   "metadata": {},
   "outputs": [],
   "source": [
    "import pyLDAvis.gensim_models\n",
    "import pickle\n",
    "import pyLDAvis\n",
    "import os\n",
    "\n",
    "pyLDAvis.enable_notebook()\n",
    "\n",
    "LDAvis_data_filepath = os.path.join('./results/lda_'+str(num_topics))\n",
    "\n",
    "if 1 == 1:\n",
    "    LDAvis_prepared = pyLDAvis.gensim_models.prepare(lda_model, bi_corpus, dictionary2)\n",
    "    with open(LDAvis_data_filepath,'wb') as f:\n",
    "        pickle.dump(LDAvis_prepared, f)\n",
    "        \n",
    "with open(LDAvis_data_filepath, 'rb') as f:\n",
    "    LDAvis_prepared = pickle.load(f)\n",
    "    \n",
    "pyLDAvis.save_html(LDAvis_prepared, './results/lda_'+str(num_topics) + '.html')"
   ]
  },
  {
   "cell_type": "markdown",
   "metadata": {},
   "source": [
    "## Logistic Regression - Still need to add the sentiments\n",
    "\n",
    "### X: Topic distribution per corpus, year, Sentiment, author publication score, first author's university rank, \n",
    "\n",
    "### y: citation number\n",
    "\n",
    "### Things to do\n",
    "* k-cv to choose the optimal topic numbers\n",
    "* bigram\n",
    "* interaction term\n",
    "\n",
    "### Results\n",
    "\n",
    "We see that a normal logistic model performs the best in terms of f1 score\n",
    "\n",
    "* We can try other diagnostics."
   ]
  },
  {
   "cell_type": "markdown",
   "metadata": {},
   "source": [
    "### logistic regression (bigram)"
   ]
  },
  {
   "cell_type": "code",
   "execution_count": null,
   "metadata": {},
   "outputs": [],
   "source": [
    "from sklearn.model_selection import KFold\n",
    "from sklearn.preprocessing import StandardScaler\n",
    "from sklearn.linear_model import LogisticRegression\n",
    "from sklearn.metrics import f1_score\n",
    "from sklearn.linear_model import LinearRegression\n",
    "from sklearn.linear_model import SGDClassifier\n",
    "from sklearn.metrics import classification_report\n",
    "import numpy as np\n",
    "\n",
    "df.coverDate = df.coverDate.astype(str).str[0:4].astype(int)\n",
    "\n",
    "X = np.column_stack([train_vecs, df.coverDate, df[0]])\n",
    "y = np.array(df.citedby_count)\n",
    "y[y<=np.median(y)] = 0\n",
    "y[y>np.median(y)] = 1\n",
    "\n",
    "#import warnings\n",
    "#warnings.filterwarnings('ignore')\n",
    "\n",
    "kf = KFold(10, shuffle = True, random_state = 42)\n",
    "\n",
    "lr_score , lrsgd_score, svcsgd_score, cv_lr_f1, cv_lrsgd_f1, cv_svcsgd_f1, = [], [], [], [], [], []\n",
    "\n",
    "for train_ind, val_ind in kf.split(X,y):\n",
    "    X_train, y_train = X[train_ind], y[train_ind]\n",
    "    X_val, y_val = X[val_ind], y[val_ind]\n",
    "    scaler = StandardScaler()\n",
    "    X_train_scale = scaler.fit_transform(X_train)\n",
    "    X_val_scale = scaler.transform(X_val)\n",
    "    \n",
    "    lr = LogisticRegression(\n",
    "        class_weight = 'balanced',\n",
    "        solver = 'saga',\n",
    "        fit_intercept = True,\n",
    "        max_iter = 10000, \n",
    "        C = 0.8\n",
    "    ).fit(X_train_scale, y_train)\n",
    "    \n",
    "    \n",
    "    y_pred = lr.predict(X_val_scale)\n",
    "    cv_lr_f1.append(f1_score(y_val, y_pred, average='binary'))\n",
    "    lr_score.append(lr.score(X_val_scale, y_val))\n",
    "\n",
    "    sgd = SGDClassifier(\n",
    "        max_iter=10000,\n",
    "        tol=1e-3,\n",
    "        loss='log',\n",
    "        class_weight='balanced'\n",
    "    ).fit(X_train_scale, y_train)\n",
    "    \n",
    "    y_pred = sgd.predict(X_val_scale)\n",
    "    cv_lrsgd_f1.append(f1_score(y_val, y_pred, average='binary'))\n",
    "    lrsgd_score.append(sgd.score(X_val_scale, y_val))\n",
    "    # print(lrsgd_score)\n",
    "    \n",
    "    # SGD Modified Huber\n",
    "    sgd_huber = SGDClassifier(\n",
    "        max_iter=10000,\n",
    "        tol=1e-3,\n",
    "        alpha=20,\n",
    "        loss='modified_huber',\n",
    "        class_weight='balanced'\n",
    "    ).fit(X_train_scale, y_train)\n",
    "                       \n",
    "    y_pred = sgd_huber.predict(X_val_scale)\n",
    "    cv_svcsgd_f1.append(f1_score(y_val, y_pred, average='binary'))\n",
    "    svcsgd_score.append(sgd_huber.score(X_val_scale, y_val))\n",
    "\n",
    "print(f'Logistic Regression Val f1: {np.mean(cv_lr_f1):.3f} +- {np.std(cv_lr_f1):.3f}')\n",
    "print(f'Logisitic Regression SGD Val f1: {np.mean(cv_lrsgd_f1):.3f} +- {np.std(cv_lrsgd_f1):.3f}')\n",
    "print(f'SVM Huber Val f1: {np.mean(cv_svcsgd_f1):.3f} +- {np.std(cv_svcsgd_f1):.3f}')\n",
    "print(f'Logistic Regression Accuracy:{np.mean(lr_score)}')\n",
    "print(f'Logistic Regression SGD Accuracy:{np.mean(lrsgd_score)}')\n",
    "print(f'SVM Huber Accuracy:{np.mean(svcsgd_score)}')"
   ]
  },
  {
   "cell_type": "code",
   "execution_count": null,
   "metadata": {},
   "outputs": [],
   "source": [
    "print(sgd.coef_, sgd.intercept_)\n",
    "print(lr.coef_, lr.intercept_)"
   ]
  },
  {
   "cell_type": "markdown",
   "metadata": {},
   "source": [
    "# Word Embeddings"
   ]
  },
  {
   "cell_type": "markdown",
   "metadata": {},
   "source": [
    "### Loading the pre-trained Google's word2vec model\n",
    "How to make it work?\n",
    "- Dowload Google's trained Word2Vec model at: https://s3.amazonaws.com/dl4j-distribution/GoogleNews-vectors-negative300.bin.gz\n",
    "- unzip the .gz file"
   ]
  },
  {
   "cell_type": "code",
   "execution_count": 43,
   "metadata": {},
   "outputs": [],
   "source": [
    "import gensim\n",
    "# Load Google's pre-trained Word2Vec model.\n",
    "#model = gensim.models.KeyedVectors.load_word2vec_format(r'C:\\Users\\marco\\Desktop\\NLP_local\\notebook\\data\\GoogleNews-vectors-negative300.bin', binary=True)\n",
    "model = gensim.models.KeyedVectors.load_word2vec_format(r'C:\\Users\\USER\\OneDrive\\Documents\\Python\\NLP\\GoogleNews-vectors-negative300.bin', binary=True)"
   ]
  },
  {
   "cell_type": "markdown",
   "metadata": {},
   "source": [
    "### Creating a sentence embedding for each abstract\n",
    "\n",
    "In the cell below, we create the embedding for each word of the abstract using Google's word2vec model. Then we average all these vectors to obtain a unique abstract (sentence) embedding. This is repeated for all the abstracts in corpus1. Notice that corpus1 was created [here](#Creating-corpus1-and-corpus2)."
   ]
  },
  {
   "cell_type": "code",
   "execution_count": 44,
   "metadata": {},
   "outputs": [],
   "source": [
    "# Create an empty list used to store the abstract embedding\n",
    "list_word2vec_vector_max = []\n",
    "list_word2vec_vector_mean = []\n",
    "# Create an empty list to store the words that our model does not recognise\n",
    "list_missing_word = []\n",
    "\n",
    "# Loop all the abstracts in corpus1\n",
    "for i in range(len(corpus1)):\n",
    "    # Creating an empty list used to store the word embeddings of each word in the abstract\n",
    "    word_matrix = []\n",
    "    # Loop all the words in corpus1[i]\n",
    "    for word in corpus1[i]:\n",
    "        # Try/except is used here because if a word is not recognised by the model, an exception is raised\n",
    "        try:\n",
    "            # Embedding the word using our model\n",
    "            word_vector = model[word]\n",
    "            # Appending the embedding to the list of embeddings\n",
    "            word_matrix.append(word_vector)\n",
    "        except Exception as e:\n",
    "            # If the word is not recognised, it is stored in the list below\n",
    "            list_missing_word.append(word)\n",
    "    # Take the average over all the word embeddings of an abstract\n",
    "    sentence_embedding_max = np.max(np.asarray(word_matrix), axis = 0)\n",
    "    sentence_embedding_mean = np.mean(np.asarray(word_matrix), axis = 0)\n",
    "    # Append the average vector to the list below\n",
    "    list_word2vec_vector_max.append(sentence_embedding_max)\n",
    "    list_word2vec_vector_mean.append(sentence_embedding_mean)"
   ]
  },
  {
   "cell_type": "code",
   "execution_count": 47,
   "metadata": {},
   "outputs": [
    {
     "name": "stdout",
     "output_type": "stream",
     "text": [
      "{'preregistere', 'itprosocial', 'unicauca', 'cwl', 'lss', 'hine', 'denisi', 'reba', 'prosociality', 'curvilinearly', 'vanet', 'precisionof', 'wouldndard', 'duhlberg', 'pronpo', 'reynold', 'holbrook', 'discretize', 'sheehan', 'matically', 'bravadoa', 'abductive', 'messner', 'papatheodorou', 'mcquillin', 'omani', 'markham', 'guangdong', 'linh', 'balachandran', 'industriale', 'ctsa', 'amersfoort', 'overfitte', 'boreca', 'asynchronicity', 'ecsr', 'lorena', 'ccfs', 'worldcat', 'dqc', 'dvm', 'enrolment', 'charlier', 'scotiabank', 'analogie', 'habermas', 'azsecure', 'iug', 'gsd', 'nonfranchise', 'nesta', 'predstave', 'gsdl', 'jame', 'threelayer', 'derivedby', 'autocorrelated', 'cyberharasser', 'megacitie', 'multischool', 'npo', 'ddb', 'zhongguancun', 'kirznerian', 'minitab', 'politecnica', 'budap', 'scaleit', 'screenwrite', 'swb', 'hyp', 'npi', 'astec', 'taguchi', 'maguire', 'cplex', 'blount', 'unimap', 'navs', 'werner', 'venturesserve', 'jbf', 'gbc', 'discretise', 'bof', 'rouwenhorst', 'lbo', 'underexplore', 'ecbas', 'vcpu', 'vcm', 'sciendo', 'erbac', 'vistrail', 'esarbica', 'sogen', 'dumitrescu', 'cfh', 'brignall', 'palgrave', 'andrewehrenberg', 'mcrm', 'multicriteria', 'e_i', 'khorasan', 'reweighte', 'frequencie', 'machiavelli', 'eska', 'smec', 'comptabilité', 'servitization', 'sfla', 'hierarchial', 'parzen', 'unaccustome', 'wortzel', 'rtc', 'npp', 'pprs', 'apnom', 'gruyter', 'assp', 'alertnes', 'ellingsen', 'ioc', 'crsp', 'iaas', 'tta', 'formalise', 'dijk', 'drewe', 'complexresearch', 'characterised', 'lgss', 'bvar', 'jinhong', 'lsva', 'identifikovane', 'psel', 'egyptair', 'bartlett', 'bernhofen', 'netbean', 'chd', 'capgemini', 'moneyness', 'ftsm', 'enplane', 'jabbar', 'cressy', 'colour', 'otley', 'dmb', 'scalle', 'taffi', 'satisfiable', 'bandung', 'nonuniformity', 'riegle', 'krnn', 'chiradzulu', 'malden', 'iwb', 'ularly', 'chercheur', 'muzyka', 'collectiononly', 'labuan', 'smf', 'syverson', 'resenje', 'cfpt', 'leveragability', 'postwrite', 'fefr', 'conative', 'superspecialty', 'ehevi', 'neurophysical', 'decisionsupport', 'enrol', 'argyris', 'kephart', 'policani', 'wenchuan', 'sbms', 'speich', 'multilinear', 'anli', 'kokina', 'interrenewal', 'ruskin', 'kodisa', 'repset', 'pmcf', 'aristotle', 'multiset', 'edelman', 'valdez', 'wasserstein', 'grosch', 'warrantability', 'tct', 'subassemblie', 'emar', 'pronge', 'languange', 'marsha', 'schein', 'brousselle', 'bdc', 'pinter', 'monocentric', 'royer', 'colourimetric', 'kaynardağ', 'svdd', 'sternberg', 'nct', 'orgmind', 'établit', 'verlag', 'gilson', 'regresion', 'aacei', 'valaskova', 'csps', 'mgsa', 'expérimentaux', 'hypodynamy', 'jvec', 'nmpso', 'ghanaian', 'réglementation', 'weibull', 'psychinfo', 'rawlsian', 'embe', 'ssrim', 'herzlinger', 'dadirri', 'scds', 'dehazing', 'acrn', 'biljana', 'copq', 'ishii', 'jttm', 'altay', 'sabio', 'nondual', 'hliaoutaki', 'delocalize', 'irredenta', 'overviewe', 'wilk', 'tisshaw', 'subproblem', 'hubot', 'reengineere', 'tionable', 'denoise', 'cesaer', 'björn', 'liberec', 'byron', 'zimmerman', 'moalo', 'summarisation', 'nonmetric', 'bitkina', 'qms', 'disamenitie', 'thieme', 'bory', 'thurstone', 'systemstend', 'polanyi', 'dbase', 'gruaauskas', 'norvig', 'usand', 'boudreau', 'msvm', 'artmap', 'xer', 'localise', 'noninnovative', 'combinative', 'sabina', 'seeman', 'faris', 'synatagmatic', 'proizvodnje', 'decentralised', 'mca', 'muyzenberg', 'disconfirmation', 'hyposthenic', 'piecewise', 'ewma', 'acsus', 'pbc', 'ccfo', 'ctm', 'cusum', 'larcker', 'slt', 'centrepiece', 'mouffe', 'recontracte', 'affordance', 'knust', 'anexploratory', 'winspid', 'jadoon', 'osn', 'mutc', 'boundedly', 'nonengagement', 'ardl', 'gennadiy', 'jaccard', 'crar', 'varietey', 'publishe', 'forbe', 'maría', 'behavioural', 'pathtracker', 'iept', 'bradbery', 'itajaí', 'gof', 'hter', 'berton', 'macbeth', 'backteste', 'coauthorship', 'splus', 'caaa', 'riemannian', 'kastomizovana', 'shai', 'fayoum', 'wrangele', 'relieff', 'exponetial', 'sengupta', 'flowbroker', 'tism', 'mobilising', 'dheyaa', 'eeuis', 'metalworke', 'dudewicz', 'sbm', 'seniormanager', 'bioner', 'fasb', 'bva', 'spiegel', 'perbadanan', 'regenwetter', 'gedimina', 'cameroon', 'ficdp', 'elasticsearch', 'pdma', 'customise', 'mkurlaender', 'loyalt', 'abbariki', 'acnielsen', 'ittner', 'hurwicz', 'dechow', 'asimov', 'gchwpp', 'peton', 'babalola', 'biberman', 'erv', 'engle', 'cmcs', 'mksc', 'kasparov', 'tdkde', 'tenaris', 'dblp', 'simunic', 'eurasia', 'thurik', 'gompertz', 'wisniewski', 'incentivise', 'sgpso', 'codifiability', 'uated', 'erepublic', 'skille', 'psnr', 'jedan', 'boydell', 'grygorii', 'snss', 'strengthtene', 'devanagari', 'aidua', 'sorrounde', 'nearoptimal', 'amts', 'sbla', 'fuzzifie', 'seman', 'polytechnica', 'cocitation', 'boq', 'purposean', 'lieven', 'ajpt', 'bnd', 'loggp', 'eci', 'cassandra', 'lilien', 'vietname', 'wsd', 'vima', 'pillay', 'bernoulli', 'samu', 'gomper', 'giacalone', 'hln', 'ciam', 'tci', 'agglomerative', 'aic', 'greenleaf', 'bourdieu', 'phm', 'umvue', 'rocle', 'ramchandran', 'weinstein', 'associazione', 'unexite', 'parallelly', 'aedem', 'hierarchize', 'sandia', 'lter', 'ancova', 'inconnu', 'paolacci', 'bdv', 'andrii', 'pencheon', 'mccarty', 'smu', 'gantt', 'modifie', 'nguyen', 'pmd', 'dupont', 'overfit', 'focale', 'economyof', 'fevs', 'gva', 'hcahps', 'scimago', 'ifrss', 'foliard', 'jom', 'vmd', 'scepticism', 'macquarie', 'cdss', 'babiak', 'keynesianism', 'vpl', 'gdl', 'granlund', 'nepalese', 'wnar', 'stlf', 'pdsq', 'eurojournal', 'nbd', 'vcim', 'scpc', 'smircich', 'proxie', 'katarina', 'gangnam', 'rusol', 'fernanda', 'universitie', 'qosplan', 'uree', 'chongqe', 'attsrnn', 'alrosa', 'gce', 'timekeepe', 'structuralmodel', 'disharmoniously', 'breadmake', 'jaikumar', 'delocalised', 'thorsten', 'dade', 'gaudinat', 'marjorie', 'alscal', 'lupia', 'toponymy', 'soureforge', 'cfos', 'shopbot', 'tvar', 'detlor', 'guokr', 'riginality', 'nasiry', 'ckci', 'salmo', 'spychalski', 'zajec', 'stepi', 'hpi', 'implicity', 'customisation', 'favourably', 'pillania', 'dnn', 'rmw', 'hodrick', 'sfas', 'esrabica', 'pafmea', 'erard', 'epicentre', 'inquirie', 'kobert', 'asubonteng', 'psychosyndrome', 'goldwyn', 'lesage', 'dsa', 'bitcoin', 'vuca', 'zmp', 'clmsr', 'jakšič', 'kashif', 'archimedean', 'nality', 'kaikoura', 'iren', 'stempreneur', 'floricel', 'nonrelevant', 'retek', 'pauleen', 'bapouh', 'ffbp', 'motowidlo', 'ccb', 'djia', 'vikram', 'toinvestee', 'lewin', 'machová', 'kachkoot', 'mdu', 'paq', 'cecile', 'lsdv', 'lazear', 'rta', 'beniger', 'geoffrey', 'mrcpsp', 'insturmentality', 'jungian', 'blackwell', 'familism', 'problematized', 'submodular', 'barki', 'payperformance', 'etrs', 'creativecommon', 'spede', 'czestochowa', 'obm', 'declarativeness', 'whelan', 'pdlrec', 'rosenberg', 'ceteris', 'karafiath', 'deeg', 'uzbekistan', 'inscape', 'icehr', 'orthonormal', 'maxqdaplus', 'mcvay', 'ladhari', 'subcriteria', 'socialisation', 'plotly', 'khasawneh', 'intellicrane', 'unrivalled', 'sipp', 'workcrew', 'marrie', 'beckman', 'satisficing', 'igor', 'configurational', 'ncrps', 'shiller', 'agential', 'surpasse', 'zaboluniversity', 'fondement', 'mct', 'nonconsciously', 'underteste', 'galician', 'hyperheuristic', 'abcgln', 'oralman', 'defourny', 'pursose', 'wwr', 'computerised', 'azemo', 'cdbn', 'ppak', 'masem', 'serhii', 'damian', 'heris', 'bradlow', 'antnet', 'santiago', 'nonsubjective', 'anfis', 'hdo', 'fcssa', 'rightholder', 'fhd', 'ehrs', 'westburn', 'taobao', 'mirlab', 'offrisk', 'latvian', 'mnl', 'interpretivism', 'knowledgein', 'nonchoice', 'hadley', 'isr', 'mfi', 'multibusiness', 'castilla', 'hisrich', 'posner', 'jinqiao', 'westhead', 'yif', 'bsdd', 'ivms', 'kluwer', 'hyperrectangles', 'perli', 'phronetic', 'wls', 'steenkamer', 'esport', 'hervner', 'smfs', 'wmsd', 'gephi', 'mdm', 'eley', 'manova', 'rnai', 'adhocracy', 'applbaum', 'gleckman', 'cpdr', 'acorde', 'cbhks', 'sociol', 'tesauro', 'angrist', 'clarivate', 'intramax', 'ardelt', 'cecchini', 'pheis', 'nfbs', 'deinstitutional', 'gearman', 'poolcoin', 'wrs', 'kotler', 'anily', 'caas', 'uhf', 'sitek', 'toyokeizai', 'nonbibliometric', 'siegel', 'corbusier', 'malgwi', 'tima', 'gpio', 'nomological', 'covid', 'salarie', 'kaisu', 'kovalenko', 'xcon', 'extremadura', 'lgebraic', 'dmp', 'energi', 'sandvika', 'ssdm', 'dsis', 'emphase', 'siderska', 'sciverse', 'pravaca', 'pnt', 'anllyze', 'analyser', 'scival', 'infrare', 'opportunie', 'colinearitie', 'englewood', 'yogyakarta', 'journalizing', 'ccp', 'bpnn', 'coword', 'longsworth', 'bollington', 'minsky', 'jscm', 'amalgamative', 'sackett', 'zpp', 'yamani', 'forskne', 'ghoshal', 'diigo', 'ampe', 'dsm', 'takala', 'maximise', 'cochrane', 'capitalisation', 'guba', 'esdsr', 'renqe', 'nγ', 'coulson', 'aktan', 'ofheo', 'kross', 'urcs', 'wordscore', 'interactionism', 'bombyx', 'resituate', 'ahvaz', 'pruža', 'friesen', 'lvfat', 'synthetization', 'hanadiningrat', 'iotrm', 'postadoption', 'macroflow', 'lesotho', 'idiographic', 'usvajanje', 'staffwelfare', 'sherwood', 'csg', 'fcip', 'irt', 'trajectorie', 'hipaa', 'bdt', 'librarie', 'ultsch', 'approximator', 'jaroslaw', 'hrb', 'asq', 'storytelle', 'rbfn', 'topicapp', 'csce', 'inne', 'fadf', 'yougov', 'joutz', 'topa', 'cataluña', 'fsp', 'nonconvex', 'upm', 'gpo', 'cbsm', 'limitationsto', 'papadopoulos', 'zhangjiang', 'ocaq', 'montecarlo', 'marager', 'kio', 'isomorphism', 'rokaya', 'tstdg', 'oee', 'catarina', 'refinerie', 'vocalic', 'fsqca', 'mislabele', 'tionnaire', 'knafou', 'debting', 'ceel', 'dsto', 'sussman', 'gmp', 'satfs', 'macneil', 'rationalisation', 'lawler', 'aidant', 'baig', 'goudey', 'ocde', 'berkowitz', 'tippett', 'residualize', 'bakken', 'mordoviastat', 'hyperplane', 'gmdh', 'pertamina', 'opinionate', 'abbie', 'teammember', 'mapp', 'classifieruse', 'individul', 'ruslan', 'reptree', 'lifedb', 'aacsb', 'svr', 'rasi', 'peirce', 'majluf', 'banomyong', 'jacoby', 'naof', 'griliche', 'étendre', 'subtask', 'belizean', 'manufactron', 'iza', 'tebuireng', 'jeroen', 'sightplan', 'tmar', 'itsm', 'linoff', 'singletary', 'aronson', 'routinise', 'multiindustry', 'reanalyse', 'bpr', 'labour', 'inconsidere', 'levitt', 'oit', 'purposea', 'nonaeronautical', 'pdss', 'iisc', 'artif', 'hvm', 'issm', 'nataliia', 'cttf', 'aimd', 'multiobjective', 'bms', 'dornbusch', 'tencent', 'foundto', 'unikent', 'orgnizational', 'assemblability', 'burkart', 'nbt', 'krut', 'swissair', 'uavs', 'mhi', 'unfavourable', 'navdisc', 'drucker', 'yandex', 'neighbourhood', 'roksa', 'jacoweb', 'unstandardized', 'bmss', 'erc', 'kumasi', 'condino', 'nonspecificity', 'rqlap', 'ptsd', 'foucauldian', 'ljur', 'fca', 'ugandan', 'tptns', 'qualittative', 'preteste', 'hormozgan', 'bpann', 'schumpterian', 'qol', 'smartware', 'undercounte', 'touchant', 'winnicott', 'americanization', 'histcite', 'divisionalised', 'brno', 'pantea', 'tlp', 'jenning', 'comanagement', 'simcorp', 'kwilinski', 'backt', 'eigenvector', 'recentmarkete', 'fortran', 'flavian', 'ffanns', 'fga', 'cobrande', 'triandis', 'anfi', 'imagenet', 'stretford', 'dffw', 'garfield', 'vinh', 'dmf', 'scrm', 'kappab', 'gsip', 'goodput', 'mooc', 'statgraphic', 'tegova', 'bankscope', 'jovanovic', 'bpmm', 'cgc', 'bagozzi', 'execucomp', 'csridow', 'cointegrate', 'kpis', 'bhaskar', 'aprogramme', 'mif', 'postpositivisme', 'giovanni', 'golodnikov', 'pdi', 'cdm', 'approximatively', 'ggum', 'hedberg', 'extsernal', 'neutrosophic', 'servicescape', 'bgs', 'lymman', 'problematised', 'tllfg', 'kanyakumari', 'wieland', 'lydenburg', 'optimizacija', 'wouter', 'kurlaender', 'banbeis', 'grampian', 'wfi', 'karlsson', 'dmss', 'cofinance', 'nmnl', 'fidler', 'scopus', 'comembership', 'posées', 'ubis', 'automl', 'mamc', 'volterra', 'successe', 'mercede', 'damij', 'sylhet', 'sifi', 'energise', 'rocha', 'moderational', 'overfishe', 'polysemy', 'denormalization', 'loignon', 'parchamijalal', 'vosviewer', 'conficte', 'dubnick', 'atbeq', 'kosko', 'abms', 'batra', 'mbnqa', 'frequentist', 'ramona', 'legitimise', 'hce', 'nataliya', 'rpca', 'sociocognitive', 'jvs', 'ovaj', 'haifa', 'moreon', 'pseudopanel', 'tendencie', 'allocaâtion', 'ccccodatamart', 'precariat', 'ebsco', 'ermmaturity', 'irhm', 'sensegive', 'videotext', 'efficacie', 'uninterpreted', 'blackorby', 'mainfeste', 'clauset', 'µk', 'enns', 'ooss', 'synthesiser', 'koivumäki', 'strickland', 'pelita', 'misclassifye', 'gep', 'hti', 'chainmanagement', 'khalifah', 'stutz', 'judit', 'ccfd', 'artm', 'vedanta', 'unexplore', 'reposent', 'elsevter', 'razmatrani', 'terminologie', 'narasimhan', 'glynn', 'clarifie', 'dtsma', 'ickis', 'mlr', 'personalitie', 'randstad', 'industrijske', 'mcpt', 'invs', 'etl', 'mje', 'malhotra', 'pullto', 'perak', 'sct', 'nonsequence', 'michelin', 'shapeway', 'helpinga', 'rostov', 'strategije', 'ingram', 'netnography', 'rirsmac', 'uass', 'dirsmith', 'beneficiairie', 'machinelearne', 'nonstationary', 'giacotto', 'caridad', 'callendar', 'orthogonality', 'adabooste', 'spedition', 'edgerank', 'nondominated', 'abb', 'iiit', 'ecuadorian', 'løkken', 'mtembu', 'chonko', 'wsn', 'favorableness', 'itdr', 'mathematica', 'nondominate', 'huelva', 'teradata', 'jdi', 'huffington', 'kepler', 'repositorie', 'dobijenih', 'pajek', 'msis', 'tsl', 'trieste', 'aosis', 'glosten', 'deschoolmeester', 'clv', 'ojthe', 'iae', 'gld', 'subcharge', 'dubois', 'triz', 'showroome', 'wipo', 'cabi', 'sieber', 'rudchenko', 'localisable', 'inderscience', 'baumol', 'constanze', 'reliaby', 'businessmedia', 'mould', 'wouldmake', 'derwent', 'nsga', 'bârsan', 'giscience', 'baosteel', 'psychophysic', 'kamakura', 'kochkarov', 'foucaultian', 'ttlbo', 'agqa', 'standardisation', 'pleistocene', 'kyst', 'arff', 'cengkareng', 'alfre', 'realisation', 'fwhr', 'prioritise', 'consequate', 'hartog', 'cogniive', 'buchner', 'nonnegative', 'kilometre', 'león', 'fnns', 'algerian', 'heslop', 'pregle', 'présentent', 'appelbaum', 'mackinnon', 'medline', 'inpro', 'baldrige', 'hsinchu', 'findingssee', 'microsegment', 'fmc', 'aurea', 'econlet', 'kpmg', 'kuah', 'theorisation', 'carvalho', 'symptomologie', 'pten', 'isds', 'technlogical', 'salajegheh', 'multiperiod', 'mitsufuji', 'shahjalal', 'clulow', 'hsrc', 'iil', 'shivaji', 'bnite', 'cognisant', 'enriche', 'multipli', 'kelm', 'problembase', 'burnard', 'multijudgment', 'fmea', 'csfr', 'cidi', 'cica', 'obverve', 'seiler', 'dwh', 'penang', 'aec', 'utme', 'cunliffe', 'aue', 'scsc', 'sbsd', 'lstwsvm', 'nnsvms', 'logicboost', 'automatization', 'bhakoo', 'imfm', 'steganogram', 'askme', 'bolivian', 'tunku', 'sete', 'ecbass', 'charne', 'kuwaiti', 'overarch', 'cauchy', 'twostep', 'conceptuality', 'copeland', 'nationalitie', 'factorize', 'kadaster', 'ifn', 'misrecording', 'baiyu', 'xpertrule', 'blix', 'hco', 'nairs', 'ghent', 'altmetric', 'ramallah', 'bosste', 'earthwatch', 'greenwich', 'valenta', 'ogd', 'nosq', 'memeplexe', 'belkrussell', 'generalise', 'jaskowski', 'realise', 'faulkner', 'mangasarian', 'fha', 'globalisation', 'taoism', 'organising', 'c_mifs', 'problemof', 'kornai', 'rindfleisch', 'inhume', 'rbv', 'economicus', 'jcr', 'dspace', 'iftm', 'progressable', 'minolta', 'niosi', 'qwl', 'ishikawa', 'yonsei', 'scip', 'nihl', 'slfns', 'devereux', 'lpar', 'durica', 'nvd', 'sefcik', 'nørreklit', 'validational', 'interfunctional', 'sbb', 'netlogo', 'sličnosti', 'uci', 'roboethic', 'prosig', 'ensembler', 'fjsppm', 'lart', 'bdfig', 'adf', 'mjes', 'sarima', 'abhijit', 'underemphasised', 'wilcoxon', 'sbu', 'fsvm', 'tait', 'mfis', 'svrg', 'enumerative', 'thealec', 'implementator', 'krox', 'soltani', 'misroute', 'e_t', 'fukushima', 'compustat', 'pbr', 'thepthepa', 'sufee', 'dfam', 'sensemaking', 'professiology', 'orbis', 'mardani', 'rso', 'makhlouf', 'transductive', 'subspecialize', 'aeneas', 'starbuck', 'spps', 'datumfor', 'verktoy', 'midttun', 'oclc', 'angele', 'gcg', 'θi', 'baranik', 'rmse', 'esvdd', 'geomarkete', 'seamate', 'complementally', 'leiden', 'bechhofer', 'ehdr', 'multidyadic', 'krnov', 'tagarob', 'oisa', 'marginalisation', 'haoyoe', 'geotagge', 'aln', 'noninformation', 'intersubjective', 'coughlan', 'routinize', 'massachusett', 'multibuying', 'genderedness', 'nonmate', 'considerer', 'chunhui', 'mcmc', 'kouze', 'capabilitie', 'vectorize', 'norand', 'internalise', 'takahasi', 'makushok', 'newfoundland', 'spb', 'katholieke', 'wisnicki', 'typesmental', 'intensitie', 'relevate', 'hrdcrm', 'nonminoritie', 'lifo', 'postt', 'practise', 'eisenhardt', 'ruiz', 'crosswalke', 'rasch', 'keahp', 'bangladeshi', 'nistep', 'tobin', 'lorek', 'biopartner', 'bdi', 'vsm', 'proteus', 'asbuilt', 'arimax', 'probabilite', 'bekk', 'pucik', 'aldine', 'razvoj', 'implie', 'muindi', 'qsar', 'gisa', 'cleland', 'romzek', 'crosscategory', 'jombang', 'uncapacitated', 'dsvm', 'fsql', 'bothmanagerial', 'warppls', 'whitty', 'msh', 'krishnamurti', 'mianyang', 'pbpk', 'osun', 'sdl', 'hml', 'deficiencie', 'heri', 'dickson', 'isfahan', 'interstice', 'razlike', 'mcneil', 'bonferroni', 'iwbs', 'hgabc', 'weger', 'postautomation', 'mtl', 'neurodivergent', 'oscedastic', 'atf', 'kinabalu', 'micex', 'toshio', 'pepperdine', 'durban', 'cdfi', 'raisa', 'elger', 'kcb', 'bayes', 'reuf', 'duffie', 'setzbuch', 'ilog', 'terravic', 'hokkaido', 'priem', 'xlri', 'mahalanobis', 'tibor', 'biais', 'tecnio', 'garch', 'leibler', 'ihmisroska', 'brawijaya', 'henkel', 'jasno', 'oajs', 'eeui', 'akerlof', 'hcmc', 'kantian', 'mihaela', 'scientrometric', 'xsome', 'julien', 'adivisor', 'kepner', 'tabataba', 'csf', 'tsit', 'cronbach', 'zeleny', 'milica', 'hglm', 'providerdriven', 'varia', 'feige', 'multiechelon', 'stpi', 'rwth', 'yemeni', 'ucdavis', 'nobe', 'glamorgan', 'indata', 'favourable', 'systematisation', 'smartpls', 'milliken', 'antai', 'ihc', 'hindcast', 'hownet', 'archaeology', 'subperiod', 'wittink', 'brunei', 'ocado', 'nanobiomedical', 'poboljšaju', 'ftopsis', 'semidefinite', 'gibrat', 'mbti', 'utilise', 'plementation', 'availabilitie', 'gasmote', 'rsi', 'websurvey', 'kahneman', 'cbbn', 'sahamyab', 'strazar', 'bober', 'tiere', 'albertina', 'coinvestor', 'nasdq', 'cumulativemse', 'varma', 'kasten', 'bilinear', 'frb', 'rsic', 'multisample', 'konačno', 'ekf', 'arwu', 'brigham', 'jonscher', 'varsom', 'θk', 'minh', 'assesse', 'aleksy', 'vsla', 'biophony', 'nonredundant', 'injurie', 'hmp', 'submarginal', 'hurtado', 'lep', 'kaggle', 'orthopaedic', 'preselecte', 'souder', 'skt', 'predlozima', 'cmip', 'rfq', 'spdc', 'updraught', 'annotative', 'perspect', 'duginet', 'nlp', 'obim', 'wolfson', 'istihalah', 'lmtpe', 'vcrs', 'pettengill', 'mne', 'unauthorised', 'kfas', 'nlc', 'sisp', 'mainstreame', 'casalo', 'mopso', 'struture', 'ssram', 'ipds', 'walrasian', 'thakor', 'riss', 'sgs', 'spamassassin', 'manoeuvre', 'reifie', 'empitican', 'statization', 'mcp', 'bousselmi', 'ipsative', 'zbigniew', 'catc', 'molina', 'innov', 'vikor', 'cemex', 'indicant', 'mentalise', 'hausdorff', 'macrosystem', 'majorca', 'treadway', 'sociostructural', 'sabah', 'gert', 'nonfirm', 'uncommunicated', 'stavytskyy', 'spt', 'carnegie', 'developeda', 'chengedzai', 'polarising', 'capitalise', 'dcm', 'morley', 'coomb', 'charitie', 'palma', 'tpl', 'aggarwal', 'shstream', 'udie', 'zuccolotto', 'intas', 'hesd', 'agoa', 'inimitability', 'subcorpus', 'fondazione', 'softwarize', 'mlrc', 'waterhouse', 'copd', 'ransac', 'pnn', 'israrely', 'thematization', 'saharan', 'esns', 'acede', 'malek', 'jpim', 'oslo', 'crbms', 'rolap', 'malawi', 'knns', 'armijo', 'selfdeclare', 'airbnb', 'vaswani', 'ofeach', 'exhaus', 'thelwall', 'grigaravicius', 'soundout', 'brussel', 'grenoble', 'lall', 'gratton', 'bvas', 'raiffa', 'radr', 'tmts', 'ukm', 'whistleblowe', 'chesser', 'flynn', 'ijiri', 'waud', 'gchwpps', 'connus', 'bonner', 'ilab', 'hdbk', 'hesc', 'eap', 'madanapalle', 'madan', 'dtl', 'unqualifie', 'ehrsyn', 'itf', 'dibella', 'dsr', 'lativia', 'posttraine', 'kell', 'agencie', 'beije', 'tfp', 'narx', 'fulfil', 'onstruct', 'malmquist', 'maup', 'gibb', 'tlbs', 'visualise', 'risds', 'grammatocentric', 'vgg', 'andriy', 'kantorovich', 'omnet', 'utilisation', 'forrero', 'arbana', 'eigentriple', 'panalpina', 'econometrica', 'ardy', 'fatalitie', 'rotondaro', 'worldshare', 'apporte', 'ekiti', 'kagmar', 'personalise', 'ikr', 'outli', 'unobserve', 'bpmn', 'mbank', 'microefficiency', 'talamanca', 'champy', 'anadarko', 'mdt', 'smirnov', 'rpn', 'dbfs', 'shci', 'decentralise', 'wum', 'lamem', 'fhc', 'tekućoj', 'generalised', 'deadlocke', 'equivariant', 'quingsong', 'ismf', 'mra', 'pischke', 'givon', 'lcs', 'hma', 'lassar', 'wfc', 'ithuman', 'metascience', 'bioflow', 'ivive', 'willey', 'externalist', 'fstgs', 'litschert', 'aforementio', 'disclosurewas', 'adaboost', 'ccpp', 'oklin', 'microbusinesse', 'subsidiarie', 'koliko', 'midwestem', 'sagepub', 'γo', 'respecifie', 'kimia', 'andmarketer', 'jusoh', 'pwc', 'antoine', 'imhm', 'heteromation', 'wos', 'domini', 'doaj', 'kinesic', 'rca', 'capitalia', 'jaanika', 'tunisian', 'treenet', 'gamifie', 'maxqda', 'overdispersed', 'organicity', 'wendin', 'burrell', 'parasuraman', 'kwazulu', 'wordnet', 'kedah', 'germanic', 'cognisance', 'fdsss', 'faria', 'nondiversifie', 'episteme', 'gesunde', 'tversky', 'erps', 'lotka', 'servperf', 'mib', 'qcs', 'bannay', 'plansa', 'ignatian', 'dfma', 'deskill', 'issnsm', 'indrnn', 'rulebase', 'taizhou', 'nnenna', 'django', 'wael', 'rubinstein', 'reapplye', 'khumalo', 'taphonomy', 'lingspam', 'dunnett', 'lcc', 'housewive', 'tullock', 'rehospitalize', 'mylaine', 'randd', 'lendingclub', 'butyrskyi', 'savva', 'tdnns', 'brinckerhoff', 'rocchio', 'ijcisim', 'mölnlycke', 'brw', 'finereader', 'leptokurtosis', 'healthsouth', 'kohli', 'sceptic', 'brdand', 'emarketer', 'organisational', 'bigram', 'nonacquire', 'fourand', 'objavljenih', 'suppresse', 'deshpandé', 'lbpc', 'educatee', 'istraživačke', 'optimisation', 'worthful', 'perkin', 'crociere', 'sqc', 'misspecifie', 'zmud', 'isv', 'ftz', 'orijentisanim', 'mdit', 'fcbr', 'rhqs', 'solly', 'gci', 'aaicr', 'glaser', 'studiase', 'entière', 'kriben', 'langkawi', 'ppdai', 'towardone', 'mcclelland', 'sfa', 'shehhi', 'ljung', 'noveri', 'nonmerge', 'pooya', 'laurence', 'tkci', 'dsod', 'mandla', 'keio', 'dichotomization', 'prioritie', 'varga', 'cnsg', 'forgauge', 'jone', 'böhm', 'majorization', 'gwr', 'način', 'beloit', 'esim', 'spc', 'pca', 'esbt', 'cbir', 'kib', 'ftth', 'internatioonal', 'computerise', 'certe', 'pinella', 'fdef', 'sánchez', 'capsnet', 'polynomially', 'shoshana', 'boyatzis', 'personalised', 'easd', 'eucleidian', 'intéressent', 'heterogenou', 'vantaa', 'rpa', 'putco', 'fpb', 'caaab', 'ratee', 'convolve', 'hdensity', 'buttres', 'scheper', 'latham', 'βs', 'vtb', 'qga', 'epresentation', 'ghiurca', 'phc', 'zeithaml', 'intuitionistic', 'cdrs', 'godini', 'undescribe', 'blanchard', 'spearman', 'walli', 'théorie', 'approachin', 'kerman', 'arbitrational', 'belk', 'allocentrism', 'mateusz', 'himalaya', 'lme', 'dmos', 'lilia', 'khadaroo', 'farsi', 'moenaert', 'siberia', 'sheth', 'hmi', 'dougherty', 'wechat', 'hfsp', 'noninventor', 'dmaic', 'bulgaria', 'rsome', 'kiryat', 'sciencedirect', 'oneclass', 'trialle', 'ethnopolitical', 'flander', 'mcintyre', 'laclau', 'nrf', 'vaiy', 'centre', 'chux', 'rsmean', 'elman', 'mggp', 'afdl', 'summarythe', 'diseconomie', 'unhampere', 'krep', 'wickham', 'rouble', 'glm', 'stiefel', 'kisa', 'ycrcb', 'ntbfs', 'cim', 'svmat', 'najaf', 'ziont', 'guttman', 'sharjah', 'mendeley', 'cfp', 'olga', 'aimr', 'pawel', 'loglinear', 'conveyable', 'chervonenki', 'dictionarie', 'implicationsthe', 'multiword', 'enquiry', 'obel', 'aibe', 'commercialise', 'comporte', 'nonsequential', 'dutton', 'gbest', 'rebull', 'nomo', 'rrm', 'yokoyama', 'kruskal', 'osburn', 'ahme', 'manski', 'pfi', 'icaqm', 'rbac', 'methontology', 'polya', 'idealised', 'subprocesse', 'rmc', 'biobjective', 'promislo', 'humanitie', 'ardenne', 'sankey', 'andpencil', 'karvina', 'publientelle', 'vilnius', 'ehrenberg', 'tma', 'miqp', 'objectbase', 'psycap', 'bellovary', 'ctsp', 'sodoeconomic', 'ssadm', 'pochó', 'cattell', 'ashtar', 'qur', 'dimoka', 'intertval', 'rsos', 'subbranch', 'nonadopting', 'kyqd', 'academiccareer', 'fwa', 'dopunjuje', 'nonelite', 'ranknet', 'imis', 'payet', 'highertendency', 'heckman', 'nadja', 'ssearch', 'fmcdm', 'bitnet', 'homescan', 'socialbots', 'mcb', 'proizvodnja', 'cagan', 'persistentid', 'deepmine', 'lintner', 'kuwaitis', 'multiobject', 'cnlopb', 'σk', 'huberman', 'marton', 'schumpeterian', 'eigenfactor', 'prirodu', 'smernice', 'datascience', 'openstack', 'aobdia', 'icipe', 'satisfaciton', 'leyen', 'karpuk', 'mazzon', 'oishi', 'alaskan', 'emh', 'diffserv', 'sensecount', 'nonassembled', 'cicid', 'multilayere', 'eliza', 'darsp', 'schmitt', 'muellbauer', 'gioia', 'vgtu', 'bimodality', 'akbari', 'cccco', 'aenea', 'acnn', 'cauca', 'semeval', 'awjs', 'sifs', 'volcker', 'mutanāqisat', 'nassera', 'cameroonian', 'voziq', 'tivitie', 'wolfgang', 'raquel', 'anto', 'ddl', 'celefish', 'woningwaarde', 'biotechnologie', 'andrzej', 'paramaterize', 'gollier', 'mnb', 'kto', 'krishnanand', 'pbt', 'rasht', 'extel', 'deming', 'ipv', 'wvs', 'findingsafter', 'toponymic', 'bmtl', 'odisha', 'globant', 'simonean', 'paulin', 'basedstructural', 'cvar', 'minimisation', 'unnormalized', 'tsrs', 'hebl', 'srull', 'autoregressive', 'maribor', 'implicationsin', 'cdf', 'peurifoy', 'negeri', 'firmlevel', 'padico', 'analyse', 'koppelman', 'jaque', 'intrafirm', 'gamber', 'pahat', 'glocalisation', 'bushehr', 'usqas', 'lsp', 'hagerty', 'crb', 'ijvs', 'delone', 'dtc', 'commodiously', 'dooley', 'ppu', 'nlmk', 'rutherford', 'digitalist', 'rvis', 'dardanoni', 'poursuite', 'takeuchi', 'sriv', 'multiplant', 'misrc', 'promethee', 'bisol', 'kember', 'mtsa', 'shafer', 'astrazeneca', 'ifi', 'cladogram', 'residualization', 'anatolii', 'renowne', 'sdae', 'kurdistan', 'psplib', 'bdo', 'disambiguitie', 'mckinsey', 'pereira', 'dbm', 'shushtar', 'porra', 'specialise', 'modic', 'aicpa', 'astd', 'probit', 'amrp', 'prespecifie', 'contribition', 'tripadvisor', 'chaid', 'vérification', 'metaknowledge', 'backu', 'kdn', 'mrmr', 'tensorflow', 'klaus', 'lbsns', 'qca', 'pcec', 'affranchise', 'randu', 'unintende', 'hatemi', 'quartic', 'botswana', 'framenet', 'inlpba', 'ntbi', 'equivocality', 'hss', 'unweighte', 'bavaria', 'trichotomous', 'rangaswamy', 'dataminer', 'tsinghua', 'prhf', 'hoang', 'fishbein', 'galbraith', 'expectancie', 'benford', 'behaviour', 'favour', 'nonearning', 'modalitie', 'neuijen', 'eccs', 'dpe', 'sociais', 'exceling', 'specialisation', 'neuromarkete', 'isac', 'harmonise', 'bafia', 'tshwane', 'khanzadi', 'scipost', 'nonsimultaneous', 'linearsupport', 'detaljan', 'inglehart', 'iem', 'olap', 'shibaura', 'fusari', 'dsci', 'ohsi_phase_one', 'hengshan', 'testiranje', 'uncoordinate', 'geophysic', 'tetrad', 'intohow', 'alphawise', 'husserl', 'mingaleva', 'mediocredito', 'klimoski', 'mabc', 'kalleh', 'wtps', 'rtexttool', 'pemediasi', 'polychoric', 'maslow', 'prosad', 'dynama', 'furtherly', 'efficiencie', 'bnc', 'hessel', 'organisation', 'keynesian', 'integrationof', 'huamin', 'aachen', 'thismodel', 'yeman', 'codeterminant', 'ncp', 'misutilization', 'dreher', 'janoskova', 'pkk', 'hrmp', 'marefat', 'inding', 'wsc', 'esn', 'illdegenerate', 'wenneker', 'glcm', 'nonemployment', 'busenitiz', 'inputte', 'footprinte', 'universiti', 'multicategory', 'rigg', 'premera', 'wodecki', 'huszárik', 'holoarch', 'lmx', 'hüsson', 'rfe', 'rct', 'lumpkin', 'slovak', 'panevezys', 'australasian', 'levenberg', 'hrua', 'panie', 'sahni', 'esther', 'raluca', 'stpe', 'icm', 'varimax', 'vfr', 'webqem', 'multiangle', 'hypernorm', 'bergen', 'tpls', 'kaminsky', 'existante', 'rvs', 'booz', 'clicitation', 'systemto', 'aee', 'emic', 'ffp', 'addleton', 'aspb', 'reconcille', 'emss', 'habituellement', 'pwm', 'eastman', 'powerlaw', 'colciencias', 'atla', 'mohamme', 'scqm', 'euclidean', 'speeche', 'borsa', 'chickering', 'likert', 'fifo', 'ccsbe', 'nhrd', 'emalahleni', 'fetscherin', 'pngt', 'categorise', 'pasw', 'kalinowski', 'inpc', 'undisclose', 'anm', 'wansink', 'ningxia', 'autonoma', 'darul', 'ofconjunction', 'mikrodata', 'gdss', 'leite', 'microapproache', 'acuman', 'softmax', 'cocomo', 'valueprevious', 'camerer', 'gacr', 'kohonen', 'egghe', 'vuong', 'internetworke', 'hppp', 'mnc', 'unconstraine', 'gpos', 'schachtebeck', 'gendere', 'rtb', 'pmit', 'onedrive', 'standardise', 'rbde', 'prentice', 'yushu', 'unstructure', 'cdp', 'perugini', 'ordermarkov', 'pubme', 'nasatalk', 'falih', 'eeg', 'ipd', 'epspm', 'bdareen', 'taipei', 'echain', 'pentad', 'autoreflective', 'ridder', 'sevi', 'kekre', 'acpil', 'ciber', 'jeta', 'waldinger', 'wti', 'sbmpim', 'ecls', 'πi', 'maximisation', 'wbsn', 'capm', 'blibliometric', 'stefano', 'iasb', 'farness', 'ptc', 'rfr', 'subgoal', 'urovi', 'veronika', 'kazakhstan', 'egbs', 'mdlm', 'hopfield', 'leptokurtic', 'mufee', 'cbhbks', 'hbw', 'cobot', 'fokusiranjem', 'subteam', 'goffman', 'smt', 'bicriteria', 'malaya', 'zuboff', 'rokeach', 'bellvitge', 'japanize', 'nilakantan', 'intensifie', 'netgrocer', 'osfs', 'kuantan', 'opdenakker', 'rpys', 'hpws', 'reinveste', 'mofas', 'gnosjö', 'enterp', 'irb', 'centralised', 'ulmc', 'vlsi', 'formalising', 'lapmodel', 'myor', 'procéder', 'bahnson', 'markovian', 'gestionnaire', 'cpe', 'imss', 'krugman', 'easygroup', 'mclean', 'bauman', 'vapnik', 'kahoot', 'busn', 'lpt', 'npm', 'osf', 'santini', 'ijiem', 'crbm', 'iop', 'usbcleaver', 'exogeneity', 'zeroth', 'scientometric', 'rpar', 'rwg', 'bsus', 'rankboost', 'scct', 'icwb', 'pbl', 'phenomenography', 'iarpa', 'camelia', 'hmda', 'silesian', 'insightsfor', 'nanobio', 'entrie', 'ofsample', 'tbnfs', 'merton', 'falmagne', 'autoencoder', 'rosenthal', 'hairdresse', 'bilstm', 'bulgarian', 'lópez', 'jssp', 'qualitive', 'univariateness', 'damanpour', 'ksao', 'dissatisfier', 'mape', 'drg', 'skaife', 'hiddenlayer', 'osiris', 'résolvent', 'ruleml', 'ridzuan', 'schwab', 'infocious', 'anylogic', 'mlp', 'kehinde', 'lerviks', 'koninklijke', 'fwc', 'gunnerud', 'chaiwan', 'multinormal', 'blattberg', 'smdp', 'tssvm', 'hmnl', 'mahnaz', 'tmrss', 'taber', 'unimpacted', 'minghu', 'ntm', 'simplifie', 'sashkin', 'garman', 'clp', 'mauritian', 'quifeng', 'pcmis', 'aaas', 'lanchest', 'socalle', 'romanize', 'agrofood', 'ghose', 'nitzan', 'recognise', 'wallenius', 'qiup', 'mordovia', 'tansig', 'nlr', 'gbms', 'metaheuristics', 'bfgs', 'purelin', 'soete', 'mediational', 'ngram', 'triassic', 'akamai', 'boissin', 'binden', 'esds', 'snee', 'brockner', 'cbj', 'ohlson', 'deniz', 'mindist', 'multiprocesse', 'modgraph', 'wolter', 'beheshti', 'datacell', 'btyd', 'weshow', 'hewlett', 'corbin', 'qep', 'akademskim', 'fcdc', 'proxye', 'teleworke', 'bpmss', 'mobilisation', 'polarised', 'kharlamova', 'technika', 'ngn', 'dryden', 'noncompensatory', 'noark', 'arkansa', 'promocasttm', 'gothenberg', 'huarng', 'environmetric', 'gjr', 'noninformative', 'uks', 'semiautomate', 'springate', 'liberalisation', 'materialise', 'donegan', 'cifer', 'upanishad', 'autoid', 'multivariant', 'keeney', 'concierevastly', 'infollution', 'prb', 'antidumpe', 'jdp', 'sial', 'avrunin', 'rappaport', 'aicte', 'dthsmp', 'hypothèse', 'taylorist', 'xfwyky', 'componentwise', 'taffler', 'fasttext', 'rvb', 'sbis', 'programme', 'hosh', 'mariano', 'excelingtech', 'codd', 'pelleti', 'bibexcel', 'bsfabc', 'ifrs', 'charle', 'probst', 'majid', 'pdℒ', 'generalisation', 'uzbek', 'evm', 'ebrd', 'fnn', 'socialeconomic', 'mulkeen', 'ascp', 'khps', 'maris', 'rabobank', 'intradaily', 'disembody', 'disriminatory', 'quantifie', 'cobit', 'flavour', 'dsss', 'dichotomie', 'tqc', 'ciσ', 'masaryk', 'exemplifie', 'impend', 'régulièrement', 'unlabele', 'helicon', 'efsimt', 'mohame', 'mncs', 'abernethy', 'fiwm', 'ergm', 'sdn', 'hypothese', 'mspr', 'secondaryand', 'dfd', 'msa', 'neuman', 'callender', 'termand', 'expérimentale', 'hypersthenic', 'pbi', 'krieger', 'kroz', 'multiagent', 'postexperiment', 'angelova', 'nsfc', 'kenett', 'daigle', 'jordanian', 'norrman', 'mavt', 'uncertaintie', 'experiente', 'burlington', 'lechnology', 'reconceptualise', 'cgmy', 'zahedi', 'holtom', 'aluminium', 'implementaciju', 'brasilia', 'ramat', 'tabletpc', 'twente', 'creswell', 'landi', 'getihu', 'loughran', 'nnar', 'mastrocinque', 'ebbp', 'unesco', 'accenture', 'mhbps', 'mmal', 'janardhanan', 'abcd', 'fordist', 'makgatho', 'geomappe', 'neighbour', 'mycin', 'gumbel', 'chenhall', 'slovenian', 'comc', 'cfroa', 'rbf', 'ijspm', 'linescanner', 'ustan', 'nonarticulation', 'auler', 'bsr', 'ifama', 'disseminative', 'rmu', 'zurich', 'rospatent', 'adaline', 'emdss', 'lawshe', 'groupwise', 'cjv', 'tfidf', 'mcps', 'findingsthis', 'ondo', 'bopm', 'cct', 'typifie', 'capacitie', 'deme', 'ftse', 'idr', 'approachthis', 'partworth', 'excursionist', 'tobit', 'dfsc', 'ceterius', 'pwpc', 'diagnosticity', 'litman', 'namibian', 'cbmconcept', 'covaleski', 'epitropaki', 'pfp', 'nahapiet', 'darwinian', 'zika', 'brislin', 'buycotts', 'fsn', 'rsis', 'coate', 'urbanisation', 'kirikkale', 'moldova', 'eurobiobank', 'srm', 'edwin', 'nomura', 'concordancing', 'hojin', 'martech', 'timedependent', 'duquesne', 'aco', 'riskmetric', 'intracountry', 'elsim', 'dantzig', 'gpon', 'misbehaviour', 'aduna', 'subscripti', 'technostress', 'chernoff', 'introject', 'slovenia', 'qm', 'wikarek', 'hbm', 'neale', 'cco', 'nontime', 'instrat', 'wharton', 'recordkeepe', 'nmr', 'ocf', 'esop', 'pearn', 'fluxnet', 'mukhopadhyay', 'borman', 'emr', 'nfib', 'phuong', 'adversitie', 'garry', 'gsdi', 'psicologia', 'prestigiousness', 'aveb', 'aguilera', 'microhistory', 'circumplex', 'levinthal', 'hauptman', 'frankel', 'ibw', 'vietcombank', 'travelocity', 'fertigated', 'osborne', 'granger', 'whd', 'reshare', 'decisionmake', 'readmitte', 'sociogram', 'hubbe', 'shrm', 'fréchet', 'catalyse', 'extrarole', 'albareda', 'zagreb', 'brr', 'phistication', 'stps', 'bostrom', 'woodward', 'kakushadze', 'nadia', 'csir', 'synergie', 'coevolve', 'multilabel', 'tacitness', 'bisociate', 'underresearched', 'statsoft', 'psr', 'lucio', 'mitroff', 'mehrabian', 'abdullah', 'tillinghast', 'sulphur', 'msq', 'gfm', 'praksu', 'oceania', 'hiadlovsky', 'nonborrowe', 'qas', 'oyo', 'personalisation', 'minardi', 'unigram', 'qsaba', 'nonanalytical', 'mueller', 'collinearity', 'pcse', 'focusse', 'fcm', 'lindley', 'moviemod', 'cmb', 'anacademic', 'kansa', 'ravarpremap', 'odesk', 'tukey', 'hodgkinson', 'appliquées', 'saleable', 'ungc', 'ipma', 'maramwidze', 'juergen', 'linearsvm', 'pretraine', 'pitchbook', 'mélanie', 'fpso', 'fknc', 'infoq', 'entitie', 'digraph', 'scisearch', 'sriw', 'korhonen', 'krono', 'scml', 'reasoner', 'odss', 'bilozubenko', 'transactive', 'klaipeda', 'fritzsche', 'vincenne', 'utara', 'sceptical', 'flamholtz', 'vamcs', 'ecer', 'characterise', 'marek', 'nanjing', 'leagile', 'csos', 'meagre', 'interreg', 'grenadi', 'pretraining', 'flemish', 'pieter', 'wcm', 'robustboost', 'atheoretical', 'zhanna', 'unpublishing', 'abstracter', 'aviv', 'braybrooke', 'nlo', 'emanic', 'adarank', 'mccss', 'navdiscs', 'discrepancie', 'queueing', 'extentionist', 'fixability', 'activite', 'biplot', 'preprogramme', 'sharifi', 'instrumentalise', 'wsr', 'cwbs', 'chandon', 'suppli', 'hypoth', 'eltv', 'humour', 'machinereadable', 'zgc', 'pulau', 'pelindo', 'univeratv', 'aalst', 'mrp', 'csfs', 'universitat', 'gulati', 'libraiy', 'auguste', 'sberbank', 'carland', 'portâfolio', 'kuiper', 'tatonnement', 'industryweek', 'reassesse', 'fcfs', 'fédération', 'guliker', 'nbtree', 'stm', 'jsteg', 'bhattacharya', 'hieracrchy', 'svm', 'gvkey', 'hemminger', 'resnet', 'revêt', 'sergey', 'consilience', 'börse', 'utaut', 'nvivo', 'loanperformance', 'qbme', 'khanh', 'rationalise', 'mive', 'fmri', 'intraclass', 'jamhari', 'sambot', 'brca', 'curârency', 'pesaran', 'postojećim', 'antje', 'estonia', 'disacquiescence', 'bijankhan', 'disparitie', 'mcdm', 'sgam', 'eurobarometer', 'delf', 'cpbs', 'buttle', 'haïti', 'sgnn', 'telemarkete', 'larr', 'inpainte', 'apkds', 'sugject', 'hrp', 'dirichlet', 'oosterbeek', 'sociotechnical', 'transystem', 'detrende', 'cip', 'pažnju', 'cyberbullye', 'podršku', 'statistica', 'packard', 'psos', 'abilitie', 'relaâtionship', 'broward', 'ayalon', 'büchel', 'säljö', 'ntd', 'kdd', 'mssa', 'ecr', 'shoreditch', 'cecp', 'chatbase', 'qepsvr', 'sitc', 'phénomène', 'bengaluru', 'iberoamericana', 'bisnode', 'themethod', 'suivante', 'fcnn', 'hamshahri', 'rbe', 'erhard', 'exaptation', 'icas', 'guilan', 'wettergren', 'nevpa', 'songo', 'penerbit', 'zhejiang', 'insurtech', 'ripp', 'valuethese', 'vrpb', 'hartwick', 'centred', 'cocreate', 'bocewicz', 'johor', 'ahuja', 'cbos', 'vasarhelyi', 'hpk', 'youngrok', 'bradstreet', 'utexas', 'khanin', 'objectivised', 'unaddresse', 'supatn', 'belanche', 'stackelberg', 'garber', 'tca', 'supelec', 'dfig', 'olcer', 'edti', 'changro', 'supermodularity', 'somaiya', 'mrss', 'centralise', 'preallocate', 'microlevel', 'hofstede', 'differenced', 'icase', 'mcil', 'premeaux', 'socialise', 'grzegorz', 'acsi', 'globescan', 'tampere', 'grosz', 'arnaud', 'sutcliffe', 'mlie', 'inefficiencie', 'anokha', 'gauden', 'djsi', 'crg', 'uio', 'csam', 'zsuzsanna', 'brabander', 'schutz', 'bougen', 'densitybase', 'gbdt', 'ratemarket', 'pbn', 'teleselling', 'classifi', 'sakkos', 'steffen', 'sikka', 'beebe', 'ibk', 'kcp', 'informiše', 'drnovsek', 'lpe', 'antonina', 'straub', 'timal', 'servitize', 'quantisation', 'acteristic', 'morlet', 'hughe', 'clir', 'jeremiah', 'cloudbase', 'microblogge', 'xlvi', 'mcq', 'pmb', 'blockholder', 'bijlmermeer', 'macedonian', 'disorganised', 'pnr', 'stackoverflow', 'nud', 'fpp', 'cumulativeness', 'bateson', 'tièche', 'chengdu', 'cmu', 'preentry', 'prien', 'denormalized', 'bmft', 'cvr', 'hanneke', 'wbk', 'bathke', 'bpi', 'convolu', 'dpm', 'javanese', 'andersen', 'bogge', 'posttraining', 'uzimajući', 'nonconstant', 'maharanobis', 'wildavsky', 'sambamurthy', 'pamplona', 'inferr', 'kalman', 'erdss', 'dependencie', 'janczak', 'kosha', 'pssvm', 'bridgeport', 'sinan', 'neuroimage', 'actant', 'ickms', 'xgb', 'purposemachine', 'muscatatuck', 'blc', 'additonally', 'nonpreemptive', 'mcfadden', 'mauer', 'pencirikhasan', 'ukts', 'sturla', 'fidel_gastro', 'dbscan', 'caucasus', 'citc', 'nonlinearitie', 'sidepayment', 'misreporte', 'parfold', 'nlm', 'thesetype', 'normalise', 'tbnl', 'vandenberg', 'mmsss', 'oxley', 'cocreation', 'wms', 'efsim', 'lithuania', 'backpropagation', 'wbsns', 'shrivastava', 'chander', 'toolshe', 'pfm', 'kobayashi', 'explainability', 'testbe', 'stuctural', 'iie', 'norvasc', 'nahyun', 'pitf', 'brandimage', 'rosstat', 'transversality', 'sqs', 'flann', 'collinson', 'dualitie', 'universitas', 'accompanie', 'vspc', 'wikidata', 'bioethic', 'relationalism', 'nonstationarity', 'dfds', 'statlib', 'eepp', 'cindacta', 'padco', 'iaca', 'nuaa', 'waddock', 'facultad', 'dempster', 'wordprocesse', 'emd', 'cbo', 'smbd', 'olusegun', 'lvq', 'adiac', 'ecp', 'universidade', 'vigour', 'suju', 'leeflang', 'abdallah', 'rafsanjan', 'urquhart', 'perpustakaan', 'servqual', 'shrestha', 'latvia', 'evaluationg', 'bondora', 'bhushan', 'actilpw', 'lagrange', 'lotsize', 'langmuir', 'maoni', 'olutionized', 'braam', 'ampso', 'fimix', 'societie', 'submodule', 'panozzo', 'possesse', 'ffm', 'michal', 'metaheuristic', 'pjfnn', 'tnc', 'elegan', 'torrance', 'fdss', 'deaton', 'nonspinoff', 'mafini', 'prévoyance', 'heidke', 'clusterwise', 'bentz', 'hubert', 'hvat', 'icebreake', 'baidu', 'japp', 'brownell', 'iprm', 'eai', 'anova', 'eataly', 'rugg', 'columbu', 'noninstance', 'econjournal', 'sanjit', 'inplanne', 'dbn', 'labelling', 'psid', 'unsubscription', 'cretan', 'editora', 'hurlin', 'denison', 'mapreduce', 'dimovski', 'salp', 'cbis', 'gpso', 'sprague', 'leuven', 'wtp', 'mikecz', 'industriji', 'blom', 'tyrol', 'bahonar', 'razvoja', 'kaplan', 'dissensus', 'rozeff', 'hiatuse', 'oecd', 'deaft', 'epnl', 'lancasterian', 'surveyqual', 'variegate', 'mccs', 'heinz', 'kmo', 'gauteng', 'nkrumah', 'trss', 'suboptimality', 'kwame', 'ferdowsi', 'mashhad', 'rft', 'kpt', 'sbir', 'conwip', 'sobel', 'chongqing', 'iplasma', 'stewarde', 'philosophie', 'kinney', 'qazvin', 'linearize', 'hawley', 'orthoimage', 'estc', 'fsr', 'smsa', 'congeneric', 'bnb', 'touboulic', 'msmte', 'sorkhabi', 'greiner', 'cambodia', 'datafication', 'shipley', 'tms', 'résultant', 'deepcoin', 'mystarbucksidea', 'cryptocurrency', 'ontogenesis', 'ibovespa', 'assimilat', 'abds', 'sarawak', 'nowcaste', 'neom', 'srinivasan', 'enquire', 'hubermann', 'akw', 'hrm', 'interindustry', 'pmsm', 'worldcom', 'wasteless', 'dhabi', 'wpi', 'bhagavadgita', 'lrt', 'ereation', 'vung', 'dezhi', 'mfp', 'qos', 'medgraph', 'sddlbp', 'nonline', 'lbd', 'icq', 'maasi', 'standardised', 'methodologie', 'mcgp', 'perfsonar', 'abrahamson', 'gough', 'econometrically', 'selangor', 'datamine', 'leipzig', 'hardie', 'qpis', 'simd', 'esized', 'extrema', 'organised', 'hilbert', 'peeter', 'behaivour', 'msprs', 'roli', 'ewom', 'heteroskedastic', 'aforementione', 'mallorca', 'iungen', 'iaeme', 'clilp', 'posco', 'eurofound', 'americanized', 'dsca', 'caat', 'edrm', 'vasconcello', 'apac', 'optimise', 'makassar', 'datawere', 'taset', 'naisbitt', 'hdi', 'lithuanian', 'beneish', 'opendoar', 'endeavour', 'netdraw', 'shabou', 'postchoice', 'fpd', 'amihud', 'exmar', 'localisation', 'shewhart', 'gureckis', 'nonadditive', 'abss', 'lre', 'daedeok', 'valuethis', 'ssci', 'lccs', 'samplefirm', 'rawl', 'patronise', 'rrl', 'ciencia', 'shortcircuite', 'eql', 'granada', 'tadajewski', 'noninnovator', 'uscg', 'epinion', 'imt', 'fsrs', 'manageâment', 'oladunni', 'tegal', 'rosalia', 'npv', 'fscm', 'crossindustry', 'sociometric', 'crossref', 'eiss', 'lavrov', 'lenzerini', 'synthetize', 'penalise', 'piazzai', 'siloed', 'licence', 'república', 'tjenester', 'halliday', 'mixedeffect', 'alzheev', 'aivas', 'styear', 'ndts', 'dressler', 'jme', 'dnms', 'emphasise', 'qfu', 'interactionist', 'accioly', 'horizonte', 'levinas', 'shaipe', 'oaxaca', 'lightpath', 'alus', 'rdm', 'appropriability', 'mbecke', 'johansen', 'peerreviewe', 'bránd', 'montonicity', 'elsevier', 'solvecomplex', 'pancrea', 'oulu', 'straussian', 'uwes', 'overachiev', 'abeokuta', 'alzyoud', 'omdia', 'rittel', 'monotonicity', 'integrability', 'cppi', 'fnr', 'issn', 'banki', 'tarie', 'kauna', 'aii', 'srgms', 'cehovin', 'qfm', 'hollingshead', 'lemmatization', 'itg', 'fogliatti', 'mcgill', 'orthogonalized', 'wuhan', 'soquero', 'servitized', 'cliometric', 'strateg', 'kbe', 'mdlp', 'kera', 'ufm', 'frontex', 'zs', 'tafe', 'haag', 'uppsala', 'ccos', 'publicise', 'doab', 'problematise', 'seeletse', 'gri', 'zajac', 'rfa', 'predlaže', 'julijana', 'asrcap', 'vlsn', 'figá', 'liwc', 'meachanism', 'johannesburg', 'similaritie', 'turkprime', 'dksakkos', 'bdd', 'hdfs', 'eichenbaum', 'nonnormality', 'defuzzification', 'olav', 'duong', 'dominick', 'svd', 'vpa', 'neuroeconomic', 'tiebout', 'opava', 'balise', 'cigondewah', 'stepsize', 'cjvs', 'wittgenstein', 'bertrand', 'ronment', 'sreqom', 'farsnet', 'marginalise', 'mulamba', 'revitalisation', 'sefako', 'aaai', 'rq', 'fayol', 'topocomponent', 'subdecision', 'utøya', 'atc', 'pestel', 'pubsonline', 'erbil', 'wce', 'gridcast', 'imds', 'karian', 'yolo', 'fuzzification', 'endogenize', 'bratislav', 'embodie', 'adoptation', 'clausewitz', 'richin', 'civilisation', 'belma', 'strategyha', 'incivilitie', 'scmp', 'interai', 'kci', 'netglean', 'denzin', 'belate', 'robotize', 'hardee', 'ricoh', 'sellerinduced', 'akerkar', 'fifra', 'confucian', 'pmiis', 'πk', 'efa', 'brickson', 'trondheim', 'coer', 'bogotá', 'torbert', 'somp', 'psychometrika', 'krugovima', 'lillis', 'mtorr', 'klopp', 'mpso', 'tanzanian', 'tingatinga', 'smithman', 'greve', 'ssm', 'gdm', 'pavitt', 'fjm', 'catalogue', 'stationarity', 'derecv', 'conserv', 'mahwah', 'bucknell', 'amer', 'kamaz', 'freitas', 'headd', 'tertius', 'hoogh', 'cwxs', 'spid', 'smdps', 'tangibilize', 'unsupervise', 'utrecht', 'padct', 'harpercollin', 'muthén', 'apb', 'karolina', 'ddo', 'julho', 'rensburg', 'ntbf', 'xai', 'nrc', 'igi', 'odredeni', 'comanor', 'blmcp', 'laboratorie', 'kleshinski', 'dtso', 'alberto', 'debiase', 'sattar', 'msci', 'viruse', 'mccleary', 'vbscript', 'antipattern', 'uhi', 'peoplesoft', 'sbi', 'nicos', 'underexamined', 'aegean', 'utena', 'dartnell', 'fahp', 'svw', 'nour', 'católica', 'shimada', 'cssci', 'algorithmcan', 'abdc', 'kld', 'almetric', 'dagenham', 'complementor', 'hlscm', 'coskun', 'riedwyl', 'multiplexe', 'citespace', 'kbsa', 'shevchenko', 'statoft', 'amortissable', 'kuala', 'xbrl', 'telcordia', 'fanner', 'fleischer', 'doozi', 'reciprocality', 'negopy', 'fpsmt', 'hobfoll', 'openflow', 'wolfcamp', 'khuzestan', 'drouilly', 'tcs', 'divisia', 'abberbock', 'indowordnet', 'cwx', 'envs', 'hend', 'metre', 'spq', 'guatemala', 'decompositional', 'purposethis', 'amirkabir', 'allyn', 'csa', 'regularisation', 'gropp', 'multifacete', 'evolino', 'idt', 'mediationist', 'neihu', 'adaboo', 'crmpractice', 'bennet', 'lacqu', 'johnstone', 'mpn', 'hbr', 'seclection', 'iia', 'postmovie', 'splitte', 'stickness', 'christchurch', 'paluch', 'expoâsure', 'musyārakat', 'budapest', 'dataverse', 'incubatee', 'dbi', 'cpb', 'renqing', 'kkni', 'performatively', 'glänzel', 'corba', 'jansson', 'hcci', 'ijv', 'birley', 'dreyfus', 'onefile', 'multimethod', 'gelbach', 'formalisation', 'pcrs', 'gerais', 'rzeczpospolita', 'dtw', 'speechreade', 'presolve', 'fuqua', 'prévision', 'wwsn', 'tlbo', 'undertesting', 'heteroscedastic', 'mnemon', 'comptable', 'prabhala', 'fairbank', 'regressor', 'alcadipani', 'defence', 'samiee', 'dawkin', 'aftersale', 'lounsbury', 'latour', 'dendrogram', 'sdgs', 'ecobank', 'rbc', 'mnsc', 'multilogue', 'kareen', 'altman', 'mgfla', 'tfa', 'ontonl', 'kcl', 'sponsiveness', 'loglogistic', 'avolio', 'lojasiewicz', 'kmc', 'ayre', 'microcompute', 'mgb', 'smr', 'ddm', 'minimise', 'ugc', 'oftentime', 'convolutional', 'noncentral', 'hadoop', 'multianalysis', 'srw', 'delphi', 'fcso', 'indigenisation', 'loderer', 'sivas', 'schole', 'banaszak', 'touati', 'ziarko', 'qrps', 'mturk', 'thesap', 'gerd', 'dynamicity', 'competencie', 'spacex', 'newtonian', 'shinpou', 'akt', 'nandi', 'pointwise', 'njihovu', 'kbv', 'digitise', 'genomeutwin', 'rmss', 'mayan', 'cloudbee', 'convincingness', 'renáta', 'esdi', 'winsten', 'bfs', 'europcar', 'nhecd', 'euske', 'hics', 'yassin', 'covary', 'distinguishe', 'warf', 'schribrowsky', 'tdm', 'pitec', 'interimistic', 'sanyo', 'edifcm', 'acb', 'bionlp', 'webometrics', 'msrt', 'stss', 'nonfigurative', 'elmar', 'mesly', 'ruc', 'shownthat', 'lspim', 'rdbms', 'coshh', 'hri', 'ipns', 'noncompletion', 'boettcher', 'dsva', 'smernicama', 'maic', 'hafner', 'underdispersed', 'opportunitie', 'generalitat', 'ccdms', 'appropmailriate', 'uwe', 'mohme', 'stmc', 'rcpsp', 'mcdowell', 'regularitie', 'dimaggio', 'reimer', 'rubberize', 'ovog', 'schoar', 'kenosha', 'herme', 'pbfs', 'univerzity', 'whichwemake', 'dva', 'pegasos', 'cooccurrence', 'carhart', 'cgci', 'behbood', 'donaldson', 'governmentality', 'stefanie', 'fantazzini', 'arnoud', 'conversica', 'dealprone', 'igt', 'cdns', 'teachability', 'radoc', 'implrtance', 'nexpert', 'lisrel', 'szapso', 'jenkin', 'scrutinise', 'enit', 'diebold', 'halstead', 'kunz', 'jaffe', 'pesvdd', 'itb', 'irr', 'knn', 'lagrangian', 'clapp', 'policymake', 'addison', 'lbp', 'fromkin', 'hdr', 'laury', 'lifespanusually', 'kida', 'metalearning', 'wmsds', 'arellano', 'conspectus', 'isnm', 'notificaiton', 'instructorle', 'xgbr', 'valuefew', 'dmi', 'curvilinearity', 'redotri', 'jnk', 'lmp', 'krenczyk', 'mumford', 'logp', 'toponym', 'morar', 'complexifient', 'laxico', 'foxwood', 'rithm', 'summarise', 'norta', 'businessrelate', 'bromilow', 'statistique', 'fifield', 'nonexperimental', 'tractica', 'siska', 'kapeni', 'rfrs', 'euc', 'sensemake', 'weitz', 'classifie', 'unlabelle', 'intransitivity', 'zavadskas', 'pjrc', 'abreu', 'lsps', 'lbsn', 'wilkin', 'schumpeter', 'radma', 'janse', 'lumina', 'fmga', 'prewrite', 'econoimic', 'gpsvisualizer', 'pacte', 'prosser', 'synset', 'ipr', 'dramatistic', 'ohrs', 'nichola', 'lightgbm', 'embase', 'popularise', 'pctc', 'irbid', 'cdps', 'youngbae', 'innopoli', 'cpv', 'interfirm', 'mobilise', 'deloitte', 'authorshope', 'shockvertise', 'hendershott', 'bansal', 'kettler', 'stagesof', 'poolchain', 'swedberg', 'unapredenja', 'allenby', 'mihalyi', 'pregledni', 'lfm', 'instagram', 'sfi', 'voronoi', 'ciem', 'kirkpatrick', 'lexicographic', 'erlang', 'boundedness', 'jochen', 'kastomizovane', 'osaka', 'assemblyline', 'sensegiving', 'leverhulme', 'bnac', 'anovas', 'medoid', 'rra', 'sdsp', 'erdfelder', 'kbdsss', 'ishare', 'hmms', 'retweete', 'lanchester', 'ohayv', 'adls', 'neurofuzzy', 'adap', 'consumability', 'vdo', 'nitin', 'aprent', 'reranke', 'euwp', 'ewr', 'mpe', 'eicam', 'lowery', 'cea', 'gdpr', 'kurtotic', 'lsvm', 'modernise', 'harward', 'conséquence', 'fabian', 'rinaldo', 'wlb', 'advantageouslv', 'vcg', 'informatika', 'cybermarkete', 'shrider', 'bonnin', 'partitional', 'sinay', 'homomorphic', 'rodrigue', 'mltif', 'binominal', 'mlrm', 'unhcr', 'privac', 'subjoin', 'prefixspan', 'breman', 'owshop', 'andmacrosystem', 'gelfand', 'ebscohost', 'usercentric', 'ibadan', 'dordrecht', 'vre', 'pmbok', 'tambo', 'gamson', 'vec', 'dbrd', 'comptia', 'dunnette', 'natalya', 'discretized', 'foucault', 'polytomous', 'metatheoretical', 'isg', 'difine', 'uecm', 'mtrss', 'ordinality', 'jamshedpur', 'partiellement', 'workrelate', 'cpos', 'uapush', 'specifie', 'bndac', 'patrimonio', 'discretization', 'bdra', 'esm', 'ozturk', 'tichy', 'auroc', 'vensim', 'evs', 'fst', 'nagpur', 'matshonisa', 'sumatera', 'guadagni', 'kemsley', 'obzir', 'gss', 'grey', 'iscj', 'acollaborative', 'pliska', 'preprocesse', 'hualien', 'akure', 'ntbis', 'misspecifye', 'postcampaign', 'ouyang', 'hoffmann', 'gąsiorkiewicz', 'extratree', 'connectionist', 'nonchosen', 'kompromisno', 'abm', 'unimportantly', 'electrodermal', 'astley', 'jstor', 'srps', 'navarro', 'aragon', 'hotelle', 'gidden', 'aspekti', 'identifie', 'taq', 'biostatistic', 'fuzzytech', 'brasileira', 'psycinfo', 'enspart', 'msls', 'shortcome', 'hbs', 'associé', 'niosh', 'armenia', 'obtl', 'objavljen', 'qfd', 'maximised', 'dsrm', 'ikujiro', 'hasbrouck', 'tqm', 'burgoyne', 'hoey', 'tunisia', 'bpmms', 'robey', 'opis', 'heian', 'categorisation', 'ellsworth', 'nonignorable', 'individualised', 'discusse', 'athen', 'istraživače', 'flyvbjerg', 'ecampus', 'mlgas', 'scotexchange', 'viber', 'hagoa', 'ourmodel', 'cellucci', 'benchmarke', 'topki', 'waterbury', 'andreesen', 'multiarme', 'histcitetm', 'eiris', 'panamá', 'consumerlab', 'fjsp', 'ispd', 'kufsteintirol', 'reuser', 'hmos', 'preconceive', 'glassdoor', 'blockchain', 'sulaiman', 'luxembourg', 'tidyverse', 'nida', 'linearsvr', 'poliakov', 'dxc', 'rosneft', 'kwic', 'tengeh', 'cadbury', 'aser', 'sbow', 'pattison', 'csp', 'dcc', 'anderstorp', 'iwu', 'dahiru', 'fibre', 'napm', 'veymonkey', 'uttus', 'icac', 'sbp', 'ppps', 'igs', 'rasmuson', 'estonian', 'iiot', 'riinvest', 'ontologie', 'inme', 'clute', 'rii', 'nonisometric', 'multigroup', 'entrep', 'cointegration', 'freirean', 'tvyxz', 'budgetting', 'anomolous', 'kogut', 'nonuser', 'streit', 'frydman', 'criticise', 'statista', 'garrido', 'justifie', 'workhour', 'blmcps', 'eslsca', 'epc', 'nonstaged', 'conect', 'gaap', 'periodica', 'voim', 'isoquant', 'kadriu', 'trisect', 'hht', 'ivanyuta', 'metatheory', 'neuroagent', 'pudong', 'oroginal', 'scikit', 'nonduality', 'flowshop', 'ideologie', 'temesvary', 'anlayze', 'gso', 'timss', 'ksa', 'crispr', 'bsi', 'transmanche', 'markov', 'mousa', 'pso', 'underfitting', 'btc', 'cnns', 'qardh', 'hoppenstedt', 'aqaba', 'nopparat', 'occup', 'nli', 'runkle', 'silverman', 'lindenstrauss', 'burchell', 'multidatabase', 'calcomp', 'venturecapital', 'harter', 'cushner', 'semler', 'adel', 'kenexa', 'econometrical', 'vmi', 'javorite', 'holzner', 'sistematski', 'overweighte', 'nonfraudulent', 'fiscalist', 'lmc', 'intrapreneurial', 'vegeto', 'misspeafie', 'globalised', 'pszczyna', 'ttf', 'dowle', 'aimq', 'mcdss', 'stabilisation', 'obonyo', 'wsna', 'deinstitution', 'multivalue', 'shareholde', 'microfoundation', 'isc', 'specialisedvc', 'stocktwit', 'condorcet', 'bonferoni', 'satara', 'npos', 'allameh', 'plenborg', 'afaanz', 'kolmogorov', 'ghrm', 'dfit', 'misclassifie', 'stalog', 'nonindependent', 'zopounidi', 'activitie', 'conflictuality', 'predestine', 'bromuri', 'franz', 'undiscerne', 'ashworth', 'stakeholde', 'equalising', 'chronbach', 'normlessness', 'witwatersrand', 'theatre', 'lpform', 'tbi', 'caic', 'globalsymponet', 'earthmove', 'hoshiden', 'predictivity', 'routineness', 'metutilise', 'becomesmore', 'guangzhou', 'tainan', 'kingsley', 'ifocusse', 'azerbaijan', 'senticircle', 'sufic', 'occupie', 'icl', 'scielo', 'economia', 'undetecte', 'anuga', 'customisable', 'macrolevel', 'cput', 'dilta', 'econsultancy', 'färe', 'metod', 'vfm', 'factorising', 'mimd', 'fcdcs', 'alterânatively', 'dgas', 'mumm', 'impurely', 'neft', 'pogledom', 'ajzen', 'eicher', 'eber', 'preclass', 'pretoria', 'rnn', 'rma', 'inadequacie', 'smoltification', 'canhelp', 'scherz', 'jossey', 'brt', 'acap', 'liivat', 'icith', 'vnmflib', 'pisa', 'slovakia', 'heterophily', 'exploita', 'kharazmi', 'mendelson', 'fouri', 'arimá', 'ffann', 'pevs', 'empow', 'tuckal', 'caregive', 'manh', 'baconian', 'hockney', 'tomasz', 'idiocentrism', 'adw', 'surakarta', 'aaker', 'acg', 'pmss', 'njabulo', 'polokwane', 'flss', 'mamdani', 'roebuck', 'overrepresente', 'mip', 'zabol', 'potrebu', 'pravca', 'adx', 'gualandris', 'gruber', 'dmus', 'mahon', 'mpls', 'cognification', 'madss', 'zsp', 'mnist', 'hanken', 'uum', 'malham', 'authorshave', 'sbvr', 'cochran', 'laplace', 'evpi', 'stiglitz', 'netgleanip', 'lévy', 'kinzigtal', 'alumax', 'grundspenki', 'rsrrl', 'theil', 'hainan', 'anp', 'technostructure', 'jea', 'markowitz', 'vamc', 'bhasin', 'suzhou', 'irm', 'iata', 'instem', 'socialbot', 'prioritisation', 'mahajan', 'epadd', 'esrc', 'libai', 'valuethe', 'omnichannel', 'gpdh', 'singlepass', 'multiattribute', 'fremantle', 'framereflection', 'hsip', 'burnham', 'hwrss', 'amplifie', 'valueaime', 'taejon', 'rnns', 'moen', 'svms', 'extrapolative', 'zawra', 'spss', 'sichuan', 'txn', 'hcqa', 'ktb', 'medwell', 'vuyokazi', 'robotisation', 'ukdcs', 'scimat', 'ceflann', 'cvpa', 'grm', 'phronesis', 'assembledfor', 'nonadopter', 'hyperparameter', 'calledlocal', 'zaye', 'crossproduct', 'griggs', 'cloudera', 'mjqo', 'indiegogo', 'timms', 'afe', 'groenewald', 'innofund', 'visara', 'likableness', 'lfi', 'lehn', 'arima', 'iciar', 'weaknesse', 'srgm', 'oscm', 'antbuckler', 'automational', 'boltzmann', 'mwasp', 'kalina', 'listwise', 'uleman', 'nikkagiren', 'aiss', 'ritter', 'tsca', 'tregoe', 'darelle', 'rezultata', 'indicatedthat', 'amg', 'binh', 'plusieur', 'substage', 'belgrade', 'webkb', 'petrenko', 'lstm', 'malmi', 'adoni', 'tatar', 'zanzibar', 'pintec', 'ccpme', 'evenkia', 'herfindahl', 'eimmy', 'ricreur', 'vadera', 'macrobehavioral', 'rousseau', 'hnd', 'combinatorially', 'intervally', 'trustfulness', 'wayfinde', 'yankelovitch', 'underwat', 'bagrow', 'biosis', 'albanian', 'patrangenaru', 'lhu', 'empte', 'cegielski', 'kozhukhivska', 'marketspecific', 'cracow', 'upstretche', 'miozzo', 'propertie', 'fpt', 'dobija', 'patacca', 'coursera', 'apmbok', 'fsm', 'bcg', 'cgu', 'ocl', 'modare', 'ipos', 'algeria', 'loebner', 'mmlr', 'turin', 'christiano', 'webometric', 'henri', 'bicc', 'prais', 'kazakh', 'srh', 'korneyev', 'wtc', 'vpp', 'mostafa', 'mukund', 'mismeasurement', 'pomina', 'knowledgedriven', 'bist', 'sveobuhvatno', 'drury', 'evas', 'novelli', 'egarch', 'ecoxight', 'ucinet', 'makedue', 'offservsent', 'bda', 'gerbin', 'asce', 'martín', 'jorgenson', 'tvet', 'thatinteract', 'felder', 'skima', 'opl', 'noncomplaine', 'operationalise', 'zimbabwean', 'mbm', 'monotonia', 'makespan', 'policentric', 'hausman', 'paltschik', 'networkweather', 'ldc', 'elacc', 'sutton', 'empretec', 'overidentified', 'snpt', 'socratic', 'wethen', 'bioga', 'lom', 'ranjay', 'proptech', 'sdss', 'chaordic', 'mbcr', 'specialised', 'siot', 'breakhis', 'erlbaum', 'fbo', 'gibraltar', 'augemente', 'newsvendor', 'ocsvm', 'enpirical', 'gcs', 'tsr', 'msw', 'woujoud', 'paulhus', 'itwa', 'ideastorm', 'uncorrelate', 'comovement', 'nns', 'arshad', 'sni', 'abovementione', 'ahp', 'amanah', 'endogeneity', 'ibl', 'aspe', 'nscw', 'inspy', 'surfacelevel', 'nedavno', 'eneo', 'datalogy', 'koenig', 'cva', 'predstavljanjem', 'termeffect', 'weizmann', 'cdfis', 'mdss', 'islc', 'satisfie', 'isbn', 'lavel', 'itri', 'uic', 'intellective', 'grubb', 'internalist', 'scmcoordination', 'larenstein', 'rpci', 'fritsch', 'organise', 'habc', 'unlicense', 'automatedly', 'rocona', 'mwep', 'nyl', 'osns', 'globalise', 'présentant', 'kalampoki', 'acecard', 'icmws', 'samarra', 'architecte', 'gpus', 'acknowledgement', 'eugram', 'gatsby', 'multiavariate', 'copernicus', 'dsge', 'ohc', 'leonidou', 'papua', 'defamiliarize', 'robotization', 'lddts', 'solow', 'gellman', 'theano', 'tanzania', 'kautilya', 'incalculating', 'elenchus', 'semistructure', 'jesuit', 'ncr', 'yeda', 'gdańsk', 'malawian', 'tbat', 'ddda', 'josephson', 'remoralize', 'stockout', 'indentifie', 'routledge', 'nonaka', 'nstda', 'sandri', 'webcare', 'fse', 'discretisation', 'okai', 'trigwell', 'lda', 'identitie', 'kallapur', 'viniti', 'lozano', 'rsa', 'csro', 'universidad', 'prefmap', 'bcdc', 'esnet', 'nemenyi', 'stakehold', 'simulink', 'iiav', 'boivin', 'vladimir', 'sse', 'dougla', 'cscd', 'silvanaviciute', 'dartmoor', 'gerbe', 'scandinavia', 'alcoa', 'ffps', 'processual', 'merril', 'tribefinder', 'holonic', 'perceptron', 'cepr', 'mle', 'oviedo', 'faul', 'ccl', 'autoethnography', 'unobstructe', 'tkprof', 'nielsen', 'nonrecursive', 'rna', 'vrp', 'beall', 'belize', 'mtf', 'haustein', 'discernthe', 'tuomo', 'overpast', 'foxall', 'neurois', 'blau', 'designbuilder', 'ufoc', 'groutability', 'morecambe', 'spabc', 'theoryon', 'rigour', 'phatic', 'participedia', 'topsis', 'invocational', 'umvu', 'gościniak', 'dsscs', 'unfulfilment', 'edr', 'juster', 'burstiness', 'pndb', 'dmu', 'cyert', 'reflflection', 'dianpe', 'sedi', 'taskcn', 'movdo', 'catalonia', 'beketnova', 'dga', 'crf', 'rusjan', 'ukandu', 'quadratically', 'larivière', 'interlinkage', 'kueper', 'μi', 'purposeforeign', 'globalizational', 'adler', 'ashbaugh', 'noninstrumental', 'stopword', 'autopoietic', 'lulea', 'favoriser', 'nondefault', 'gervase', 'ottewill', 'mirjana', 'tenosique', 'byall', 'xenogeneic', 'dedoose', 'iomt', 'mpu', 'ofprogress', 'bisha', 'integrant', 'medase', 'hypothetico', 'buyclass', 'fraunhofer', 'ergodic', 'nnet', 'utilised', 'ladislav', 'shahsavand', 'handelsge', 'texa', 'urc', 'statsmodel', 'aaer', 'openloop', 'hannan', 'hirschman', 'cournot', 'palmrose', 'segregationary', 'structuration', 'phishe', 'retroduction', 'nanobiomedicine', 'multicommodity', 'synergise', 'entwistle', 'heinrich', 'ifft', 'uddi', 'priontization', 'catboost', 'mplus', 'postacquisition', 'goede', 'wbpm', 'identifi', 'dalu', 'codasyl', 'atiku', 'microstation', 'conlcude', 'hebraic', 'bdad', 'sabena', 'madm', 'nsvim', 'abiertaugr', 'enet', 'universiteit', 'submodel', 'ocd', 'subcon', 'pewom', 'sps', 'cgcs', 'gramscian', 'dodecagon', 'inputoutput', 'dartmouth', 'reoccurre', 'ansett', 'kozlovskyi', 'scie', 'mws', 'hlm', 'hastie', 'interpretivist', 'ntim', 'currie', 'ricyt', 'catalunya', 'wayfair', 'rfm', 'siberiana', 'abossey', 'upwork', 'cyclomatic', 'bridgerland', 'cladistic', 'kbdss', 'chantel', 'siman', 'icmw', 'stanfordnlp', 'admm', 'chrysali', 'bligh', 'hpa', 'preexist', 'visualisation', 'rhode', 'basma', 'diabete', 'quety', 'scharlau', 'penrose', 'wesslen', 'hyperparamter', 'pswi', 'icaa', 'autoregression', 'hierarchie', 'ababa', 'ictc', 'massetti', 'patii', 'nowicki', 'schoonhoven', 'ltss', 'hfk', 'intéresse', 'shapley', 'ofgeneral', 'antconc', 'réservés', 'subcategorie', 'siauliai', 'cte', 'smernica', 'rockburst', 'machinelearning', 'starkey', 'rasskazov', 'lozhkin', 'belarus', 'satisfice', 'facultie', 'baye', 'stankovic', 'matej', 'öckert', 'natawidjaja', 'tlb', 'iafe', 'invertibility', 'stvc', 'forensicsand', 'olc', 'kospi', 'bayesnet', 'eprint', 'heide', 'lyndon', 'mfos', 'mezirow', 'ivb', 'oaen', 'fingerhut', 'fonseca', 'multitrait', 'gietzmann', 'bootstrappe', 'orlean', 'narver', 'crmcan', 'qeeg', 'aristotele', 'characteris', 'communitie', 'rightsreserve', 'mlnn', 'hunton', 'astrid', 'cesifo', 'seligman', 'gholamian', 'crowdfunde', 'kohlberg', 'upb', 'hawkin', 'outsourceable', 'digitisation', 'grolemund', 'kolhapur', 'uml', 'senge', 'dichotomously', 'podataka', 'portance', 'ipta', 'scika', 'zajc', 'bandyopadhyay', 'irps', 'onedistributor', 'barasa', 'ballinger', 'iprs', 'tdthin', 'sfl', 'shapiro', 'mateja', 'persuasibility', 'cronin', 'fesaghandi', 'ssvm', 'saeed', 'idm', 'translog', 'idss', 'rabinovitch', 'procter', 'encuestafácil', 'iaf', 'androidmanifest', 'abdou', 'chigariro', 'cbt', 'inlm', 'cpps', 'callability', 'rescator', 'disaffect', 'lakota', 'wirtz', 'subsidie', 'lippincott', 'kpi', 'usos', 'semiparametric', 'indah', 'salerno', 'sistematskog', 'naur', 'multicustomer', 'hmo', 'frecknall', 'sugimoto', 'ttfis', 'hampel', 'cbe', 'fulfilment', 'foroudi', 'mackevicius', 'unsubstantiate', 'scholz', 'branchet', 'sctda', 'anglia', 'shmueli', 'honour', 'reuter', 'beachieve', 'mdp', 'arcgis', 'istraživačima', 'vanishe', 'ecs', 'nonbuyer', 'procese', 'understaffe', 'uspto', 'sbus', 'sdg', 'pfa', 'sstap', 'worktrend', 'nanopublication', 'cifar', 'seow', 'signon', 'funtionally', 'rhq', 'vmm', 'rdt', 'schmit', 'commoditie', 'mauritius', 'ailawadi', 'mapit', 'revolutionise', 'parvaneh', 'bayh', 'podme', 'gabc', 'hoerl', 'namibia', 'pareto', 'greedoid', 'mesonet', 'traveller', 'nonmonotonic', 'temelkova', 'holsat', 'barriault', 'beemploye', 'ercs', 'idse', 'findingswhen', 'cellstrat', 'brody', 'bwm', 'industrijska', 'nonexporter', 'kindre', 'modelling', 'taillie', 'nonnormal', 'formulae', 'predstavljanja', 'kitia', 'spm', 'kolb', 'rbfnn', 'hbmovsa', 'theircompetence', 'ndh', 'anxietie', 'efmd', 'multisegmente', 'colly', 'zdislava', 'automatisation', 'goûts', 'cosc', 'pedler', 'sikorsky', 'eudaimonic', 'aodv', 'rmt', 'macromarketing', 'extremal', 'lotsizing', 'kepanitraan', 'nohria', 'fsi', 'configural', 'versita', 'speaii', 'ideco', 'iau', 'mva', 'dnow', 'blantyre', 'superhost', 'nieuwenhuizen', 'permian', 'searchless', 'informate', 'ferdow', 'daylighte', 'cgs', 'nrdt', 'possibilitie', 'eurostat', 'researchgate', 'therelative', 'vcs', 'hounshell', 'labview', 'hgfs', 'lydenberg', 'unsolicite', 'poineering', 'manufactronic', 'pcbm', 'kandananond', 'stabilise', 'sucar', 'datafest', 'carleton', 'iramuteq', 'sarbane', 'istraživanja', 'mfo', 'xgboost', 'dlpfc', 'trung', 'xunzi', 'cwb', 'ioss', 'velten', 'shenzhen', 'regtech', 'mackinsey', 'macmillan', 'clarifi', 'maričić', 'fordism', 'liberalise', 'tvm', 'covariancebase', 'erature', 'lumpur', 'chhk', 'rwanda', 'dbminer', 'militarychurch', 'modernisation', 'kpn', 'sirman', 'neslin', 'roskladka', 'bpos', 'mcda', 'frdf', 'aheis', 'giora', 'konstantnu', 'inecology', 'wsns', 'wellbee', 'dupage', 'ycs', 'converger', 'lsi', 'pcr', 'hrv', 'myer', 'tóth', 'konica', 'mclp', 'concordancer', 'contractualism', 'prme', 'factorially', 'bundesbank', 'wouda', 'stigler', 'gdad', 'olkin', 'manoeuvring', 'teknowlogy', 'borda', 'suas', 'emaas', 'hncb', 'goleman', 'kullback', 'ariely', 'kmp', 'njihovim', 'lynda', 'besanko', 'nabonal', 'quantitie', 'endors', 'judgement', 'verifie', 'gse', 'atms', 'aksehirli', 'cogni', 'prm', 'tornatzky', 'dematel', 'photocopi', 'jif', 'tarbiat'}\n",
      "(300,)\n",
      "(225, 300)\n",
      "300\n"
     ]
    }
   ],
   "source": [
    "# Checking the words that are not recognised by the model\n",
    "print(set(list_missing_word))\n",
    "print(np.shape(word_vector)) # Check size of a word vector (must be 300)\n",
    "print(np.shape(word_matrix)) # Check size word matrix (must be equal to num of words in abstract minus the words that are not recognised)\n",
    "print(len(list_word2vec_vector_mean[0])) # Check size of abstract vector (must be 300)"
   ]
  },
  {
   "cell_type": "markdown",
   "metadata": {},
   "source": [
    "### Penalized Logistic model to predict number of citations with abstract embeddings\n",
    "\n",
    "Run a (penalized) logistic regression to see if the asbtract embeddings using Google's word2vec model have any predictive power of the number of citations.\n",
    "The y variable used is the same defined [here](#logistic-regression-(unigram)). The x variables are the 300 values of the asbtract embeddings. "
   ]
  },
  {
   "cell_type": "code",
   "execution_count": 34,
   "metadata": {},
   "outputs": [
    {
     "name": "stdout",
     "output_type": "stream",
     "text": [
      "0.8891355445285976\n",
      "[1. 1. 1. 1. 1. 1. 1. 1. 1. 1.]\n",
      "0     19.0\n",
      "1     22.0\n",
      "2     20.0\n",
      "3     88.0\n",
      "4     13.0\n",
      "5    138.0\n",
      "6     63.0\n",
      "7    298.0\n",
      "8     12.0\n",
      "9     13.0\n",
      "Name: Cited by, dtype: float64\n",
      "0    this article extends a foucauldian view of pow...\n",
      "1    this paper focuses on the strategic role and t...\n",
      "Name: Abstract, dtype: object\n",
      "[['article', 'extend', 'foucauldian', 'view', 'power', 'knowledge', 'archetypical', 'knowledge', 'intensive', 'organization', 'scientific', 'research', 'laboratory', 'foucault', 'hesitate', 'extend', 'analytic', 'power', 'hard', 'rhetorical', 'social', 'study', 'provide', 'foundation', 'extension', 'article', 'discursive', 'production', 'power', 'knowledge', 'big', 'laboratory', 'conduct', 'nuclear', 'fusion', 'research', 'illuminate', 'critical', 'incident', 'fusion', 'research', 'discipline', 'impose', 'normative', 'discipline', 'individual', 'scientist', 'research', 'team', 'scientific', 'knowledge', 'solely', 'product', 'datum', 'theory', 'emerge', 'discursive', 'formation', 'management', 'practice', 'institutional', 'context', 'frame', 'relationship', 'knowledge', 'power', 'sage', 'publication'], ['paper', 'focus', 'strategic', 'role', 'implementation', 'textual', 'datum', 'mining', 'government', 'organization', 'special', 'emphasis', 'support', 'management', 'technology', 'begin', 'define', 'discuss', 'strategic', 'management', 'process', 'federal', 'government', 'organization', 'role', 'integral', 'process', 'paper', 'proceed', 'use', 'application', 'result', 'demonstration', 'program', 'office', 'naval', 'research', 'potential', 'benefit', 'integration', 'national', 'multi', 'national', 'database', 'support', 'strategic', 'decision', 'direction', 'funding', 'government', 'creation', 'usable', 'database', 'support', 'strategic', 'decision', 'area', 'government', 'implication', 'demonstration', 'program', 'relative', 'large', 'scale', 'implementation', 'tdm', 'discuss', 'paper', 'end', 'description', 'principle', 'requirement', 'high', 'quality', 'study']]\n"
     ]
    }
   ],
   "source": [
    "\n",
    "print(sum(y)/y.size)\n",
    "# Check that y vector has the same order of df\n",
    "print(y[:10])\n",
    "print(df[\"Cited by\"][:10])\n",
    "# check that corpus1 has the same order of df\n",
    "print(df.Abstract[:2])\n",
    "print(corpus1[:2])"
   ]
  },
  {
   "cell_type": "code",
   "execution_count": 39,
   "metadata": {},
   "outputs": [],
   "source": [
    "from sklearn.model_selection import KFold\n",
    "from sklearn.linear_model import LogisticRegression\n",
    "from sklearn.metrics import f1_score\n",
    "from sklearn.model_selection import train_test_split\n",
    "from sklearn.model_selection import KFold\n",
    "from sklearn.preprocessing import StandardScaler\n",
    "from sklearn.linear_model import LogisticRegression\n",
    "from sklearn.metrics import f1_score\n",
    "from sklearn.linear_model import LinearRegression\n",
    "from sklearn.linear_model import SGDClassifier\n",
    "from sklearn.metrics import classification_report\n",
    "from sklearn.model_selection import StratifiedKFold\n",
    "import numpy as np\n",
    "\n",
    "def logit_model_w2v(X, y, C_grid, multi = False):\n",
    "    '''\n",
    "    This function takes a grid of values of the tuning parameter and returns a dictionary with the f1_Score and accuracy \n",
    "    on a 10-fold cross validation\n",
    "    '''\n",
    "    w2c_logit_acc = {}\n",
    "\n",
    "    for C in C_grid:\n",
    "        # Set K-Folds cross-validator\n",
    "        kf = StratifiedKFold(10, shuffle = True, random_state = 42)\n",
    "\n",
    "        # Empty lists to store the mean accuracy (lr_score) and balanced F-score (cv_lr_f1)\n",
    "        lr_score , cv_lr_f1= [], []\n",
    "\n",
    "        for train_ind, val_ind in kf.split(X,y):\n",
    "            X_train, y_train = X[train_ind], y[train_ind]\n",
    "            X_val, y_val = X[val_ind], y[val_ind]\n",
    "\n",
    "            # Notice that I am NOT normalizing the data <<---\n",
    "\n",
    "            # Set logistic regression model\n",
    "            if multi == False:\n",
    "                lr = LogisticRegression(\n",
    "                class_weight = 'balanced',\n",
    "                solver = 'saga',\n",
    "                fit_intercept = True,\n",
    "                max_iter = 10000, \n",
    "                C = C # Penalization parameter\n",
    "            ).fit(X_train, y_train)\n",
    "                y_pred = lr.predict(X_val)\n",
    "                cv_lr_f1.append(f1_score(y_val, y_pred, average='binary'))\n",
    "                \n",
    "            \n",
    "            \n",
    "            else:\n",
    "                lr = LogisticRegression(\n",
    "                class_weight = 'balanced',\n",
    "                multi_class='multinomial',\n",
    "                solver = 'saga',\n",
    "                fit_intercept = True,\n",
    "                max_iter = 100000, \n",
    "                C = C # Penalization parameter\n",
    "            ).fit(X_train, y_train)\n",
    "                y_pred = lr.predict(X_val)\n",
    "                cv_lr_f1.append(f1_score(y_val, y_pred, average='weighted'))\n",
    "\n",
    "            # Computing mean accuracy and balanced F-score\n",
    "            \n",
    "            \n",
    "        \n",
    "                \n",
    "            \n",
    "        lr_score.append(lr.score(X_val, y_val))\n",
    "        F1_score = np.mean(cv_lr_f1)\n",
    "        acc_score = np.mean(lr_score)\n",
    "        print(f\"\\n using {C} as penalization parameter\")\n",
    "        print(f'Logistic Regression Val f1: {F1_score:.3f} +- {np.std(cv_lr_f1):.3f}')\n",
    "        print(f'Logistic Regression Accuracy:{acc_score}')\n",
    "        print(\"Coefficients bigger than 0.1:\", sum(sum(lr.coef_>0.1))) # Check number of coefficient bigger than 0.1\n",
    "        w2c_logit_c = {\"F1_score\" : F1_score, \"acc_score\" : acc_score}\n",
    "        w2c_logit_acc[C] = w2c_logit_c\n",
    "    return w2c_logit_acc\n",
    "\n"
   ]
  },
  {
   "cell_type": "code",
   "execution_count": 41,
   "metadata": {},
   "outputs": [
    {
     "name": "stdout",
     "output_type": "stream",
     "text": [
      "\n",
      " using 10 as penalization parameter\n",
      "Logistic Regression Val f1: 0.697 +- 0.012\n",
      "Logistic Regression Accuracy:0.5776487663280117\n",
      "Coefficients bigger than 0.1: 5\n",
      "\n",
      " using 1 as penalization parameter\n",
      "Logistic Regression Val f1: 0.698 +- 0.012\n",
      "Logistic Regression Accuracy:0.5834542815674891\n",
      "Coefficients bigger than 0.1: 5\n",
      "\n",
      " using 0.1 as penalization parameter\n",
      "Logistic Regression Val f1: 0.707 +- 0.014\n",
      "Logistic Regression Accuracy:0.5892597968069666\n",
      "Coefficients bigger than 0.1: 5\n",
      "\n",
      " using 0.05 as penalization parameter\n",
      "Logistic Regression Val f1: 0.713 +- 0.017\n",
      "Logistic Regression Accuracy:0.5863570391872278\n",
      "Coefficients bigger than 0.1: 5\n",
      "\n",
      " using 0.025 as penalization parameter\n",
      "Logistic Regression Val f1: 0.719 +- 0.016\n",
      "Logistic Regression Accuracy:0.5994194484760522\n",
      "Coefficients bigger than 0.1: 5\n",
      "\n",
      " using 0.01 as penalization parameter\n",
      "Logistic Regression Val f1: 0.727 +- 0.017\n",
      "Logistic Regression Accuracy:0.6052249637155298\n",
      "Coefficients bigger than 0.1: 5\n",
      "\n",
      " using 1e-06 as penalization parameter\n",
      "Logistic Regression Val f1: 0.725 +- 0.040\n",
      "Logistic Regression Accuracy:0.5587808417997098\n",
      "Coefficients bigger than 0.1: 0\n",
      "\n",
      " using 100 as penalization parameter\n",
      "Logistic Regression Val f1: 0.692 +- 0.019\n",
      "Logistic Regression Accuracy:0.5718432510885341\n",
      "Coefficients bigger than 0.1: 5\n",
      "\n",
      " using 10 as penalization parameter\n",
      "Logistic Regression Val f1: 0.692 +- 0.018\n",
      "Logistic Regression Accuracy:0.5747460087082729\n",
      "Coefficients bigger than 0.1: 5\n",
      "\n",
      " using 5 as penalization parameter\n",
      "Logistic Regression Val f1: 0.693 +- 0.019\n",
      "Logistic Regression Accuracy:0.5747460087082729\n",
      "Coefficients bigger than 0.1: 5\n",
      "\n",
      " using 2.5 as penalization parameter\n",
      "Logistic Regression Val f1: 0.693 +- 0.018\n",
      "Logistic Regression Accuracy:0.5747460087082729\n",
      "Coefficients bigger than 0.1: 5\n",
      "\n",
      " using 1 as penalization parameter\n",
      "Logistic Regression Val f1: 0.693 +- 0.018\n",
      "Logistic Regression Accuracy:0.5761973875181422\n",
      "Coefficients bigger than 0.1: 5\n",
      "\n",
      " using 0.1 as penalization parameter\n",
      "Logistic Regression Val f1: 0.699 +- 0.019\n",
      "Logistic Regression Accuracy:0.5936139332365747\n",
      "Coefficients bigger than 0.1: 5\n",
      "\n",
      " using 1e-06 as penalization parameter\n",
      "Logistic Regression Val f1: 0.736 +- 0.095\n",
      "Logistic Regression Accuracy:0.4107402031930334\n",
      "Coefficients bigger than 0.1: 0\n",
      "\n",
      "Now, we use multinomial logit\n",
      "[1, 1, 1, 2, 1, ..., 0, 1, 0, 0, 0]\n",
      "Length: 7658\n",
      "Categories (3, int64): [0 < 1 < 2]\n",
      "\n",
      " using 10 as penalization parameter\n",
      "Logistic Regression Val f1: 0.358 +- 0.021\n",
      "Logistic Regression Accuracy:0.3497822931785196\n",
      "Coefficients bigger than 0.1: 16\n",
      "\n",
      " using 1 as penalization parameter\n",
      "Logistic Regression Val f1: 0.359 +- 0.019\n",
      "Logistic Regression Accuracy:0.35123367198838895\n",
      "Coefficients bigger than 0.1: 16\n",
      "\n",
      " using 0.1 as penalization parameter\n",
      "Logistic Regression Val f1: 0.354 +- 0.018\n",
      "Logistic Regression Accuracy:0.3599419448476052\n",
      "Coefficients bigger than 0.1: 16\n",
      "\n",
      " using 0.05 as penalization parameter\n",
      "Logistic Regression Val f1: 0.341 +- 0.016\n",
      "Logistic Regression Accuracy:0.3497822931785196\n",
      "Coefficients bigger than 0.1: 14\n",
      "\n",
      " using 0.025 as penalization parameter\n",
      "Logistic Regression Val f1: 0.331 +- 0.014\n",
      "Logistic Regression Accuracy:0.34107402031930334\n",
      "Coefficients bigger than 0.1: 12\n",
      "\n",
      " using 0.01 as penalization parameter\n",
      "Logistic Regression Val f1: 0.309 +- 0.012\n",
      "Logistic Regression Accuracy:0.3251088534107402\n",
      "Coefficients bigger than 0.1: 11\n",
      "\n",
      " using 1e-06 as penalization parameter\n",
      "Logistic Regression Val f1: 0.268 +- 0.068\n",
      "Logistic Regression Accuracy:0.2757619738751814\n",
      "Coefficients bigger than 0.1: 0\n",
      "\n",
      " using 100 as penalization parameter\n",
      "Logistic Regression Val f1: 0.374 +- 0.013\n",
      "Logistic Regression Accuracy:0.39622641509433965\n",
      "Coefficients bigger than 0.1: 16\n",
      "\n",
      " using 10 as penalization parameter\n",
      "Logistic Regression Val f1: 0.374 +- 0.013\n",
      "Logistic Regression Accuracy:0.39332365747460085\n",
      "Coefficients bigger than 0.1: 16\n",
      "\n",
      " using 5 as penalization parameter\n",
      "Logistic Regression Val f1: 0.374 +- 0.013\n",
      "Logistic Regression Accuracy:0.39332365747460085\n",
      "Coefficients bigger than 0.1: 16\n",
      "\n",
      " using 2.5 as penalization parameter\n",
      "Logistic Regression Val f1: 0.375 +- 0.013\n",
      "Logistic Regression Accuracy:0.39332365747460085\n",
      "Coefficients bigger than 0.1: 16\n",
      "\n",
      " using 1 as penalization parameter\n",
      "Logistic Regression Val f1: 0.374 +- 0.012\n",
      "Logistic Regression Accuracy:0.39622641509433965\n",
      "Coefficients bigger than 0.1: 15\n",
      "\n",
      " using 0.1 as penalization parameter\n",
      "Logistic Regression Val f1: 0.366 +- 0.012\n",
      "Logistic Regression Accuracy:0.4020319303338171\n",
      "Coefficients bigger than 0.1: 14\n",
      "\n",
      " using 1e-06 as penalization parameter\n",
      "Logistic Regression Val f1: 0.259 +- 0.053\n",
      "Logistic Regression Accuracy:0.3671988388969521\n",
      "Coefficients bigger than 0.1: 0\n"
     ]
    }
   ],
   "source": [
    "#LDA\n",
    "# Setting X as the predictior of the model (i.e. the abstract sentence embedding)\n",
    "y = np.array(df[\"Cited by\"])\n",
    "y[y==0] = 0\n",
    "y[y>0] = 1\n",
    "X = np.column_stack([train_vecs]) # We use the max\n",
    "scaler = StandardScaler()\n",
    "#X = scaler.fit_transform(X)\n",
    "# Set the grid\n",
    "C_grid = [100, 10, 5, 2.5, 1, 0.1, 0.05, 0.025, 0.01, 0.000001]\n",
    "# Sort sample in test and train/validation\n",
    "X_train_max, X_test_max, y_train_max, y_test_max = train_test_split(X, y,  test_size=0.1, stratify=y)\n",
    "w2c_logit_acc_max = logit_model_w2v(X_train_max, y_train_max, C_grid, multi = False)\n",
    "\n",
    "print(f'\\nNow, we use multinomial logit')\n",
    "y = np.array(df[\"Cited by\"])\n",
    "y = pd.cut(y, [-np.inf,1,51,np.inf], labels=[0,1,2])\n",
    "print(y)\n",
    "X = np.column_stack([train_vecs]) # We use the max\n",
    "scaler = StandardScaler()\n",
    "X_train_scale = scaler.fit_transform(X)\n",
    "# Set the grid\n",
    "C_grid = [100, 10, 5, 2.5, 1, 0.1, 0.05, 0.025, 0.01, 0.000001]\n",
    "# Sort sample in test and train/validation\n",
    "X_train_max, X_test_max, y_train_max, y_test_max = train_test_split(X, y,  test_size=0.1, stratify=y)\n",
    "w2c_logit_acc_max = logit_model_w2v(X_train_max, y_train_max, C_grid, multi= True)\n"
   ]
  },
  {
   "cell_type": "code",
   "execution_count": 40,
   "metadata": {},
   "outputs": [
    {
     "name": "stdout",
     "output_type": "stream",
     "text": [
      "\n",
      " using 10 as penalization parameter\n",
      "Logistic Regression Val f1: 0.657 +- 0.016\n",
      "Logistic Regression Accuracy:0.5283018867924528\n",
      "Coefficients bigger than 0.1: 0\n",
      "\n",
      " using 1 as penalization parameter\n",
      "Logistic Regression Val f1: 0.657 +- 0.016\n",
      "Logistic Regression Accuracy:0.5283018867924528\n",
      "Coefficients bigger than 0.1: 0\n",
      "\n",
      " using 0.1 as penalization parameter\n",
      "Logistic Regression Val f1: 0.656 +- 0.015\n",
      "Logistic Regression Accuracy:0.5283018867924528\n",
      "Coefficients bigger than 0.1: 0\n",
      "\n",
      " using 0.05 as penalization parameter\n",
      "Logistic Regression Val f1: 0.660 +- 0.017\n",
      "Logistic Regression Accuracy:0.5283018867924528\n",
      "Coefficients bigger than 0.1: 0\n",
      "\n",
      " using 0.025 as penalization parameter\n",
      "Logistic Regression Val f1: 0.657 +- 0.016\n",
      "Logistic Regression Accuracy:0.5283018867924528\n",
      "Coefficients bigger than 0.1: 0\n",
      "\n",
      " using 0.01 as penalization parameter\n",
      "Logistic Regression Val f1: 0.656 +- 0.016\n",
      "Logistic Regression Accuracy:0.5283018867924528\n",
      "Coefficients bigger than 0.1: 0\n",
      "\n",
      " using 1e-06 as penalization parameter\n",
      "Logistic Regression Val f1: 0.537 +- 0.363\n",
      "Logistic Regression Accuracy:0.3468795355587808\n",
      "Coefficients bigger than 0.1: 0\n",
      "\n",
      " using 100 as penalization parameter\n",
      "Logistic Regression Val f1: 0.658 +- 0.016\n",
      "Logistic Regression Accuracy:0.5007256894049347\n",
      "Coefficients bigger than 0.1: 0\n",
      "\n",
      " using 10 as penalization parameter\n",
      "Logistic Regression Val f1: 0.657 +- 0.015\n",
      "Logistic Regression Accuracy:0.5007256894049347\n",
      "Coefficients bigger than 0.1: 0\n",
      "\n",
      " using 5 as penalization parameter\n",
      "Logistic Regression Val f1: 0.659 +- 0.017\n",
      "Logistic Regression Accuracy:0.5007256894049347\n",
      "Coefficients bigger than 0.1: 0\n",
      "\n",
      " using 2.5 as penalization parameter\n",
      "Logistic Regression Val f1: 0.658 +- 0.016\n",
      "Logistic Regression Accuracy:0.5007256894049347\n",
      "Coefficients bigger than 0.1: 0\n",
      "\n",
      " using 1 as penalization parameter\n",
      "Logistic Regression Val f1: 0.661 +- 0.017\n",
      "Logistic Regression Accuracy:0.5007256894049347\n",
      "Coefficients bigger than 0.1: 0\n",
      "\n",
      " using 0.1 as penalization parameter\n",
      "Logistic Regression Val f1: 0.659 +- 0.017\n",
      "Logistic Regression Accuracy:0.5007256894049347\n",
      "Coefficients bigger than 0.1: 0\n",
      "\n",
      " using 1e-06 as penalization parameter\n",
      "Logistic Regression Val f1: 0.513 +- 0.256\n",
      "Logistic Regression Accuracy:0.5065312046444121\n",
      "Coefficients bigger than 0.1: 0\n",
      "\n",
      "Now, we use multinomial logit\n",
      "\n",
      " using 10 as penalization parameter\n",
      "Logistic Regression Val f1: 0.129 +- 0.010\n",
      "Logistic Regression Accuracy:0.19738751814223512\n",
      "Coefficients bigger than 0.1: 2\n",
      "\n",
      " using 1 as penalization parameter\n",
      "Logistic Regression Val f1: 0.127 +- 0.010\n",
      "Logistic Regression Accuracy:0.19738751814223512\n",
      "Coefficients bigger than 0.1: 2\n",
      "\n",
      " using 0.1 as penalization parameter\n",
      "Logistic Regression Val f1: 0.122 +- 0.007\n",
      "Logistic Regression Accuracy:0.19593613933236576\n",
      "Coefficients bigger than 0.1: 1\n",
      "\n",
      " using 0.05 as penalization parameter\n",
      "Logistic Regression Val f1: 0.117 +- 0.009\n",
      "Logistic Regression Accuracy:0.19448476052249636\n",
      "Coefficients bigger than 0.1: 1\n",
      "\n",
      " using 0.025 as penalization parameter\n",
      "Logistic Regression Val f1: 0.113 +- 0.009\n",
      "Logistic Regression Accuracy:0.19013062409288825\n",
      "Coefficients bigger than 0.1: 1\n",
      "\n",
      " using 0.01 as penalization parameter\n",
      "Logistic Regression Val f1: 0.106 +- 0.006\n",
      "Logistic Regression Accuracy:0.18867924528301888\n",
      "Coefficients bigger than 0.1: 1\n",
      "\n",
      " using 1e-06 as penalization parameter\n",
      "Logistic Regression Val f1: 0.103 +- 0.030\n",
      "Logistic Regression Accuracy:0.1741654571843251\n",
      "Coefficients bigger than 0.1: 0\n",
      "\n",
      " using 100 as penalization parameter\n",
      "Logistic Regression Val f1: 0.131 +- 0.010\n",
      "Logistic Regression Accuracy:0.20174165457184326\n",
      "Coefficients bigger than 0.1: 2\n",
      "\n",
      " using 10 as penalization parameter\n",
      "Logistic Regression Val f1: 0.131 +- 0.009\n",
      "Logistic Regression Accuracy:0.20174165457184326\n",
      "Coefficients bigger than 0.1: 2\n",
      "\n",
      " using 5 as penalization parameter\n",
      "Logistic Regression Val f1: 0.132 +- 0.010\n",
      "Logistic Regression Accuracy:0.20174165457184326\n",
      "Coefficients bigger than 0.1: 1\n",
      "\n",
      " using 2.5 as penalization parameter\n",
      "Logistic Regression Val f1: 0.132 +- 0.010\n",
      "Logistic Regression Accuracy:0.20174165457184326\n",
      "Coefficients bigger than 0.1: 1\n",
      "\n",
      " using 1 as penalization parameter\n",
      "Logistic Regression Val f1: 0.130 +- 0.011\n",
      "Logistic Regression Accuracy:0.20174165457184326\n",
      "Coefficients bigger than 0.1: 1\n",
      "\n",
      " using 0.1 as penalization parameter\n",
      "Logistic Regression Val f1: 0.124 +- 0.010\n",
      "Logistic Regression Accuracy:0.1988388969521045\n",
      "Coefficients bigger than 0.1: 1\n",
      "\n",
      " using 1e-06 as penalization parameter\n",
      "Logistic Regression Val f1: 0.204 +- 0.132\n",
      "Logistic Regression Accuracy:0.18722786647314948\n",
      "Coefficients bigger than 0.1: 0\n"
     ]
    }
   ],
   "source": [
    "#sentiment - textblob: subjectivity\n",
    "# Setting X as the predictior of the model (i.e. the abstract sentence embedding)\n",
    "y = np.array(df[\"Cited by\"])\n",
    "y[y==0] = 0\n",
    "y[y>0] = 1\n",
    "\n",
    "X = np.column_stack([df[\"abs_subjectivity\"]]) # We use the max\n",
    "scaler = StandardScaler()\n",
    "#X = scaler.fit_transform(X)\n",
    "# Set the grid\n",
    "C_grid = [100, 10, 5, 2.5, 1, 0.1, 0.05, 0.025, 0.01, 0.000001]\n",
    "# Sort sample in test and train/validation\n",
    "X_train_max, X_test_max, y_train_max, y_test_max = train_test_split(X, y,  test_size=0.1,stratify=y)\n",
    "w2c_logit_acc_max = logit_model_w2v(X_train_max, y_train_max, C_grid, multi = False)\n",
    "\n",
    "\n",
    "print(f'\\nNow, we use multinomial logit')\n",
    "y = np.array(df[\"Cited by\"])\n",
    "y = pd.cut(y, [-np.inf,1,51,np.inf], labels=[0,1,2])\n",
    "C_grid = [100, 10, 5, 2.5, 1, 0.1, 0.05, 0.025, 0.01, 0.000001]\n",
    "# Sort sample in test and train/validation\n",
    "X_train_max, X_test_max, y_train_max, y_test_max = train_test_split(X, y,  test_size=0.1,stratify=y)\n",
    "w2c_logit_acc_max = logit_model_w2v(X_train_max, y_train_max, C_grid, multi = True)\n"
   ]
  },
  {
   "cell_type": "code",
   "execution_count": 42,
   "metadata": {},
   "outputs": [
    {
     "name": "stdout",
     "output_type": "stream",
     "text": [
      "\n",
      " using 10 as penalization parameter\n",
      "Logistic Regression Val f1: 0.665 +- 0.026\n",
      "Logistic Regression Accuracy:0.521044992743106\n",
      "Coefficients bigger than 0.1: 1\n",
      "\n",
      " using 1 as penalization parameter\n",
      "Logistic Regression Val f1: 0.665 +- 0.026\n",
      "Logistic Regression Accuracy:0.521044992743106\n",
      "Coefficients bigger than 0.1: 1\n",
      "\n",
      " using 0.1 as penalization parameter\n",
      "Logistic Regression Val f1: 0.664 +- 0.027\n",
      "Logistic Regression Accuracy:0.521044992743106\n",
      "Coefficients bigger than 0.1: 1\n",
      "\n",
      " using 0.05 as penalization parameter\n",
      "Logistic Regression Val f1: 0.664 +- 0.027\n",
      "Logistic Regression Accuracy:0.5195936139332366\n",
      "Coefficients bigger than 0.1: 1\n",
      "\n",
      " using 0.025 as penalization parameter\n",
      "Logistic Regression Val f1: 0.604 +- 0.174\n",
      "Logistic Regression Accuracy:0.521044992743106\n",
      "Coefficients bigger than 0.1: 1\n",
      "\n",
      " using 0.01 as penalization parameter\n",
      "Logistic Regression Val f1: 0.668 +- 0.025\n",
      "Logistic Regression Accuracy:0.5195936139332366\n",
      "Coefficients bigger than 0.1: 0\n",
      "\n",
      " using 1e-06 as penalization parameter\n",
      "Logistic Regression Val f1: 0.575 +- 0.347\n",
      "Logistic Regression Accuracy:0.23802612481857766\n",
      "Coefficients bigger than 0.1: 0\n",
      "\n",
      " using 100 as penalization parameter\n",
      "Logistic Regression Val f1: 0.670 +- 0.010\n",
      "Logistic Regression Accuracy:0.5224963715529753\n",
      "Coefficients bigger than 0.1: 1\n",
      "\n",
      " using 10 as penalization parameter\n",
      "Logistic Regression Val f1: 0.670 +- 0.010\n",
      "Logistic Regression Accuracy:0.521044992743106\n",
      "Coefficients bigger than 0.1: 1\n",
      "\n",
      " using 5 as penalization parameter\n",
      "Logistic Regression Val f1: 0.668 +- 0.011\n",
      "Logistic Regression Accuracy:0.5224963715529753\n",
      "Coefficients bigger than 0.1: 1\n",
      "\n",
      " using 2.5 as penalization parameter\n",
      "Logistic Regression Val f1: 0.670 +- 0.010\n",
      "Logistic Regression Accuracy:0.525399129172714\n",
      "Coefficients bigger than 0.1: 1\n",
      "\n",
      " using 1 as penalization parameter\n",
      "Logistic Regression Val f1: 0.669 +- 0.010\n",
      "Logistic Regression Accuracy:0.5224963715529753\n",
      "Coefficients bigger than 0.1: 1\n",
      "\n",
      " using 0.1 as penalization parameter\n",
      "Logistic Regression Val f1: 0.669 +- 0.008\n",
      "Logistic Regression Accuracy:0.5224963715529753\n",
      "Coefficients bigger than 0.1: 1\n",
      "\n",
      " using 1e-06 as penalization parameter\n",
      "Logistic Regression Val f1: 0.388 +- 0.366\n",
      "Logistic Regression Accuracy:0.11175616835994194\n",
      "Coefficients bigger than 0.1: 0\n",
      "\n",
      "Now, we use multinomial logit\n",
      "\n",
      " using 10 as penalization parameter\n",
      "Logistic Regression Val f1: 0.380 +- 0.090\n",
      "Logistic Regression Accuracy:0.4034833091436865\n",
      "Coefficients bigger than 0.1: 1\n",
      "\n",
      " using 1 as penalization parameter\n",
      "Logistic Regression Val f1: 0.379 +- 0.090\n",
      "Logistic Regression Accuracy:0.4034833091436865\n",
      "Coefficients bigger than 0.1: 1\n",
      "\n",
      " using 0.1 as penalization parameter\n",
      "Logistic Regression Val f1: 0.377 +- 0.092\n",
      "Logistic Regression Accuracy:0.4020319303338171\n",
      "Coefficients bigger than 0.1: 1\n",
      "\n",
      " using 0.05 as penalization parameter\n",
      "Logistic Regression Val f1: 0.378 +- 0.093\n",
      "Logistic Regression Accuracy:0.4020319303338171\n",
      "Coefficients bigger than 0.1: 1\n",
      "\n",
      " using 0.025 as penalization parameter\n",
      "Logistic Regression Val f1: 0.376 +- 0.095\n",
      "Logistic Regression Accuracy:0.4005805515239477\n",
      "Coefficients bigger than 0.1: 1\n",
      "\n",
      " using 0.01 as penalization parameter\n",
      "Logistic Regression Val f1: 0.376 +- 0.094\n",
      "Logistic Regression Accuracy:0.40493468795355586\n",
      "Coefficients bigger than 0.1: 1\n",
      "\n",
      " using 1e-06 as penalization parameter\n",
      "Logistic Regression Val f1: 0.226 +- 0.162\n",
      "Logistic Regression Accuracy:0.21770682148040638\n",
      "Coefficients bigger than 0.1: 0\n",
      "\n",
      " using 100 as penalization parameter\n",
      "Logistic Regression Val f1: 0.383 +- 0.085\n",
      "Logistic Regression Accuracy:0.20029027576197386\n",
      "Coefficients bigger than 0.1: 1\n",
      "\n",
      " using 10 as penalization parameter\n",
      "Logistic Regression Val f1: 0.386 +- 0.077\n",
      "Logistic Regression Accuracy:0.21190130624092887\n",
      "Coefficients bigger than 0.1: 1\n",
      "\n",
      " using 5 as penalization parameter\n",
      "Logistic Regression Val f1: 0.384 +- 0.083\n",
      "Logistic Regression Accuracy:0.20174165457184326\n",
      "Coefficients bigger than 0.1: 1\n",
      "\n",
      " using 2.5 as penalization parameter\n",
      "Logistic Regression Val f1: 0.381 +- 0.091\n",
      "Logistic Regression Accuracy:0.19448476052249636\n",
      "Coefficients bigger than 0.1: 1\n",
      "\n",
      " using 1 as penalization parameter\n",
      "Logistic Regression Val f1: 0.392 +- 0.059\n",
      "Logistic Regression Accuracy:0.22931785195936139\n",
      "Coefficients bigger than 0.1: 1\n",
      "\n",
      " using 0.1 as penalization parameter\n",
      "Logistic Regression Val f1: 0.378 +- 0.092\n",
      "Logistic Regression Accuracy:0.19158200290275762\n",
      "Coefficients bigger than 0.1: 1\n",
      "\n",
      " using 1e-06 as penalization parameter\n",
      "Logistic Regression Val f1: 0.388 +- 0.137\n",
      "Logistic Regression Accuracy:0.3134978229317852\n",
      "Coefficients bigger than 0.1: 0\n"
     ]
    }
   ],
   "source": [
    "#sentiment - textblob: polarity\n",
    "# Setting X as the predictior of the model (i.e. the abstract sentence embedding)\n",
    "y = np.array(df[\"Cited by\"])\n",
    "y[y==0] = 0\n",
    "y[y>0] = 1\n",
    "\n",
    "X = np.column_stack([df[\"abs_polarity\"]]) # We use the max\n",
    "scaler = StandardScaler()\n",
    "#X = scaler.fit_transform(X)\n",
    "# Set the grid\n",
    "C_grid = [100, 10, 5, 2.5, 1, 0.1, 0.05, 0.025, 0.01, 0.000001]\n",
    "# Sort sample in test and train/validation\n",
    "X_train_max, X_test_max, y_train_max, y_test_max = train_test_split(X, y,  test_size=0.1,stratify=y)\n",
    "w2c_logit_acc_max = logit_model_w2v(X_train_max, y_train_max, C_grid, multi = False)\n",
    "\n",
    "print(f'\\nNow, we use multinomial logit')\n",
    "y = np.array(df[\"Cited by\"])\n",
    "y = pd.cut(y, [-np.inf,1,51,np.inf], labels=[0,1,2])\n",
    "C_grid = [100, 10, 5, 2.5, 1, 0.1, 0.05, 0.025, 0.01, 0.000001]\n",
    "# Sort sample in test and train/validation\n",
    "X_train_max, X_test_max, y_train_max, y_test_max = train_test_split(X, y,  test_size=0.1,stratify=y)\n",
    "w2c_logit_acc_max = logit_model_w2v(X_train_max, y_train_max, C_grid, multi = True)\n"
   ]
  },
  {
   "cell_type": "code",
   "execution_count": 45,
   "metadata": {},
   "outputs": [
    {
     "name": "stdout",
     "output_type": "stream",
     "text": [
      "\n",
      " using 10 as penalization parameter\n",
      "Logistic Regression Val f1: 0.777 +- 0.018\n",
      "Logistic Regression Accuracy:0.6690856313497823\n",
      "Coefficients bigger than 0.1: 136\n",
      "\n",
      " using 1 as penalization parameter\n",
      "Logistic Regression Val f1: 0.775 +- 0.019\n",
      "Logistic Regression Accuracy:0.6719883889695211\n",
      "Coefficients bigger than 0.1: 135\n",
      "\n",
      " using 0.1 as penalization parameter\n",
      "Logistic Regression Val f1: 0.769 +- 0.016\n",
      "Logistic Regression Accuracy:0.6632801161103048\n",
      "Coefficients bigger than 0.1: 116\n",
      "\n",
      " using 0.05 as penalization parameter\n",
      "Logistic Regression Val f1: 0.768 +- 0.013\n",
      "Logistic Regression Accuracy:0.6574746008708273\n",
      "Coefficients bigger than 0.1: 98\n",
      "\n",
      " using 0.025 as penalization parameter\n",
      "Logistic Regression Val f1: 0.766 +- 0.015\n",
      "Logistic Regression Accuracy:0.6531204644412192\n",
      "Coefficients bigger than 0.1: 74\n",
      "\n",
      " using 0.01 as penalization parameter\n",
      "Logistic Regression Val f1: 0.757 +- 0.015\n",
      "Logistic Regression Accuracy:0.6473149492017417\n",
      "Coefficients bigger than 0.1: 27\n",
      "\n",
      " using 1e-06 as penalization parameter\n",
      "Logistic Regression Val f1: 0.736 +- 0.016\n",
      "Logistic Regression Accuracy:0.6095791001451378\n",
      "Coefficients bigger than 0.1: 0\n",
      "\n",
      " using 100 as penalization parameter\n",
      "Logistic Regression Val f1: 0.792 +- 0.011\n",
      "Logistic Regression Accuracy:0.6792452830188679\n",
      "Coefficients bigger than 0.1: 148\n",
      "\n",
      " using 10 as penalization parameter\n",
      "Logistic Regression Val f1: 0.788 +- 0.014\n",
      "Logistic Regression Accuracy:0.6632801161103048\n",
      "Coefficients bigger than 0.1: 141\n",
      "\n",
      " using 5 as penalization parameter\n",
      "Logistic Regression Val f1: 0.786 +- 0.014\n",
      "Logistic Regression Accuracy:0.6690856313497823\n",
      "Coefficients bigger than 0.1: 137\n",
      "\n",
      " using 2.5 as penalization parameter\n",
      "Logistic Regression Val f1: 0.780 +- 0.011\n",
      "Logistic Regression Accuracy:0.660377358490566\n",
      "Coefficients bigger than 0.1: 135\n",
      "\n",
      " using 1 as penalization parameter\n",
      "Logistic Regression Val f1: 0.770 +- 0.012\n",
      "Logistic Regression Accuracy:0.6516690856313497\n",
      "Coefficients bigger than 0.1: 135\n",
      "\n",
      " using 0.1 as penalization parameter\n",
      "Logistic Regression Val f1: 0.754 +- 0.015\n",
      "Logistic Regression Accuracy:0.6226415094339622\n",
      "Coefficients bigger than 0.1: 100\n",
      "\n",
      " using 1e-06 as penalization parameter\n",
      "Logistic Regression Val f1: 0.713 +- 0.092\n",
      "Logistic Regression Accuracy:0.6357039187227866\n",
      "Coefficients bigger than 0.1: 0\n",
      "\n",
      "Now, we use multinomial logit\n",
      "\n",
      " using 10 as penalization parameter\n",
      "Logistic Regression Val f1: 0.456 +- 0.012\n",
      "Logistic Regression Accuracy:0.4397677793904209\n",
      "Coefficients bigger than 0.1: 366\n",
      "\n",
      " using 1 as penalization parameter\n",
      "Logistic Regression Val f1: 0.454 +- 0.011\n",
      "Logistic Regression Accuracy:0.44702467343976776\n",
      "Coefficients bigger than 0.1: 359\n",
      "\n",
      " using 0.1 as penalization parameter\n",
      "Logistic Regression Val f1: 0.436 +- 0.016\n",
      "Logistic Regression Accuracy:0.4513788098693759\n",
      "Coefficients bigger than 0.1: 281\n",
      "\n",
      " using 0.05 as penalization parameter\n",
      "Logistic Regression Val f1: 0.419 +- 0.015\n",
      "Logistic Regression Accuracy:0.4397677793904209\n",
      "Coefficients bigger than 0.1: 224\n",
      "\n",
      " using 0.025 as penalization parameter\n",
      "Logistic Regression Val f1: 0.401 +- 0.015\n",
      "Logistic Regression Accuracy:0.4223512336719884\n",
      "Coefficients bigger than 0.1: 158\n",
      "\n",
      " using 0.01 as penalization parameter\n",
      "Logistic Regression Val f1: 0.367 +- 0.018\n",
      "Logistic Regression Accuracy:0.4005805515239477\n",
      "Coefficients bigger than 0.1: 59\n",
      "\n",
      " using 1e-06 as penalization parameter\n",
      "Logistic Regression Val f1: 0.233 +- 0.024\n",
      "Logistic Regression Accuracy:0.2641509433962264\n",
      "Coefficients bigger than 0.1: 0\n",
      "\n",
      " using 100 as penalization parameter\n",
      "Logistic Regression Val f1: 0.459 +- 0.014\n",
      "Logistic Regression Accuracy:0.4629898403483309\n",
      "Coefficients bigger than 0.1: 443\n",
      "\n",
      " using 10 as penalization parameter\n",
      "Logistic Regression Val f1: 0.454 +- 0.014\n",
      "Logistic Regression Accuracy:0.44992743105950656\n",
      "Coefficients bigger than 0.1: 427\n",
      "\n",
      " using 5 as penalization parameter\n",
      "Logistic Regression Val f1: 0.454 +- 0.013\n",
      "Logistic Regression Accuracy:0.44702467343976776\n",
      "Coefficients bigger than 0.1: 414\n",
      "\n",
      " using 2.5 as penalization parameter\n",
      "Logistic Regression Val f1: 0.448 +- 0.015\n",
      "Logistic Regression Accuracy:0.44847605224963716\n",
      "Coefficients bigger than 0.1: 405\n",
      "\n",
      " using 1 as penalization parameter\n",
      "Logistic Regression Val f1: 0.432 +- 0.020\n",
      "Logistic Regression Accuracy:0.43686502177068215\n",
      "Coefficients bigger than 0.1: 376\n",
      "\n",
      " using 0.1 as penalization parameter\n",
      "Logistic Regression Val f1: 0.355 +- 0.016\n",
      "Logistic Regression Accuracy:0.37155297532656023\n",
      "Coefficients bigger than 0.1: 250\n",
      "\n",
      " using 1e-06 as penalization parameter\n",
      "Logistic Regression Val f1: 0.252 +- 0.078\n",
      "Logistic Regression Accuracy:0.2772133526850508\n",
      "Coefficients bigger than 0.1: 0\n"
     ]
    }
   ],
   "source": [
    "#sentiment - WE\n",
    "# Setting X as the predictior of the model (i.e. the abstract sentence embedding)\n",
    "y = np.array(df[\"Cited by\"])\n",
    "y[y==0] = 0\n",
    "y[y>0] = 1\n",
    "\n",
    "X = np.column_stack([list_word2vec_vector_max]) # We use the max\n",
    "scaler = StandardScaler()\n",
    "#X = scaler.fit_transform(X)\n",
    "# Set the grid\n",
    "C_grid = [10, 1, 0.1, 0.05, 0.025, 0.01, 0.000001]\n",
    "# Sort sample in test and train/validation\n",
    "X_train_max, X_test_max, y_train_max, y_test_max = train_test_split(X, y,  test_size=0.1,stratify=y)\n",
    "w2c_logit_acc_max = logit_model_w2v(X_train_max, y_train_max, C_grid, multi = False)\n",
    "\n",
    "# Setting X as the predictior of the model (i.e. the abstract sentence embedding)\n",
    "X = np.column_stack([list_word2vec_vector_mean]) # We use the mean\n",
    "# Sort sample in test and train/validation\n",
    "#X = scaler.fit_transform(X)\n",
    "X_train_mean, X_test_mean, y_train_mean, y_test_mean = train_test_split(X, y,  test_size=0.1,stratify=y)\n",
    "# Set a new grid\n",
    "C_grid = [100, 10, 5, 2.5, 1, 0.1, 0.000001]\n",
    "w2c_logit_acc_mean = logit_model_w2v(X_train_mean, y_train_mean, C_grid)\n",
    "\n",
    "print(f'\\nNow, we use multinomial logit')\n",
    "X = np.column_stack([list_word2vec_vector_max])\n",
    "y = np.array(df[\"Cited by\"])\n",
    "y = pd.cut(y, [-np.inf,1,51,np.inf], labels=[0,1,2])\n",
    "C_grid = [10, 1, 0.1, 0.05, 0.025, 0.01, 0.000001]\n",
    "# Sort sample in test and train/validation\n",
    "X_train_max, X_test_max, y_train_max, y_test_max = train_test_split(X, y,  test_size=0.1,stratify=y)\n",
    "w2c_logit_acc_max = logit_model_w2v(X_train_max, y_train_max, C_grid, multi = True)\n",
    "\n",
    "# Setting X as the predictior of the model (i.e. the abstract sentence embedding)\n",
    "X = np.column_stack([list_word2vec_vector_mean])# We use the mean\n",
    "# Sort sample in test and train/validation\n",
    "#X = scaler.fit_transform(X)\n",
    "X_train_mean, X_test_mean, y_train_mean, y_test_mean = train_test_split(X, y,  test_size=0.1,stratify=y)\n",
    "# Set a new grid\n",
    "C_grid = [100, 10, 5, 2.5, 1, 0.1, 0.000001]\n",
    "w2c_logit_acc_mean = logit_model_w2v(X_train_mean, y_train_mean, C_grid, multi = True)"
   ]
  },
  {
   "cell_type": "code",
   "execution_count": 65,
   "metadata": {},
   "outputs": [
    {
     "name": "stdout",
     "output_type": "stream",
     "text": [
      "           F1_score  acc_score\n",
      "10.000000  0.693040   0.565586\n",
      "1.000000   0.695246   0.568052\n",
      "0.100000   0.702019   0.574872\n",
      "0.050000   0.707719   0.580821\n",
      "0.025000   0.716735   0.590833\n",
      "0.010000   0.724416   0.599102\n",
      "0.000001   0.728909   0.603458\n"
     ]
    },
    {
     "data": {
      "text/plain": [
       "Float64Index([1e-06], dtype='float64')"
      ]
     },
     "execution_count": 65,
     "metadata": {},
     "output_type": "execute_result"
    }
   ],
   "source": [
    "w2c_logit_acc_max_df = pd.DataFrame.from_dict(w2c_logit_acc_max, orient = \"index\")\n",
    "print(w2c_logit_acc_max_df)\n",
    "# Select the best value of C for abstract embedding with max\n",
    "max_c = max(w2c_logit_acc_max_df.F1_score)\n",
    "\n",
    "w2c_logit_acc_max_df.loc[w2c_logit_acc_max_df.F1_score == max_c, :].index"
   ]
  },
  {
   "cell_type": "code",
   "execution_count": 66,
   "metadata": {},
   "outputs": [
    {
     "name": "stdout",
     "output_type": "stream",
     "text": [
      "f1_score on test: 0.7150635208711434\n",
      "Accuracy on test: 0.5900783289817232\n"
     ]
    }
   ],
   "source": [
    "# Training again the model on the entire train set with c = max_c\n",
    "lr_max_best = LogisticRegression(\n",
    "                class_weight = 'balanced',\n",
    "                solver = 'saga',\n",
    "                fit_intercept = True,\n",
    "                max_iter = 10000, \n",
    "                C = max_c # Penalization parameter set to max_c\n",
    "            ).fit(X_train_max, y_train_max)\n",
    "# Computing mean accuracy and balanced F-score on train dataset\n",
    "y_pred = lr_max_best.predict(X_test_max)\n",
    "print(\"f1_score on test:\", f1_score(y_test_max, y_pred, average='binary'))\n",
    "print(\"Accuracy on test:\", lr_max_best.score(X_test_max, y_test_max))"
   ]
  },
  {
   "cell_type": "code",
   "execution_count": 55,
   "metadata": {},
   "outputs": [
    {
     "name": "stdout",
     "output_type": "stream",
     "text": [
      "            F1_score  acc_score\n",
      "100.000000  0.692718   0.565003\n",
      "10.000000   0.692716   0.565003\n",
      "5.000000    0.693321   0.565729\n",
      "2.500000    0.693714   0.566019\n",
      "1.000000    0.694371   0.566599\n",
      "0.100000    0.699713   0.571967\n",
      "0.000001    0.730626   0.609554\n"
     ]
    },
    {
     "data": {
      "text/plain": [
       "Float64Index([1e-06], dtype='float64')"
      ]
     },
     "execution_count": 55,
     "metadata": {},
     "output_type": "execute_result"
    }
   ],
   "source": [
    "w2c_logit_acc_mean_df = pd.DataFrame.from_dict(w2c_logit_acc_mean, orient = \"index\")\n",
    "print(w2c_logit_acc_mean_df)\n",
    "# Select the best value of C for abstract embedding with mean\n",
    "max_c = max(w2c_logit_acc_mean_df.F1_score)\n",
    "w2c_logit_acc_mean_df.loc[w2c_logit_acc_mean_df.F1_score == max_c, :].index"
   ]
  },
  {
   "cell_type": "code",
   "execution_count": 67,
   "metadata": {},
   "outputs": [
    {
     "name": "stdout",
     "output_type": "stream",
     "text": [
      "f1_score on test: 0.6940298507462687\n",
      "Accuracy on test: 0.5718015665796344\n"
     ]
    }
   ],
   "source": [
    "# Training again the model on the entire train set with c = max_c\n",
    "lr_mean_best = LogisticRegression(\n",
    "                class_weight = 'balanced',\n",
    "                solver = 'saga',\n",
    "                fit_intercept = True,\n",
    "                max_iter = 10000, \n",
    "                C = max_c # Penalization parameter set to max_c\n",
    "            ).fit(X_train_mean, y_train_mean)\n",
    "# Computing mean accuracy and balanced F-score on train dataset\n",
    "y_pred = lr_mean_best.predict(X_test_mean)\n",
    "print(\"f1_score on test:\", f1_score(y_test_mean, y_pred, average='binary'))\n",
    "print(\"Accuracy on test:\", lr_mean_best.score(X_test_mean, y_test_mean))"
   ]
  },
  {
   "cell_type": "markdown",
   "metadata": {},
   "source": [
    "### LASSO\n",
    "Running a LASSO model to predict the number of citations.\n",
    "\n",
    "**Since probably we are not using LASSO do not mind about this part**"
   ]
  },
  {
   "cell_type": "code",
   "execution_count": 70,
   "metadata": {},
   "outputs": [
    {
     "data": {
      "text/plain": [
       "'\\nfrom sklearn.linear_model import Lasso\\nfrom sklearn.metrics import mean_squared_error\\n\\ndef LASSO_model_w2v(X, y, C_grid):\\n    w2c_LASSO_mse = {}\\n\\n    for C in C_grid:\\n        # Set K-Folds cross-validator\\n        k = 10\\n        kf = KFold(k, shuffle = True, random_state = 42)\\n\\n        # Empty lists to store the mean accuracy (lr_score) and balanced F-score (cv_lr_f1)\\n        LASSO_mse = []\\n\\n        for train_ind, val_ind in kf.split(X,y):\\n            X_train, y_train = X[train_ind], y[train_ind]\\n            X_val, y_val = X[val_ind], y[val_ind]\\n\\n            # Notice that I am NOT normalizing the data <<---\\n\\n            # Set logistic regression model\\n            lasso = Lasso(alpha = C).fit(X_train, y_train)\\n\\n            # Computing mean accuracy and balanced F-score\\n            y_pred = lasso.predict(X_val)\\n            # print(y_pred[:20])\\n            LASSO_mse.append(mean_squared_error(y_pred, y_val))\\n        mse_score = np.mean(LASSO_mse)\\n        print(f\"\\n using {C} as penalization parameter\")\\n        print(f\\'LASSO MSE: {mse_score:.3f} +- {np.std(LASSO_mse)/k:.3f}\\')\\n        print(\"Coefficients bigger than 0.01:\", sum(lasso.coef_>0.01)) # Check number of coefficient bigger than 0.1\\n        w2c_LASSO_c = {\"mse\" : mse_score, \"sd\" : np.std(LASSO_mse)/k}\\n        w2c_LASSO_mse[C] = w2c_LASSO_c\\n    return w2c_LASSO_mse\\n\\n\\nX = np.column_stack([list_word2vec_vector_max])\\n\\nyears_from_pub = 2021-df.Year\\n\\nX_pos = X[y>0]\\ny_pos = df[\"Cited by\"][y>0]\\n\\nC_grid = [1,  0.5, 0.25, 0.1, 0.075, 0.05, 1e-5]\\nw2c_lasso_mse_max = LASSO_model_w2v(X, df[\"Cited by\"], C_grid)\\nw2c_lasso_mse_max = pd.DataFrame.from_dict(w2c_lasso_mse_max, orient = \"index\")\\n\\nX = np.column_stack([list_word2vec_vector_mean])\\nX_pos = X[y>0]\\n\\nC_grid = [1,0.1, 0.05, 0.025, 0.01, 0.005, 1e-5]\\nw2c_lasso_mse_mean = LASSO_model_w2v(X, df[\"Cited by\"], C_grid)\\nw2c_lasso_mse_mean = pd.DataFrame.from_dict(w2c_lasso_mse_mean, orient = \"index\")\\nprint(w2c_lasso_mse_max)\\nprint(w2c_lasso_mse_mean)\\n\\nX = np.column_stack([list_word2vec_vector_max])\\nX_pos = X[y>0]\\ny_pos = df[\"Cited by\"][y>0]\\n\\nC_grid = [1,  0.05, 0.025, 0.01, 0.0075, 0.005, 1e-5]\\nw2c_lasso_mse_max = LASSO_model_w2v(X, df[\"Cited by\"]/years_from_pub, C_grid)\\nw2c_lasso_mse_max = pd.DataFrame.from_dict(w2c_lasso_mse_max, orient = \"index\")\\n\\nX = np.column_stack([list_word2vec_vector_mean])\\nX_pos = X[y>0]\\n\\nC_grid = [1, 0.01, 0.005, 0.0025, 0.001, 0.0005, 1e-5]\\nw2c_lasso_mse_mean = LASSO_model_w2v(X, df[\"Cited by\"]/years_from_pub, C_grid)\\nw2c_lasso_mse_mean = pd.DataFrame.from_dict(w2c_lasso_mse_mean, orient = \"index\")\\n\\nprint(w2c_lasso_mse_max)\\nprint(w2c_lasso_mse_mean)\\n'"
      ]
     },
     "execution_count": 70,
     "metadata": {},
     "output_type": "execute_result"
    }
   ],
   "source": [
    "'''\n",
    "from sklearn.linear_model import Lasso\n",
    "from sklearn.metrics import mean_squared_error\n",
    "\n",
    "def LASSO_model_w2v(X, y, C_grid):\n",
    "    w2c_LASSO_mse = {}\n",
    "\n",
    "    for C in C_grid:\n",
    "        # Set K-Folds cross-validator\n",
    "        k = 10\n",
    "        kf = KFold(k, shuffle = True, random_state = 42)\n",
    "\n",
    "        # Empty lists to store the mean accuracy (lr_score) and balanced F-score (cv_lr_f1)\n",
    "        LASSO_mse = []\n",
    "\n",
    "        for train_ind, val_ind in kf.split(X,y):\n",
    "            X_train, y_train = X[train_ind], y[train_ind]\n",
    "            X_val, y_val = X[val_ind], y[val_ind]\n",
    "\n",
    "            # Notice that I am NOT normalizing the data <<---\n",
    "\n",
    "            # Set logistic regression model\n",
    "            lasso = Lasso(alpha = C).fit(X_train, y_train)\n",
    "\n",
    "            # Computing mean accuracy and balanced F-score\n",
    "            y_pred = lasso.predict(X_val)\n",
    "            # print(y_pred[:20])\n",
    "            LASSO_mse.append(mean_squared_error(y_pred, y_val))\n",
    "        mse_score = np.mean(LASSO_mse)\n",
    "        print(f\"\\n using {C} as penalization parameter\")\n",
    "        print(f'LASSO MSE: {mse_score:.3f} +- {np.std(LASSO_mse)/k:.3f}')\n",
    "        print(\"Coefficients bigger than 0.01:\", sum(lasso.coef_>0.01)) # Check number of coefficient bigger than 0.1\n",
    "        w2c_LASSO_c = {\"mse\" : mse_score, \"sd\" : np.std(LASSO_mse)/k}\n",
    "        w2c_LASSO_mse[C] = w2c_LASSO_c\n",
    "    return w2c_LASSO_mse\n",
    "\n",
    "\n",
    "X = np.column_stack([list_word2vec_vector_max])\n",
    "\n",
    "years_from_pub = 2021-df.Year\n",
    "\n",
    "X_pos = X[y>0]\n",
    "y_pos = df[\"Cited by\"][y>0]\n",
    "\n",
    "C_grid = [1,  0.5, 0.25, 0.1, 0.075, 0.05, 1e-5]\n",
    "w2c_lasso_mse_max = LASSO_model_w2v(X, df[\"Cited by\"], C_grid)\n",
    "w2c_lasso_mse_max = pd.DataFrame.from_dict(w2c_lasso_mse_max, orient = \"index\")\n",
    "\n",
    "X = np.column_stack([list_word2vec_vector_mean])\n",
    "X_pos = X[y>0]\n",
    "\n",
    "C_grid = [1,0.1, 0.05, 0.025, 0.01, 0.005, 1e-5]\n",
    "w2c_lasso_mse_mean = LASSO_model_w2v(X, df[\"Cited by\"], C_grid)\n",
    "w2c_lasso_mse_mean = pd.DataFrame.from_dict(w2c_lasso_mse_mean, orient = \"index\")\n",
    "print(w2c_lasso_mse_max)\n",
    "print(w2c_lasso_mse_mean)\n",
    "\n",
    "X = np.column_stack([list_word2vec_vector_max])\n",
    "X_pos = X[y>0]\n",
    "y_pos = df[\"Cited by\"][y>0]\n",
    "\n",
    "C_grid = [1,  0.05, 0.025, 0.01, 0.0075, 0.005, 1e-5]\n",
    "w2c_lasso_mse_max = LASSO_model_w2v(X, df[\"Cited by\"]/years_from_pub, C_grid)\n",
    "w2c_lasso_mse_max = pd.DataFrame.from_dict(w2c_lasso_mse_max, orient = \"index\")\n",
    "\n",
    "X = np.column_stack([list_word2vec_vector_mean])\n",
    "X_pos = X[y>0]\n",
    "\n",
    "C_grid = [1, 0.01, 0.005, 0.0025, 0.001, 0.0005, 1e-5]\n",
    "w2c_lasso_mse_mean = LASSO_model_w2v(X, df[\"Cited by\"]/years_from_pub, C_grid)\n",
    "w2c_lasso_mse_mean = pd.DataFrame.from_dict(w2c_lasso_mse_mean, orient = \"index\")\n",
    "\n",
    "print(w2c_lasso_mse_max)\n",
    "print(w2c_lasso_mse_mean)\n",
    "'''"
   ]
  }
 ],
 "metadata": {
  "kernelspec": {
   "display_name": "Python 3",
   "language": "python",
   "name": "python3"
  },
  "language_info": {
   "codemirror_mode": {
    "name": "ipython",
    "version": 3
   },
   "file_extension": ".py",
   "mimetype": "text/x-python",
   "name": "python",
   "nbconvert_exporter": "python",
   "pygments_lexer": "ipython3",
   "version": "3.8.5"
  }
 },
 "nbformat": 4,
 "nbformat_minor": 2
}
