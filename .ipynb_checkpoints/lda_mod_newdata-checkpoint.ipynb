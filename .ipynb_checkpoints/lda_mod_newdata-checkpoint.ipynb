{
 "cells": [
  {
   "cell_type": "markdown",
   "metadata": {},
   "source": [
    "### Table of Contents\n",
    "\n",
    "### Data analysis (preprocessing, heap's law, zief's law, bigram)\n",
    "\n",
    "### Word Clouds\n",
    "\n",
    "### LDA\n",
    "*  LDA over all years and logistic regression - unigram\n",
    "\n",
    "* Logistic Regression\n",
    "\n",
    "Note\n",
    "Y variable is 1 = cited above median (4), 0 = anything less than 4"
   ]
  },
  {
   "cell_type": "code",
   "execution_count": 1,
   "metadata": {},
   "outputs": [],
   "source": [
    "import pickle, re\n",
    "import pandas as pd\n",
    "from sklearn.feature_extraction.text import CountVectorizer\n",
    "from sklearn.feature_extraction import text\n",
    "from sklearn.feature_extraction.text import TfidfVectorizer\n",
    "from yellowbrick.text import FreqDistVisualizer\n",
    "import matplotlib.pyplot as plt\n",
    "import numpy as np\n",
    "import spacy\n",
    "from stargazer.stargazer import Stargazer"
   ]
  },
  {
   "cell_type": "markdown",
   "metadata": {},
   "source": [
    "# Get the data and check it"
   ]
  },
  {
   "cell_type": "code",
   "execution_count": 7,
   "metadata": {},
   "outputs": [],
   "source": [
    "# unpickled_df = pd.read_pickle(\"C:/Users/amt/Documents/0. MSc Tinbergen/block 5. NLP/extracted_data.pkl\")\n",
    "df = pd.read_pickle(r\"C:\\Users\\marco\\Desktop\\NLP\\extracted_data.pkl\")\n",
    "#df = pd.read_pickle(r\"C:\\Users\\USER\\OneDrive\\Documents\\Python\\NLP\\extracted_data.pkl\")\n",
    "df['Cited by'] = df['Cited by'].fillna(0)\n",
    "df = df.reset_index(drop = True)"
   ]
  },
  {
   "cell_type": "code",
   "execution_count": 8,
   "metadata": {},
   "outputs": [],
   "source": [
    "#We drop irrelevant data\n",
    "df = df.drop(1131)\n",
    "df = df.reset_index(drop = True)"
   ]
  },
  {
   "cell_type": "markdown",
   "metadata": {},
   "source": [
    "* Take out the nan values"
   ]
  },
  {
   "cell_type": "code",
   "execution_count": 9,
   "metadata": {},
   "outputs": [
    {
     "name": "stdout",
     "output_type": "stream",
     "text": [
      "\\begin{tabular}{rrrrrrrr}\n",
      "\\toprule\n",
      " count &     mean &        std &  min &  25\\% &  50\\% &  75\\% &    max \\\\\n",
      "\\midrule\n",
      "7658.0 & 36.80726 & 135.525199 &  0.0 & 2.25 & 10.0 & 33.0 & 8657.0 \\\\\n",
      "\\bottomrule\n",
      "\\end{tabular}\n",
      "\n"
     ]
    }
   ],
   "source": [
    "#describing the citation data\n",
    "\n",
    "d = df['Cited by'].describe()\n",
    "d = pd.DataFrame(d).transpose()\n",
    "print(d.to_latex(index=False))"
   ]
  },
  {
   "cell_type": "code",
   "execution_count": 10,
   "metadata": {},
   "outputs": [],
   "source": [
    "# Select only a subset of the data\n",
    "df = df.iloc[:1000, :]"
   ]
  },
  {
   "cell_type": "code",
   "execution_count": 11,
   "metadata": {},
   "outputs": [
    {
     "name": "stdout",
     "output_type": "stream",
     "text": [
      "\\begin{tabular}{rrrrrrrr}\n",
      "\\toprule\n",
      " count &     mean &      std &    min &    25\\% &    50\\% &    75\\% &    max \\\\\n",
      "\\midrule\n",
      "1000.0 & 1994.218 & 4.386538 & 1985.0 & 1990.0 & 1996.0 & 1998.0 & 1999.0 \\\\\n",
      "\\bottomrule\n",
      "\\end{tabular}\n",
      "\n"
     ]
    }
   ],
   "source": [
    "d = df['Year'].describe()\n",
    "d = pd.DataFrame(d).transpose()\n",
    "print(d.to_latex(index=False))"
   ]
  },
  {
   "cell_type": "markdown",
   "metadata": {},
   "source": [
    "# Corpus warm-up:\n",
    "\n",
    "* First, make all words in abstract lower cases\n",
    "* Create the corpus of abstracts"
   ]
  },
  {
   "cell_type": "code",
   "execution_count": 12,
   "metadata": {
    "scrolled": true
   },
   "outputs": [],
   "source": [
    "#lower case and save it as corpus\n",
    "#suggestion: list index\n",
    "\n",
    "def column_to_lower(df, column):\n",
    "    \"\"\"\n",
    "        Input: df and a corresponding column\n",
    "        Output: converted dataframe column \n",
    "        Function: Converts all strings in a column of a dataframe to lowercases.\n",
    "    \"\"\"\n",
    "    return df[column].str.lower()\n",
    "\n",
    "df.loc[:,'Abstract'] = column_to_lower(df, 'Abstract')\n",
    "\n",
    "corpus = df[\"Abstract\"].tolist()\n",
    "\n"
   ]
  },
  {
   "cell_type": "code",
   "execution_count": 13,
   "metadata": {
    "scrolled": false
   },
   "outputs": [
    {
     "data": {
      "text/plain": [
       "'this article extends a foucauldian view of power/knowledge to the archetypical knowledge-intensive organization, the scientific research laboratory. although foucault hesitated to extend his analytics of power to the so-called hard sciences, rhetorical and social studies of science provide a foundation for such an extension. the article describes the discursive production of power/knowledge at a \"big science\" laboratory conducting nuclear fusion research and illuminates a critical incident in which the fusion research \"discipline\" imposes normative \"discipline\" on individual scientists and research teams. here scientific knowledge is not solely a product of data and theory but emerges from a discursive formation in which management practices and institutional context frame the relationship between knowledge and power. © 1999 sage publications, inc.'"
      ]
     },
     "execution_count": 13,
     "metadata": {},
     "output_type": "execute_result"
    }
   ],
   "source": [
    "#check how some values look like\n",
    "corpus[0]\n",
    "#type(corpus[0])\n",
    "#len(corpus)\n",
    "#1028 abstracts"
   ]
  },
  {
   "cell_type": "code",
   "execution_count": 14,
   "metadata": {},
   "outputs": [],
   "source": [
    "#to count the amount of words in the entire dataset, also repeating\n",
    "corpus_all = []\n",
    "\n",
    "for i in range(0,len(corpus)):\n",
    "    res = re.findall(r'\\w+', str(corpus[i]))\n",
    "    corpus_all.extend(res)\n",
    "\n",
    "#corpus_all\n",
    "#len(corpus_all)\n",
    "#type(corpus_all)\n",
    "#print(corpus_all)"
   ]
  },
  {
   "cell_type": "code",
   "execution_count": 15,
   "metadata": {},
   "outputs": [],
   "source": [
    "#we are adding marketing to our stopwords list\n",
    "#What kinds of words should we include in our stopwords list?\n",
    "techstop = []\n",
    "file = open(\"techstop.txt\", \"r\") #Ask HyeJin to give you the file. Otherwise, \n",
    "\n",
    "for line in file:\n",
    "    line = line.rstrip('\\n')\n",
    "    techstop.append(line)\n",
    "\n",
    "file.close()\n",
    "\n",
    "my_stop_words = text.ENGLISH_STOP_WORDS.union([\"marketing\", \"consumer\", \"customer\", 'consumers', 'elsevi',\n",
    "                                               'customers',  \"ieee\", \"rights\", \"reserve\", 'rights reserve','science',\n",
    "                                              'haworth', 'press', 'journal', 'springer', \"©\", \"academy\"], techstop)\n",
    "\n"
   ]
  },
  {
   "cell_type": "markdown",
   "metadata": {},
   "source": [
    "* Create a list all the unique words in the corpus"
   ]
  },
  {
   "cell_type": "code",
   "execution_count": 16,
   "metadata": {},
   "outputs": [
    {
     "name": "stdout",
     "output_type": "stream",
     "text": [
      "There are 9786 unique words in that list\n"
     ]
    }
   ],
   "source": [
    "#counting unqiue words in coprus\n",
    "\n",
    "lister = []\n",
    "for i in corpus_all:\n",
    "    if i not in lister:\n",
    "        lister.append(i)\n",
    "            \n",
    "#print(lister)\n",
    "print(\"There are\", len(lister), \"unique words in that list\")"
   ]
  },
  {
   "cell_type": "markdown",
   "metadata": {},
   "source": [
    "* Tokenize and check the words most frequent in the entire corpus"
   ]
  },
  {
   "cell_type": "code",
   "execution_count": 17,
   "metadata": {},
   "outputs": [
    {
     "data": {
      "image/png": "[encoded data removed]",
      "text/plain": [
       "<Figure size 520x860 with 1 Axes>"
      ]
     },
     "metadata": {},
     "output_type": "display_data"
    },
    {
     "data": {
      "text/plain": [
       "<AxesSubplot:title={'center':'Frequency Distribution of Top 25 tokens'}>"
      ]
     },
     "execution_count": 17,
     "metadata": {},
     "output_type": "execute_result"
    }
   ],
   "source": [
    "vectorizer = CountVectorizer()\n",
    "docs       = vectorizer.fit_transform(corpus)\n",
    "features   = vectorizer.get_feature_names()\n",
    "\n",
    "visualizer = FreqDistVisualizer(features=features, n=25, size= (520, 860))\n",
    "visualizer.fit(docs)\n",
    "visualizer.show()"
   ]
  },
  {
   "cell_type": "markdown",
   "metadata": {},
   "source": [
    "A function that takes as inputs a visualizer object and the number of words to be plotted and returns the **Zipf's law plot**"
   ]
  },
  {
   "cell_type": "markdown",
   "metadata": {},
   "source": [
    "### Take out english stopwords and check which are the most used words"
   ]
  },
  {
   "cell_type": "code",
   "execution_count": 18,
   "metadata": {},
   "outputs": [
    {
     "name": "stderr",
     "output_type": "stream",
     "text": [
      "C:\\Users\\marco\\anaconda3\\lib\\site-packages\\sklearn\\feature_extraction\\text.py:383: UserWarning: Your stop_words may be inconsistent with your preprocessing. Tokenizing the stop words generated tokens ['al', 'et', 'forward', 'mentioned', 'straight', 'versa', 'vice'] not in stop_words.\n",
      "  warnings.warn('Your stop_words may be inconsistent with '\n"
     ]
    },
    {
     "data": {
      "image/png": "[encoded data removed]",
      "text/plain": [
       "<Figure size 520x860 with 1 Axes>"
      ]
     },
     "metadata": {},
     "output_type": "display_data"
    },
    {
     "data": {
      "text/plain": [
       "<AxesSubplot:title={'center':'Frequency Distribution of Top 25 tokens'}>"
      ]
     },
     "execution_count": 18,
     "metadata": {},
     "output_type": "execute_result"
    }
   ],
   "source": [
    "vectorizer = CountVectorizer(stop_words=my_stop_words)\n",
    "docs       = vectorizer.fit_transform(corpus)\n",
    "features   = vectorizer.get_feature_names()\n",
    "\n",
    "visualizer = FreqDistVisualizer(features=features, n=25,  size= (520, 860))\n",
    "visualizer.fit(docs)\n",
    "visualizer.show()"
   ]
  },
  {
   "cell_type": "code",
   "execution_count": 19,
   "metadata": {},
   "outputs": [],
   "source": [
    "#list of english stopwords \n",
    "#from sklearn.feature_extraction import stop_words\n",
    "#print(stop_words.ENGLISH_STOP_WORDS)"
   ]
  },
  {
   "cell_type": "markdown",
   "metadata": {},
   "source": [
    "* Check the most popular words only for some years"
   ]
  },
  {
   "cell_type": "code",
   "execution_count": 20,
   "metadata": {},
   "outputs": [],
   "source": [
    "#Try to use column than index if possible\n",
    "\n",
    "#from datetime import datetime, timedelta\n",
    "#df['coverDate'] = df['coverDate'].astype('datetime64')"
   ]
  },
  {
   "cell_type": "code",
   "execution_count": 21,
   "metadata": {},
   "outputs": [],
   "source": [
    "#df = df.set_index('Year')"
   ]
  },
  {
   "cell_type": "code",
   "execution_count": 22,
   "metadata": {},
   "outputs": [],
   "source": [
    "#df[\"Year\"] = df.index #terrible to add this columns equal to the index, but the LDA part uses it several times\n"
   ]
  },
  {
   "cell_type": "code",
   "execution_count": 23,
   "metadata": {},
   "outputs": [],
   "source": [
    "import matplotlib.pyplot as plt\n",
    "%matplotlib inline"
   ]
  },
  {
   "cell_type": "code",
   "execution_count": 24,
   "metadata": {},
   "outputs": [
    {
     "data": {
      "image/png": "[encoded data removed]",
      "text/plain": [
       "<Figure size 432x288 with 1 Axes>"
      ]
     },
     "metadata": {
      "needs_background": "light"
     },
     "output_type": "display_data"
    }
   ],
   "source": [
    "#number of articles published per date (dates with 0 articles are not ont he chart)\n",
    "plt.plot(df.Abstract.groupby(df.Year).count().tolist())\n",
    "plt.show()"
   ]
  },
  {
   "cell_type": "code",
   "execution_count": 25,
   "metadata": {},
   "outputs": [],
   "source": [
    "#plt.plot(df.Year.unique(),df.Abstract.groupby(df.Year).count().tolist())\n",
    "#plt.show()"
   ]
  },
  {
   "cell_type": "code",
   "execution_count": 26,
   "metadata": {},
   "outputs": [
    {
     "data": {
      "image/png": "[encoded data removed]",
      "text/plain": [
       "<Figure size 432x288 with 1 Axes>"
      ]
     },
     "metadata": {
      "needs_background": "light"
     },
     "output_type": "display_data"
    }
   ],
   "source": [
    "#number of articles published per month (months with 0 articles are not ont he chart)\n",
    "#the aggregation is done per month. we can see that a lot is published in january, \n",
    "#a bit in December, but less at the end of summer\n",
    "plt.plot(df.Abstract.groupby(df.Year).count().tolist())\n",
    "plt.show()\n",
    "#np.unique(df.index.year)"
   ]
  },
  {
   "cell_type": "code",
   "execution_count": 27,
   "metadata": {},
   "outputs": [],
   "source": [
    "#number of articles published per year, for the years that \n",
    "#plt.plot( df.description.groupby(df.index.year).count().tolist())\n",
    "#ax = plt.gca()\n",
    "#plt.show()\n"
   ]
  },
  {
   "cell_type": "code",
   "execution_count": 28,
   "metadata": {},
   "outputs": [
    {
     "data": {
      "text/plain": [
       "Year\n",
       "1985     28\n",
       "1986     36\n",
       "1987     56\n",
       "1988     46\n",
       "1989     52\n",
       "1990     33\n",
       "1991     39\n",
       "1992     33\n",
       "1993     33\n",
       "1994     54\n",
       "1995     49\n",
       "1996     87\n",
       "1997    169\n",
       "1998    121\n",
       "1999    164\n",
       "Name: Abstract, dtype: int64"
      ]
     },
     "execution_count": 28,
     "metadata": {},
     "output_type": "execute_result"
    }
   ],
   "source": [
    "df.Abstract.groupby(df.Year).count()"
   ]
  },
  {
   "cell_type": "code",
   "execution_count": 29,
   "metadata": {},
   "outputs": [
    {
     "name": "stdout",
     "output_type": "stream",
     "text": [
      "count    1000.00000\n",
      "mean       56.85100\n",
      "std       136.21191\n",
      "min         0.00000\n",
      "25%         5.00000\n",
      "50%        18.00000\n",
      "75%        54.00000\n",
      "max      2553.00000\n",
      "Name: Cited by, dtype: float64\n"
     ]
    }
   ],
   "source": [
    "#plot citations\n",
    "print(df['Cited by'].describe())\n",
    "#plt.hist(df['Cited by'], bins = 2000)"
   ]
  },
  {
   "cell_type": "code",
   "execution_count": 30,
   "metadata": {},
   "outputs": [],
   "source": [
    "# analysis on 'year 2021'\n",
    "\n",
    "#vectorizer = CountVectorizer(stop_words=my_stop_words)\n",
    "#docs       = vectorizer.fit_transform(corpus[0:171])\n",
    "#features   = vectorizer.get_feature_names()\n",
    "\n",
    "#visualizer = FreqDistVisualizer(features=features, n=25,  size= (520, 860))\n",
    "#visualizer.fit(docs)\n",
    "#visualizer.show()"
   ]
  },
  {
   "cell_type": "code",
   "execution_count": 31,
   "metadata": {},
   "outputs": [],
   "source": [
    "#year 2020\n",
    "#vectorizer = CountVectorizer(stop_words=my_stop_words)\n",
    "#docs       = vectorizer.fit_transform(corpus[171:546])\n",
    "#features   = vectorizer.get_feature_names()\n",
    "\n",
    "#visualizer = FreqDistVisualizer(features=features, n=25,  size= (520, 860))\n",
    "#visualizer.fit(docs)\n",
    "#visualizer.show()"
   ]
  },
  {
   "cell_type": "code",
   "execution_count": 32,
   "metadata": {},
   "outputs": [],
   "source": [
    "#year 2019\n",
    "#vectorizer = CountVectorizer(stop_words=my_stop_words)\n",
    "#docs       = vectorizer.fit_transform(corpus[546:775])\n",
    "#features   = vectorizer.get_feature_names()\n",
    "\n",
    "#visualizer = FreqDistVisualizer(features=features, n=25,  size= (520, 860))\n",
    "#visualizer.fit(docs)\n",
    "#visualizer.show()"
   ]
  },
  {
   "cell_type": "markdown",
   "metadata": {},
   "source": [
    "----\n",
    "\n",
    "### Pre-processing:  Lemmatizing & Tokenization"
   ]
  },
  {
   "cell_type": "markdown",
   "metadata": {},
   "source": [
    "### Creating corpus1 and corpus2"
   ]
  },
  {
   "cell_type": "code",
   "execution_count": 33,
   "metadata": {},
   "outputs": [
    {
     "name": "stderr",
     "output_type": "stream",
     "text": [
      "C:\\Users\\marco\\anaconda3\\lib\\site-packages\\gensim\\similarities\\__init__.py:15: UserWarning: The gensim.similarities.levenshtein submodule is disabled, because the optional Levenshtein package <https://pypi.org/project/python-Levenshtein/> is unavailable. Install Levenhstein (e.g. `pip install python-Levenshtein`) to suppress this warning.\n",
      "  warnings.warn(msg)\n"
     ]
    }
   ],
   "source": [
    "#Select the words that are not numeric and longer than 1 character\n",
    "#New variable: corpus2\n",
    "\n",
    "from nltk.tokenize import RegexpTokenizer\n",
    "import gensim\n",
    "from gensim.utils import simple_preprocess\n",
    "\n",
    "#def remove_stopwords(texts):\n",
    "#    return [[word for word in simple_preprocess(str(doc)) \n",
    "#            if word not in my_stop_words] for doc in texts]\n",
    "\n",
    "corpus_tkn = corpus.copy()\n",
    "\n",
    "tokenizer = RegexpTokenizer(r'\\w+')\n",
    "for idx in range(len(corpus)):\n",
    "    corpus_tkn[idx] = tokenizer.tokenize(str(corpus[idx]))\n",
    "\n",
    "corpus2 = [[token for token in doc if not token.isnumeric()] for doc in corpus_tkn]\n",
    "corpus2 = [[token for token in doc if len(token) > 1] for doc in corpus_tkn]"
   ]
  },
  {
   "cell_type": "code",
   "execution_count": 34,
   "metadata": {},
   "outputs": [],
   "source": [
    "# Includes bigrams and trigrams to corpus2\n",
    "# Create corpus1 that is the same of corpus2 but WITHOUT bitrigrams\n",
    "corpus1 = corpus2.copy()\n",
    "\n",
    "#bigram = gensim.models.Phrases(corpus2, min_count=100, threshold=100) # higher threshold fewer phrases.\n",
    "#trigram = gensim.models.Phrases(bigram[corpus2], threshold=100)  \n",
    "#bigram_mod = gensim.models.phrases.Phraser(bigram)\n",
    "#trigram_mod = gensim.models.phrases.Phraser(trigram)\n",
    "\n",
    "def process_words(texts, stop_words=my_stop_words, allowed_postags=['NOUN', 'ADJ', 'VERB', 'ADV'], bi = True, tri = True):\n",
    "    \"\"\"\n",
    "    Remove Stopwords, Lemmatization and Form Bigrams and Trigrams [if bi = True, tri = True (by default)]\n",
    "    If bi and tri are set to false, Bigrams and Trigrams are not added to texts\n",
    "    \n",
    "    \"\"\"\n",
    "    texts = [[word for word in simple_preprocess(str(doc)) if word not in my_stop_words] for doc in texts]\n",
    "    \n",
    "    if bi:\n",
    "        bigram = gensim.models.Phrases(texts, min_count=100, threshold=100)\n",
    "        bigram_mod = gensim.models.phrases.Phraser(bigram)\n",
    "        texts = [bigram_mod[doc] for doc in texts]\n",
    "    if tri:\n",
    "        trigram = gensim.models.Phrases(bigram[texts], threshold=100)\n",
    "        trigram_mod = gensim.models.phrases.Phraser(trigram)\n",
    "        texts = [trigram_mod[bigram_mod[doc]] for doc in texts]\n",
    "    texts_out = []\n",
    "    nlp = spacy.load('en_core_web_sm', disable=['parser', 'ner'])\n",
    "    for sent in texts:\n",
    "        doc = nlp(\" \".join(sent)) \n",
    "        texts_out.append([token.lemma_ for token in doc if token.pos_ in allowed_postags])\n",
    "    # remove stopwords once more after lemmatization\n",
    "    texts_out = [[word for word in simple_preprocess(str(doc)) if word not in stop_words] for doc in texts_out]    \n",
    "    return texts_out\n",
    "\n",
    "corpus2 = process_words(corpus2)  # processed Text Data!\n",
    "corpus1 = process_words(corpus1 , bi = False, tri = False)"
   ]
  },
  {
   "cell_type": "code",
   "execution_count": 35,
   "metadata": {},
   "outputs": [
    {
     "name": "stdout",
     "output_type": "stream",
     "text": [
      "6776\n",
      "6718\n"
     ]
    }
   ],
   "source": [
    "from itertools import chain\n",
    "#print(corpus2[1000])\n",
    "print (len(np.unique(list(chain(*corpus2)))))\n",
    "print (len(np.unique(list(chain(*corpus1)))))"
   ]
  },
  {
   "cell_type": "code",
   "execution_count": 36,
   "metadata": {},
   "outputs": [],
   "source": [
    "#Bigram statistics\n",
    "bi = []\n",
    "for word in list(chain(*corpus2)):\n",
    "    if '_' in word:\n",
    "        bi.append(word)\n",
    "\n",
    "count = []\n",
    "for i in np.unique(bi):\n",
    "    c = 0\n",
    "    for j in list(chain(*corpus2)):\n",
    "        if i == j:\n",
    "            c += 1\n",
    "    count.append(c)\n",
    "\n",
    "count_describe = pd.DataFrame(count)\n",
    "\n",
    "\n",
    "\n"
   ]
  },
  {
   "cell_type": "code",
   "execution_count": 37,
   "metadata": {},
   "outputs": [],
   "source": [
    "count_describe = count_describe.describe()\n",
    "bigram_count = dict(zip(np.unique(bi), count))\n"
   ]
  },
  {
   "cell_type": "code",
   "execution_count": 38,
   "metadata": {},
   "outputs": [
    {
     "data": {
      "text/plain": [
       "[('decision_making', 64),\n",
       " ('human_science', 63),\n",
       " ('neural_network', 49),\n",
       " ('end_user', 37),\n",
       " ('decision_make', 32),\n",
       " ('decision_maker', 31),\n",
       " ('busn_re', 26),\n",
       " ('time_serie', 26),\n",
       " ('life_cycle', 18),\n",
       " ('elsevier_ipma', 17),\n",
       " ('north_holland', 17),\n",
       " ('market_share', 15),\n",
       " ('problem_solving', 15),\n",
       " ('machine_learne', 14),\n",
       " ('small_businesse', 14)]"
      ]
     },
     "execution_count": 38,
     "metadata": {},
     "output_type": "execute_result"
    }
   ],
   "source": [
    "import collections\n",
    "\n",
    "d = collections.Counter(bigram_count)\n",
    "d.most_common(15)"
   ]
  },
  {
   "cell_type": "code",
   "execution_count": 39,
   "metadata": {},
   "outputs": [],
   "source": [
    "#unigram statistics\n",
    "uni = []\n",
    "for word in list(chain(*corpus1)):\n",
    "    \n",
    "    uni.append(word)\n",
    "\n",
    "count1 = []\n",
    "for i in np.unique(uni):\n",
    "    c = 0\n",
    "    for j in list(chain(*corpus1)):\n",
    "        if i == j:\n",
    "            c += 1\n",
    "    count1.append(c)\n",
    "\n",
    "count1 = pd.DataFrame(count1)\n",
    "count1_describe = count1.describe()"
   ]
  },
  {
   "cell_type": "markdown",
   "metadata": {},
   "source": [
    "## Count corpus sentences\n",
    "Note: if we need the sentences as well, we should extract them "
   ]
  },
  {
   "cell_type": "code",
   "execution_count": 40,
   "metadata": {},
   "outputs": [
    {
     "data": {
      "text/plain": [
       "['this article extends a foucauldian view of power/knowledge to the archetypical knowledge-intensive organization, the scientific research laborato',\n",
       " 'although foucault hesitated to extend his analytics of power to the so-called hard sciences, rhetorical and social studies of science provide a foundation for such an extensi',\n",
       " 'the article describes the discursive production of power/knowledge at a \"big science\" laboratory conducting nuclear fusion research and illuminates a critical incident in which the fusion research \"discipline\" imposes normative \"discipline\" on individual scientists and research tea',\n",
       " 'here scientific knowledge is not solely a product of data and theory but emerges from a discursive formation in which management practices and institutional context frame the relationship between knowledge and pow',\n",
       " '© 1999 sage publications, inc.']"
      ]
     },
     "execution_count": 40,
     "metadata": {},
     "output_type": "execute_result"
    }
   ],
   "source": [
    "re.split(r'[a-zA-Z][a-zA-Z][.!?][ ]|[^a-zA-Z][.!?][ ][A-Z]', corpus[0])"
   ]
  },
  {
   "cell_type": "code",
   "execution_count": 41,
   "metadata": {},
   "outputs": [
    {
     "data": {
      "text/plain": [
       "5"
      ]
     },
     "execution_count": 41,
     "metadata": {},
     "output_type": "execute_result"
    }
   ],
   "source": [
    "len(re.split(r'[a-zA-Z][a-zA-Z][.!?][ ]|[^a-zA-Z][.!?][ ][A-Z]', corpus[0]))"
   ]
  },
  {
   "cell_type": "code",
   "execution_count": 42,
   "metadata": {},
   "outputs": [],
   "source": [
    "corpus_sentences = []\n",
    "\n",
    "for i in range(0,len(corpus)):\n",
    "    #split the current abstract into sentences\n",
    "    sentences = re.split(r'[a-zA-Z][a-zA-Z][.!?][ ]|[^a-zA-Z][.!?][ ][A-Z]', corpus[i])\n",
    "    #nr of sentences in current abstract\n",
    "    nr_of_sentences = len(sentences)\n",
    "    corpus_sentences.append(nr_of_sentences)"
   ]
  },
  {
   "cell_type": "code",
   "execution_count": 43,
   "metadata": {},
   "outputs": [],
   "source": [
    "df.loc[:,'nr_sentences_abstract'] = corpus_sentences"
   ]
  },
  {
   "cell_type": "code",
   "execution_count": 44,
   "metadata": {},
   "outputs": [
    {
     "data": {
      "text/plain": [
       "count    1000.000000\n",
       "mean        7.313000\n",
       "std         4.011873\n",
       "min         2.000000\n",
       "25%         5.000000\n",
       "50%         7.000000\n",
       "75%         8.000000\n",
       "max        43.000000\n",
       "Name: nr_sentences_abstract, dtype: float64"
      ]
     },
     "execution_count": 44,
     "metadata": {},
     "output_type": "execute_result"
    }
   ],
   "source": [
    "df.nr_sentences_abstract.describe()"
   ]
  },
  {
   "cell_type": "code",
   "execution_count": 45,
   "metadata": {},
   "outputs": [],
   "source": [
    "#print(df.nr_sentences_abstract.sum(), \"total number of sentences\")\n",
    "#print(df.nr_sentences_abstract.median(), \"median\")\n",
    "#print(df.nr_sentences_abstract.describe())\n",
    "#print(df.loc[df['nr_sentences_abstract'] == 46]['description'].values)"
   ]
  },
  {
   "cell_type": "code",
   "execution_count": 46,
   "metadata": {},
   "outputs": [],
   "source": [
    "#df.loc[df['nr_sentences_abstract'] == 56]['Abstract']\n",
    "#Note index 1131 is not a relevant data so we drop them\n",
    "\n"
   ]
  },
  {
   "cell_type": "code",
   "execution_count": 47,
   "metadata": {},
   "outputs": [],
   "source": [
    "#df.loc[df['nr_sentences_abstract'] == 41]['description']\n",
    "#re.split(r'[a-zA-Z][a-zA-Z][.!?][ ]|[^a-zA-Z][.!?][ ][A-Z]', df.loc[1922][\"description\"])"
   ]
  },
  {
   "cell_type": "code",
   "execution_count": 48,
   "metadata": {},
   "outputs": [
    {
     "data": {
      "text/html": [
       "<div>\n",
       "<style scoped>\n",
       "    .dataframe tbody tr th:only-of-type {\n",
       "        vertical-align: middle;\n",
       "    }\n",
       "\n",
       "    .dataframe tbody tr th {\n",
       "        vertical-align: top;\n",
       "    }\n",
       "\n",
       "    .dataframe thead th {\n",
       "        text-align: right;\n",
       "    }\n",
       "</style>\n",
       "<table border=\"1\" class=\"dataframe\">\n",
       "  <thead>\n",
       "    <tr style=\"text-align: right;\">\n",
       "      <th></th>\n",
       "      <th>Author Keywords</th>\n",
       "      <th>Index Keywords</th>\n",
       "    </tr>\n",
       "  </thead>\n",
       "  <tbody>\n",
       "    <tr>\n",
       "      <th>0</th>\n",
       "      <td>NaN</td>\n",
       "      <td>NaN</td>\n",
       "    </tr>\n",
       "    <tr>\n",
       "      <th>1</th>\n",
       "      <td>NaN</td>\n",
       "      <td>administration</td>\n",
       "    </tr>\n",
       "    <tr>\n",
       "      <th>2</th>\n",
       "      <td>NaN</td>\n",
       "      <td>Artificial intelligence; Knowledge based syste...</td>\n",
       "    </tr>\n",
       "    <tr>\n",
       "      <th>3</th>\n",
       "      <td>NaN</td>\n",
       "      <td>Cost benefit analysis; Genetic algorithms; Lea...</td>\n",
       "    </tr>\n",
       "    <tr>\n",
       "      <th>4</th>\n",
       "      <td>NaN</td>\n",
       "      <td>institutional framework; science and technolog...</td>\n",
       "    </tr>\n",
       "    <tr>\n",
       "      <th>...</th>\n",
       "      <td>...</td>\n",
       "      <td>...</td>\n",
       "    </tr>\n",
       "    <tr>\n",
       "      <th>995</th>\n",
       "      <td>Assignation of instruments to goals; Austro-Ke...</td>\n",
       "      <td>NaN</td>\n",
       "    </tr>\n",
       "    <tr>\n",
       "      <th>996</th>\n",
       "      <td>Data Processing Personnel; Data Processing Tur...</td>\n",
       "      <td>HUMAN ENGINEERING - Subjective Tests; MANAGEME...</td>\n",
       "    </tr>\n",
       "    <tr>\n",
       "      <th>997</th>\n",
       "      <td>information resource encyclopedia; model admin...</td>\n",
       "      <td>COMPUTERS, MICROCOMPUTER - Applications; DATA ...</td>\n",
       "    </tr>\n",
       "    <tr>\n",
       "      <th>998</th>\n",
       "      <td>NaN</td>\n",
       "      <td>COMPUTERS, MICROCOMPUTER; DATA PROCESSING; SYS...</td>\n",
       "    </tr>\n",
       "    <tr>\n",
       "      <th>999</th>\n",
       "      <td>NaN</td>\n",
       "      <td>Management science; DISCRIMINANT ANALYSIS; DIS...</td>\n",
       "    </tr>\n",
       "  </tbody>\n",
       "</table>\n",
       "<p>1000 rows × 2 columns</p>\n",
       "</div>"
      ],
      "text/plain": [
       "                                       Author Keywords  \\\n",
       "0                                                  NaN   \n",
       "1                                                  NaN   \n",
       "2                                                  NaN   \n",
       "3                                                  NaN   \n",
       "4                                                  NaN   \n",
       "..                                                 ...   \n",
       "995  Assignation of instruments to goals; Austro-Ke...   \n",
       "996  Data Processing Personnel; Data Processing Tur...   \n",
       "997  information resource encyclopedia; model admin...   \n",
       "998                                                NaN   \n",
       "999                                                NaN   \n",
       "\n",
       "                                        Index Keywords  \n",
       "0                                                  NaN  \n",
       "1                                       administration  \n",
       "2    Artificial intelligence; Knowledge based syste...  \n",
       "3    Cost benefit analysis; Genetic algorithms; Lea...  \n",
       "4    institutional framework; science and technolog...  \n",
       "..                                                 ...  \n",
       "995                                                NaN  \n",
       "996  HUMAN ENGINEERING - Subjective Tests; MANAGEME...  \n",
       "997  COMPUTERS, MICROCOMPUTER - Applications; DATA ...  \n",
       "998  COMPUTERS, MICROCOMPUTER; DATA PROCESSING; SYS...  \n",
       "999  Management science; DISCRIMINANT ANALYSIS; DIS...  \n",
       "\n",
       "[1000 rows x 2 columns]"
      ]
     },
     "execution_count": 48,
     "metadata": {},
     "output_type": "execute_result"
    }
   ],
   "source": [
    "df[['Author Keywords', 'Index Keywords']]"
   ]
  },
  {
   "cell_type": "markdown",
   "metadata": {},
   "source": [
    "### Keywords\n",
    "This part is not working... Maybe we dont use keywords so not a problem"
   ]
  },
  {
   "cell_type": "code",
   "execution_count": 49,
   "metadata": {},
   "outputs": [],
   "source": [
    "#keywords = df['Author Keywords'].tolist()\n",
    "#print(keywords[1])"
   ]
  },
  {
   "cell_type": "code",
   "execution_count": 50,
   "metadata": {},
   "outputs": [
    {
     "data": {
      "text/plain": [
       "'\\nkeywords_paper = [] # List of the keywords associated to each paper (another list)\\nkeywords_all = [] # List of all the keywords (the same keyword can be repeated more than once)\\n\\nfor i in range(0, len(keywords)):\\n    # Some articles do not have keywords, set it to nan\\n    if keywords[i] == None:\\n        res = pd.NA\\n    else:\\n        # The keywords are separated by \" | \", using it to split them\\n        res = keywords[i].split(\" | \")\\n        keywords_all.extend(res) # Must be inside the else block, otherwise get error: \\'NAType\\' object is not iterable\\n    keywords_paper.append(res)\\n\\n# Checking if okay\\nprint(keywords_all[5000])\\nprint(keywords_paper[50])\\n'"
      ]
     },
     "execution_count": 50,
     "metadata": {},
     "output_type": "execute_result"
    }
   ],
   "source": [
    "'''\n",
    "keywords_paper = [] # List of the keywords associated to each paper (another list)\n",
    "keywords_all = [] # List of all the keywords (the same keyword can be repeated more than once)\n",
    "\n",
    "for i in range(0, len(keywords)):\n",
    "    # Some articles do not have keywords, set it to nan\n",
    "    if keywords[i] == None:\n",
    "        res = pd.NA\n",
    "    else:\n",
    "        # The keywords are separated by \" | \", using it to split them\n",
    "        res = keywords[i].split(\" | \")\n",
    "        keywords_all.extend(res) # Must be inside the else block, otherwise get error: 'NAType' object is not iterable\n",
    "    keywords_paper.append(res)\n",
    "\n",
    "# Checking if okay\n",
    "print(keywords_all[5000])\n",
    "print(keywords_paper[50])\n",
    "'''"
   ]
  },
  {
   "cell_type": "markdown",
   "metadata": {},
   "source": [
    "# (Very) Basic sentiment analysis"
   ]
  },
  {
   "cell_type": "code",
   "execution_count": 51,
   "metadata": {},
   "outputs": [
    {
     "data": {
      "text/plain": [
       "Index(['Authors', 'Author(s) ID', 'Title', 'Year', 'Source title', 'Volume',\n",
       "       'Issue', 'Art. No.', 'Page start', 'Page end', 'Page count', 'Cited by',\n",
       "       'DOI', 'Link', 'Affiliations', 'Authors with affiliations', 'Abstract',\n",
       "       'Author Keywords', 'Index Keywords', 'Correspondence Address',\n",
       "       'Editors', 'Publisher', 'ISSN', 'ISBN', 'CODEN', 'PubMed ID',\n",
       "       'Language of Original Document', 'Abbreviated Source Title',\n",
       "       'Document Type', 'Publication Stage', 'Open Access', 'Source', 'EID',\n",
       "       'nr_sentences_abstract'],\n",
       "      dtype='object')"
      ]
     },
     "execution_count": 51,
     "metadata": {},
     "output_type": "execute_result"
    }
   ],
   "source": [
    "df.columns"
   ]
  },
  {
   "cell_type": "code",
   "execution_count": 52,
   "metadata": {},
   "outputs": [
    {
     "name": "stdout",
     "output_type": "stream",
     "text": [
      "subjectivity:\n",
      "SpearmanrResult(correlation=-0.07870599692119432, pvalue=0.01278681665681013)\n",
      "polarity:\n",
      "SpearmanrResult(correlation=0.04576038946549632, pvalue=0.14817209282226995)\n",
      "subjectivity:\n",
      "SpearmanrResult(correlation=-0.08107963907172798, pvalue=0.010318161410730761)\n",
      "polarity:\n",
      "SpearmanrResult(correlation=0.053207568325187936, pvalue=0.09263519254285789)\n",
      "\n",
      "Most subjective sentence according to TextBlog (from raw data):\n",
      "['student satisfaction can be measured through the concept of disconfirmation. disconfirmation is the difference between expectations concerning a service and the perceived value of the service. using regression analysis and the concept of disconfirmation, easily interpreted graphical displays can be produced to identify areas that are important to student satisfaction. this article illustrates this technique, using data collected in undergraduate decision sciences courses. © 1997, copyright taylor & francis group, llc.'\n",
      " 'this article investigates the interactions among sales management tools and practices used in six key areas of managerial responsibility, namely: organization, selection, training, remuneration, supervision, and evaluation. the results are based principally upon a mail survey of 113 u.k. manufacturing companies. our data suggest that the sales management tools and practices used by the sample companies in the aforementioned managerial areas tend to be interrelated. specificially, the practices pertaining to the organization and selection of the sales force are linked with the training practices employed. also, the selection and the training practices used by manufacturing companies tend to be linked with the evaluation practices. finally, the remuneration practices and policies are linked to the practices pertaining to the supervision and evaluation of the sales force. © 1989 academy of marketing science.'\n",
      " 'this section of the paper describes the wine adviser, a deductive database on wine, that was developed in the framework of the wining and dining project in applied artificial intelligence. the wine adviser provides information on wines of interest to final customers and restaurant management. © 1987.']\n",
      "\n",
      "Most subjective sentence according to TextBlog (after data cleaning):\n",
      "['student satisfaction measure concept disconfirmation disconfirmation difference expectation concern service perceive value service use regression analysis concept disconfirmation interpret graphical display produce identify area important student satisfaction article illustrate technique use datum collect undergraduate decision course copyright taylor francis group llc'\n",
      " 'article investigate interaction sale management tool practice use key area managerial responsibility organization selection training remuneration supervision evaluation result base principally mail survey manufacturing company datum suggest sale management tool practice use sample company aforementione managerial area tend interrelated specificially practice pertain organization selection sale force link training practice employ selection training practice use manufacturing company tend link evaluation practice remuneration practice policy link practice pertain supervision evaluation sale force'\n",
      " 'section paper wine adviser deductive database wine develop framework wining dining project apply artificial intelligence wine adviser provide information wine final restaurant management']\n",
      "\n",
      "Most negative sentence according to TextBlog:\n",
      "in many parts of the world industrial investment companies have been established to promote regional industrial development. in this research effort a methodology based on the analytic hierarchy process (ahp), a decision making approach incorporating qualitative and quantitative aspects of a problem, is proposed to assist in measuring the initial viability of industrial projects. the ranking of these projects will help management in the efficient allocation of the company's resources. the application of the proposed methodology has been illustrated through a numerical example using hypothetical but representative data to rank industrial projects at an inter-arab gulf industrial investment company. copyright © 1996 elsevier science ltd and ipma.\n",
      "[[ 1.         -0.12211481]\n",
      " [-0.12211481  1.        ]]\n"
     ]
    }
   ],
   "source": [
    "from scipy.stats import spearmanr\n",
    "\n",
    "# Sentiment analysis using textblob\n",
    "from textblob import TextBlob\n",
    "\n",
    "subjectivity_list = []\n",
    "polarity_list =[]\n",
    "corpus1_as_sentence = []\n",
    "\n",
    "for abstr in corpus1:\n",
    "    corpus1_as_sentence.append(\" \".join(abstr))\n",
    "\n",
    "for abstr in corpus1_as_sentence:\n",
    "    # TextBlob().sentiment returns the sentiment associated with a sentence (or sentences in this case)\n",
    "    subjectivity_list.append(TextBlob(abstr).sentiment[1]) # [1] because we take only the subjetivity measure\n",
    "    polarity_list.append(TextBlob(abstr).sentiment[0])# with .sentiment[0] we get an index in the range [-1,+1] that reports the positity/negativity of the sentence\n",
    "\n",
    "# merge it with the dataframe\n",
    "df[\"corpus1_token\"] = corpus1\n",
    "df[\"corpus1\"] = corpus1_as_sentence\n",
    "df[\"abs_subjectivity\"] = subjectivity_list\n",
    "df[\"abs_polarity\"] = polarity_list\n",
    "# print(max(df[\"abs_subjectivity\"]))\n",
    "# print(min(df[\"abs_subjectivity\"]))\n",
    "\n",
    "# check if correlated (rank-order spearman's correlation) with number of citations\n",
    "print(\"subjectivity:\")\n",
    "print(spearmanr(df[\"abs_subjectivity\"], df['Cited by']))\n",
    "print(\"polarity:\")\n",
    "print(spearmanr(df[\"abs_polarity\"], df['Cited by']))\n",
    "\n",
    "# and with citations/years from pubblication\n",
    "years_from_pub = 2021-df.Year\n",
    "\n",
    "print(\"subjectivity:\")\n",
    "print(spearmanr(df[\"abs_subjectivity\"], df['Cited by']/years_from_pub))\n",
    "print(\"polarity:\")\n",
    "print(spearmanr(df[\"abs_polarity\"], df['Cited by']/years_from_pub))\n",
    "\n",
    "# check one of the most subjective sentences (does not sound that subjective)\n",
    "print(\"\\nMost subjective sentence according to TextBlog (from raw data):\")\n",
    "print(df[df[\"abs_subjectivity\"] == max(df[\"abs_subjectivity\"])].Abstract.values)\n",
    "print(\"\\nMost subjective sentence according to TextBlog (after data cleaning):\")\n",
    "print(df[df[\"abs_subjectivity\"] == max(df[\"abs_subjectivity\"])].corpus1.values)\n",
    "#print(list((df[\"abs_subjectivity\"] == max(df[\"abs_subjectivity\"]))))\n",
    "\n",
    "# Check the most negative sentence\n",
    "print(\"\\nMost negative sentence according to TextBlog:\")\n",
    "print(df[df[\"abs_polarity\"] == min(df[\"abs_polarity\"])].Abstract.values[0])\n",
    "\n",
    "# just sanity check correlation between years from publication and number of citations\n",
    "print(np.corrcoef(years_from_pub, df['Cited by']))"
   ]
  },
  {
   "cell_type": "code",
   "execution_count": 53,
   "metadata": {},
   "outputs": [],
   "source": [
    "# Sentiment analysis using pysentiment2\n",
    "import pysentiment2 as ps\n",
    "lm = ps.LM()\n",
    "list_scores = []\n",
    "for i in range(0,len(corpus)):\n",
    "    tokens = lm.tokenize(corpus[i])\n",
    "    score = lm.get_score(tokens)\n",
    "    list_scores.append(score)"
   ]
  },
  {
   "cell_type": "code",
   "execution_count": 54,
   "metadata": {},
   "outputs": [],
   "source": [
    "# create dataframe od pysentiment2 scores with same index of df\n",
    "df_sentiment = pd.DataFrame.from_dict(list_scores) \n",
    "df_sentiment.set_index(df.index, drop = True, inplace = True)"
   ]
  },
  {
   "cell_type": "code",
   "execution_count": 55,
   "metadata": {},
   "outputs": [
    {
     "name": "stdout",
     "output_type": "stream",
     "text": [
      "to ascertain the effect of mood on information retrieval and evaluation of advertisements and brands, subjects were induced into one of three moods (positive, neutral, or negative) via a modified velten procedure 72 hours after they were exposed to five fictitious advertisements. while delayed positive and negative mood states had opposite effects on memory-based recall of information, with subjects in the positive mood condition recalling significantly more information than those in the negative one, they had no significant effect on ad or brand evaluation. recall data are consistent with previous reports in the literature and evaluation data can be explained according to the information processing goals of subjects as described by keller (1991) or srull (1990). thus, it appears that inducing people into positive moods as much as 72 hours after they have seen an ad for a product can have a significant impact on their memory for ad copy. © 1993 academy of marketing science.\n",
      "CORRELATION WITH CITATIONS\n",
      "subjectivity:\n",
      "SpearmanrResult(correlation=0.01589312711852361, pvalue=0.6156760182383381)\n",
      "polarity:\n",
      "SpearmanrResult(correlation=0.13533239923540005, pvalue=1.754805784331955e-05)\n",
      "\n",
      "CORRELATION WITH CITATIONS/YEAR FROM PUBLICATION\n",
      "subjectivity:\n",
      "SpearmanrResult(correlation=0.009715399636496643, pvalue=0.758956864821484)\n",
      "polarity:\n",
      "SpearmanrResult(correlation=0.13607991861086502, pvalue=1.5749001095840152e-05)\n",
      "\n",
      "CORRELATION BETWEEN TEXBLOB AND PYSENT2\n",
      "subjectivity:\n",
      "SpearmanrResult(correlation=0.10750971749494648, pvalue=0.0006607253539881255)\n",
      "polarity:\n",
      "SpearmanrResult(correlation=0.15918245554604804, pvalue=4.1971671509279743e-07)\n"
     ]
    },
    {
     "data": {
      "image/png": "[encoded data removed]",
      "text/plain": [
       "<Figure size 432x288 with 1 Axes>"
      ]
     },
     "metadata": {
      "needs_background": "light"
     },
     "output_type": "display_data"
    },
    {
     "data": {
      "image/png": "[encoded data removed]",
      "text/plain": [
       "<Figure size 432x288 with 1 Axes>"
      ]
     },
     "metadata": {
      "needs_background": "light"
     },
     "output_type": "display_data"
    }
   ],
   "source": [
    "# printing most subjective sentence according to pysentiment2\n",
    "print(df[df_sentiment.Subjectivity == max(df_sentiment.Subjectivity)].Abstract.values[0])\n",
    "\n",
    "# Check correlation\n",
    "print(\"CORRELATION WITH CITATIONS\")\n",
    "print(\"subjectivity:\")\n",
    "print(spearmanr(df_sentiment.Subjectivity, df['Cited by']))\n",
    "print(\"polarity:\")\n",
    "print(spearmanr(df_sentiment.Polarity, df['Cited by']))\n",
    "\n",
    "print(\"\\nCORRELATION WITH CITATIONS/YEAR FROM PUBLICATION\")\n",
    "print(\"subjectivity:\")\n",
    "print(spearmanr(df_sentiment.Subjectivity, df['Cited by']/years_from_pub))\n",
    "print(\"polarity:\")\n",
    "print(spearmanr(df_sentiment.Polarity, df['Cited by']/years_from_pub))\n",
    "\n",
    "print(\"\\nCORRELATION BETWEEN TEXBLOB AND PYSENT2\")\n",
    "print(\"subjectivity:\")\n",
    "print(spearmanr(df_sentiment.Subjectivity, df[\"abs_subjectivity\"]))\n",
    "print(\"polarity:\")\n",
    "print(spearmanr(df_sentiment.Polarity, df[\"abs_polarity\"]))\n",
    "plt.scatter(df_sentiment.Polarity, df[\"abs_polarity\"])\n",
    "plt.title(\"Rank correlation polarity Textblob-pysent2\")\n",
    "plt.show()\n",
    "plt.scatter(df_sentiment.Subjectivity, df[\"abs_subjectivity\"])\n",
    "plt.title(\"Rank correlation subjectivity Textblob-pysent2\")\n",
    "plt.show()"
   ]
  },
  {
   "cell_type": "code",
   "execution_count": 56,
   "metadata": {},
   "outputs": [
    {
     "data": {
      "image/png": "[encoded data removed]",
      "text/plain": [
       "<Figure size 432x288 with 1 Axes>"
      ]
     },
     "metadata": {
      "needs_background": "light"
     },
     "output_type": "display_data"
    },
    {
     "data": {
      "image/png": "[encoded data removed]",
      "text/plain": [
       "<Figure size 432x288 with 1 Axes>"
      ]
     },
     "metadata": {
      "needs_background": "light"
     },
     "output_type": "display_data"
    },
    {
     "data": {
      "image/png": "[encoded data removed]",
      "text/plain": [
       "<Figure size 432x288 with 1 Axes>"
      ]
     },
     "metadata": {
      "needs_background": "light"
     },
     "output_type": "display_data"
    },
    {
     "data": {
      "image/png": "[encoded data removed]",
      "text/plain": [
       "<Figure size 432x288 with 1 Axes>"
      ]
     },
     "metadata": {
      "needs_background": "light"
     },
     "output_type": "display_data"
    }
   ],
   "source": [
    "# HISTOGRAMS with the distribution of scores with the 2 packages\n",
    "plt.hist(df[\"abs_polarity\"])\n",
    "plt.title(\"Polarity with TextBlob\")\n",
    "plt.show()\n",
    "plt.hist(df_sentiment[\"Polarity\"])\n",
    "plt.title(\"Polarity with pysentiment2\")\n",
    "plt.show()\n",
    "plt.hist(df[\"abs_subjectivity\"])\n",
    "plt.title(\"Subjectivity with TextBlob\")\n",
    "plt.show()\n",
    "plt.hist(df_sentiment[\"Subjectivity\"])\n",
    "plt.title(\"Subjectivity with pysentiment2\")\n",
    "plt.show()"
   ]
  },
  {
   "cell_type": "code",
   "execution_count": 57,
   "metadata": {},
   "outputs": [
    {
     "name": "stdout",
     "output_type": "stream",
     "text": [
      "99th percentile polarity: 0.30131746031746026\n",
      "\n",
      " 99th percentile SUBJECTIVITY: 0.8\n",
      "             polarity  subjectivity\n",
      "important    0.400000      1.000000\n",
      "effectively  0.600000      0.800000\n",
      "success      0.300000      0.000000\n",
      "appropriate  0.500000      0.500000\n",
      "innovative   0.500000      1.000000\n",
      "successful   0.750000      0.950000\n",
      "positive     0.227273      0.545455\n",
      "creative     0.500000      1.000000\n",
      "\n",
      "The above are the 8 most recurring words with a positive polarity score in the abstracts that have the top 1% score in terms of polarity\n"
     ]
    }
   ],
   "source": [
    "from collections import Counter\n",
    "from bs4 import BeautifulSoup\n",
    "\n",
    "# FOCUS TextBlob <--\n",
    "# Read the file with the scores associated to each word in TextBlob\n",
    "# HOWEVER notice that there are differences between these values and those obtained with TextBlob().sentiment\n",
    "pattern_words_file = open(r\"textblob_dict.txt\", \"r\").read()\n",
    "\n",
    "# Here we transform the html file into a dictionary of dictionaries\n",
    "dict_of_dicts = {}\n",
    "soup = BeautifulSoup(pattern_words_file,  \"html.parser\")\n",
    "for line in soup.find_all(\"word\"):\n",
    "    # Try/except needed because sometimes \"confidence\" is called \"reliability\"\n",
    "    try: \n",
    "        partial_dict = {'subjectivity' : line.attrs['subjectivity'],\n",
    "                       'polarity' : line.attrs['polarity'],\n",
    "                       'intensity' : line.attrs['intensity'],\n",
    "                       'confidence' : line.attrs['confidence']}\n",
    "    except:\n",
    "        partial_dict = {'subjectivity' : line.attrs['subjectivity'],\n",
    "                       'polarity' : line.attrs['polarity'],\n",
    "                       'intensity' : line.attrs['intensity'],\n",
    "                       'confidence' : line.attrs[\"reliability\"]}\n",
    "    dict_of_dicts[line.attrs[\"form\"]] =  partial_dict\n",
    "\n",
    "# And finally get the data in a DataFrame\n",
    "Text_BloB_Dict = pd.DataFrame.from_dict(dict_of_dicts, orient = 'index')\n",
    "\n",
    "# print percentiles of the TextBlob polarity distribution\n",
    "perc = np.percentile(df[\"abs_polarity\"], np.arange(0, 100, 1))[-1]\n",
    "print(\"99th percentile polarity:\", perc)\n",
    "\n",
    "# Create a list with all the words of the abstracts in the top something% for polarity\n",
    "all_words = []\n",
    "for lista in df[df.abs_polarity>perc].corpus1_token: # Select only those abstract that are in top 1%\n",
    "    all_words.extend(lista)\n",
    "    \n",
    "# Counting the most occuring words among these abstracts\n",
    "wordz = pd.Series(Counter(all_words), index=Counter(all_words).keys())\n",
    "\n",
    "# Printing subjectivity and polarity associated with those words that occur more than once in these abstract\n",
    "sent_dict = {}\n",
    "for w in wordz[wordz>1].index: # here this number should be such that we have a treatable number of words <---\n",
    "    sent = TextBlob(w).sentiment\n",
    "    if (sent[0]!= 0):\n",
    "        word_dict = {\"polarity\" : sent[0], \"subjectivity\" : sent[1]}\n",
    "        sent_dict[w] = word_dict\n",
    "        \n",
    "# SAME THING FOR SUBJECTIVITY\n",
    "perc = np.percentile(df[\"abs_subjectivity\"], np.arange(0, 100, 1))[-1]\n",
    "print(\"\\n 99th percentile SUBJECTIVITY:\", perc)\n",
    "\n",
    "# Create a list with all the words of the abstracts in the top something% for polarity\n",
    "all_words = []\n",
    "for lista in df[df.abs_subjectivity>perc].corpus1_token: # Select only those abstract that are in top 1%\n",
    "    all_words.extend(lista)\n",
    "    \n",
    "# Counting the most occuring words among these abstracts\n",
    "wordz = pd.Series(Counter(all_words), index=Counter(all_words).keys())\n",
    "sent_word_data = pd.DataFrame.from_dict(sent_dict, orient = \"index\")\n",
    "print(sent_word_data)\n",
    "print(f\"\\nThe above are the {sent_word_data.polarity.size} most recurring words with a positive polarity score in the abstracts that have the top 1% score in terms of polarity\")"
   ]
  },
  {
   "cell_type": "code",
   "execution_count": 58,
   "metadata": {},
   "outputs": [
    {
     "name": "stdout",
     "output_type": "stream",
     "text": [
      "Sentiment(polarity=0.13636363636363635, subjectivity=0.45454545454545453)\n",
      "Sentiment(polarity=0.0, subjectivity=0.6)\n",
      "Sentiment(polarity=0.06818181818181818, subjectivity=0.5272727272727272)\n",
      "Sentiment(polarity=0.4, subjectivity=0.675)\n",
      "Sentiment(polarity=0.4, subjectivity=0.675)\n"
     ]
    }
   ],
   "source": [
    "# Just checking a few words manually\n",
    "# There are differences between these values and those of the Text_BloB_Dict DataFrame <---\n",
    "print(TextBlob(\"new\").sentiment)\n",
    "print(TextBlob(\"different\").sentiment)\n",
    "print(TextBlob(\"new different\").sentiment)\n",
    "print(TextBlob(\"great idea for different reasons\").sentiment)\n",
    "print(TextBlob(\"I would say that this is a great different idea for the weekend car submarine road house bins\").sentiment)"
   ]
  },
  {
   "cell_type": "code",
   "execution_count": 59,
   "metadata": {},
   "outputs": [
    {
     "name": "stdout",
     "output_type": "stream",
     "text": [
      "Index(['Word', 'Sequence Number', 'Word Count', 'Word Proportion',\n",
      "       'Average Proportion', 'Std Dev', 'Doc Count', 'Negative', 'Positive',\n",
      "       'Uncertainty', 'Litigious', 'Constraining', 'Superfluous',\n",
      "       'Interesting', 'Modal', 'Irr_Verb', 'Harvard_IV', 'Syllables',\n",
      "       'Source'],\n",
      "      dtype='object')\n",
      "0     AARDVARK\n",
      "1    AARDVARKS\n",
      "2        ABACI\n",
      "3        ABACK\n",
      "4       ABACUS\n",
      "Name: Word, dtype: object\n",
      "['great', 'idea', 'differ', 'reason']\n",
      "{'Positive': 1, 'Negative': 0, 'Polarity': 0.9999990000010001, 'Subjectivity': 0.24999993750001562}\n",
      "patent    5\n",
      "dtype: int64\n",
      "\n",
      "NEW SENTENCE \n",
      "\n",
      "conclus\n",
      "{'Positive': 1, 'Negative': 0, 'Polarity': 0.9999990000010001, 'Subjectivity': 0.9999990000010001}\n",
      "depend\n",
      "{'Positive': 1, 'Negative': 0, 'Polarity': 0.9999990000010001, 'Subjectivity': 0.9999990000010001}\n",
      "invent\n",
      "{'Positive': 1, 'Negative': 0, 'Polarity': 0.9999990000010001, 'Subjectivity': 0.9999990000010001}\n",
      "\n",
      "NEW SENTENCE \n",
      "\n",
      "reward\n",
      "{'Positive': 1, 'Negative': 0, 'Polarity': 0.9999990000010001, 'Subjectivity': 0.9999990000010001}\n",
      "reward\n",
      "{'Positive': 1, 'Negative': 0, 'Polarity': 0.9999990000010001, 'Subjectivity': 0.9999990000010001}\n",
      "\n",
      "NEW SENTENCE \n",
      "\n",
      "achiev\n",
      "{'Positive': 1, 'Negative': 0, 'Polarity': 0.9999990000010001, 'Subjectivity': 0.9999990000010001}\n",
      "success\n",
      "{'Positive': 1, 'Negative': 0, 'Polarity': 0.9999990000010001, 'Subjectivity': 0.9999990000010001}\n",
      "destin\n",
      "{'Positive': 1, 'Negative': 0, 'Polarity': 0.9999990000010001, 'Subjectivity': 0.9999990000010001}\n",
      "success\n",
      "{'Positive': 1, 'Negative': 0, 'Polarity': 0.9999990000010001, 'Subjectivity': 0.9999990000010001}\n",
      "\n",
      "NEW SENTENCE \n",
      "\n",
      "effici\n",
      "{'Positive': 1, 'Negative': 0, 'Polarity': 0.9999990000010001, 'Subjectivity': 0.9999990000010001}\n",
      "assur\n",
      "{'Positive': 1, 'Negative': 0, 'Polarity': 0.9999990000010001, 'Subjectivity': 0.9999990000010001}\n",
      "achiev\n",
      "{'Positive': 1, 'Negative': 0, 'Polarity': 0.9999990000010001, 'Subjectivity': 0.9999990000010001}\n",
      "assur\n",
      "{'Positive': 1, 'Negative': 0, 'Polarity': 0.9999990000010001, 'Subjectivity': 0.9999990000010001}\n",
      "\n",
      "NEW SENTENCE \n",
      "\n",
      "effici\n",
      "{'Positive': 1, 'Negative': 0, 'Polarity': 0.9999990000010001, 'Subjectivity': 0.9999990000010001}\n",
      "effici\n",
      "{'Positive': 1, 'Negative': 0, 'Polarity': 0.9999990000010001, 'Subjectivity': 0.9999990000010001}\n",
      "effici\n",
      "{'Positive': 1, 'Negative': 0, 'Polarity': 0.9999990000010001, 'Subjectivity': 0.9999990000010001}\n",
      "effici\n",
      "{'Positive': 1, 'Negative': 0, 'Polarity': 0.9999990000010001, 'Subjectivity': 0.9999990000010001}\n",
      "effici\n",
      "{'Positive': 1, 'Negative': 0, 'Polarity': 0.9999990000010001, 'Subjectivity': 0.9999990000010001}\n",
      "effici\n",
      "{'Positive': 1, 'Negative': 0, 'Polarity': 0.9999990000010001, 'Subjectivity': 0.9999990000010001}\n",
      "great\n",
      "{'Positive': 1, 'Negative': 0, 'Polarity': 0.9999990000010001, 'Subjectivity': 0.9999990000010001}\n",
      "\n",
      "NEW SENTENCE \n",
      "\n",
      "critic\n",
      "{'Positive': 0, 'Negative': 1, 'Polarity': -0.9999990000010001, 'Subjectivity': 0.9999990000010001}\n",
      "incid\n",
      "{'Positive': 0, 'Negative': 1, 'Polarity': -0.9999990000010001, 'Subjectivity': 0.9999990000010001}\n",
      "\n",
      "NEW SENTENCE \n",
      "\n",
      "ill\n",
      "{'Positive': 0, 'Negative': 1, 'Polarity': -0.9999990000010001, 'Subjectivity': 0.9999990000010001}\n",
      "difficult\n",
      "{'Positive': 0, 'Negative': 1, 'Polarity': -0.9999990000010001, 'Subjectivity': 0.9999990000010001}\n",
      "problem\n",
      "{'Positive': 0, 'Negative': 1, 'Polarity': -0.9999990000010001, 'Subjectivity': 0.9999990000010001}\n",
      "artifici\n",
      "{'Positive': 0, 'Negative': 1, 'Polarity': -0.9999990000010001, 'Subjectivity': 0.9999990000010001}\n",
      "overcom\n",
      "{'Positive': 0, 'Negative': 1, 'Polarity': -0.9999990000010001, 'Subjectivity': 0.9999990000010001}\n",
      "limit\n",
      "{'Positive': 0, 'Negative': 1, 'Polarity': -0.9999990000010001, 'Subjectivity': 0.9999990000010001}\n",
      "artifici\n",
      "{'Positive': 0, 'Negative': 1, 'Polarity': -0.9999990000010001, 'Subjectivity': 0.9999990000010001}\n",
      "\n",
      "NEW SENTENCE \n",
      "\n",
      "fail\n",
      "{'Positive': 0, 'Negative': 1, 'Polarity': -0.9999990000010001, 'Subjectivity': 0.9999990000010001}\n",
      "confus\n",
      "{'Positive': 0, 'Negative': 1, 'Polarity': -0.9999990000010001, 'Subjectivity': 0.9999990000010001}\n",
      "oppos\n",
      "{'Positive': 0, 'Negative': 1, 'Polarity': -0.9999990000010001, 'Subjectivity': 0.9999990000010001}\n",
      "investig\n",
      "{'Positive': 0, 'Negative': 1, 'Polarity': -0.9999990000010001, 'Subjectivity': 0.9999990000010001}\n",
      "\n",
      "NEW SENTENCE \n",
      "\n",
      "challeng\n",
      "{'Positive': 0, 'Negative': 1, 'Polarity': -0.9999990000010001, 'Subjectivity': 0.9999990000010001}\n",
      "implic\n",
      "{'Positive': 0, 'Negative': 1, 'Polarity': -0.9999990000010001, 'Subjectivity': 0.9999990000010001}\n",
      "\n",
      "NEW SENTENCE \n",
      "\n",
      "implic\n",
      "{'Positive': 0, 'Negative': 1, 'Polarity': -0.9999990000010001, 'Subjectivity': 0.9999990000010001}\n"
     ]
    }
   ],
   "source": [
    "# FOCUS Pysentiment2\n",
    "# Reading the pysentiment2 disctionary\n",
    "pysentiment2_dict = pd.read_csv(r\"pysentiment2_dict.csv\", sep = \";\")\n",
    "print(pysentiment2_dict.columns)\n",
    "print(pysentiment2_dict.Word[:5])\n",
    "\n",
    "tokens = lm.tokenize(\"this is a great idea for different reasons\")\n",
    "print(tokens)\n",
    "print(lm.get_score(tokens))\n",
    "\n",
    "all_words = []\n",
    "for lista in df[df_sentiment.Polarity>0.99][:2].corpus1:\n",
    "    all_words.extend(lm.tokenize(lista))\n",
    "wordz = pd.Series(Counter(all_words), index=Counter(all_words).keys())\n",
    "print(wordz[wordz>3].sort_values())\n",
    "\n",
    "# checking characteristics of extremely positive sentences\n",
    "for lista in df[df_sentiment.Polarity>0.99][:5].corpus1:\n",
    "    print(\"\\nNEW SENTENCE \\n\")\n",
    "    for w in lm.tokenize(lista):\n",
    "        if lm.get_score([w])[\"Polarity\"]!= 0:\n",
    "            print(w)\n",
    "            print(lm.get_score([w]))\n",
    "\n",
    "# Same for negative\n",
    "for lista in df[df_sentiment.Polarity<-0.99][:5].corpus1:\n",
    "    print(\"\\nNEW SENTENCE \\n\")\n",
    "    for w in lm.tokenize(lista):\n",
    "        if lm.get_score([w])[\"Polarity\"]!= 0:\n",
    "            print(w)\n",
    "            print(lm.get_score([w]))"
   ]
  },
  {
   "cell_type": "markdown",
   "metadata": {},
   "source": [
    "----\n",
    "\n",
    "## Word cloud\n"
   ]
  },
  {
   "cell_type": "code",
   "execution_count": 60,
   "metadata": {},
   "outputs": [
    {
     "data": {
      "image/png": "[encoded data removed]",
      "text/plain": [
       "<PIL.Image.Image image mode=RGB size=400x200 at 0x18BADA78A90>"
      ]
     },
     "execution_count": 60,
     "metadata": {},
     "output_type": "execute_result"
    }
   ],
   "source": [
    "from wordcloud import WordCloud\n",
    "\n",
    "\n",
    "long_string = ','.join(list(df['Abstract'].values))\n",
    "#print(long_string[1:100])\n",
    "\n",
    "wordcloud = WordCloud(background_color = \"white\", max_words = 5000, contour_width = 3,\n",
    "                     contour_color = 'steelblue')\n",
    "\n",
    "wordcloud.generate(long_string)\n",
    "\n",
    "wordcloud.to_image()"
   ]
  },
  {
   "cell_type": "markdown",
   "metadata": {},
   "source": [
    "## LDA - bigram + trigram + logistic regression\n"
   ]
  },
  {
   "cell_type": "code",
   "execution_count": null,
   "metadata": {},
   "outputs": [],
   "source": [
    "from gensim.corpora import Dictionary\n",
    "from gensim.models import LdaModel\n",
    "dictionary2 = Dictionary(corpus2)\n",
    "dictionary2.filter_extremes(no_below=20, no_above=0.5)\n",
    "bi_corpus = [dictionary2.doc2bow(doc) for doc in corpus2]\n",
    "\n",
    "topic = []\n",
    "perplexity= []\n",
    "decay = []\n",
    "\n",
    "num_topics = 20\n",
    "temp = dictionary2[0]  # This is only to \"load\" the dictionary."
   ]
  },
  {
   "cell_type": "code",
   "execution_count": null,
   "metadata": {},
   "outputs": [],
   "source": []
  },
  {
   "cell_type": "code",
   "execution_count": null,
   "metadata": {},
   "outputs": [],
   "source": [
    "def compute_coherence_values(corpus, dictionary, k, a, b):\n",
    "    \n",
    "    lda_model = gensim.models.LdaMulticore(corpus=bi_corpus,\n",
    "                                           id2word=dictionary2,\n",
    "                                           num_topics=k, \n",
    "                                           workers = 7,\n",
    "                                           random_state=100,\n",
    "                                           chunksize=200,\n",
    "                                           passes=10,\n",
    "                                           alpha=a,\n",
    "                                           eta=b)\n",
    "    \n",
    "    coherence_model_lda1 = CoherenceModel(model=lda_model, texts=corpus2, dictionary=dictionary2, coherence='u_mass')\n",
    "    coherence_model_lda2 = CoherenceModel(model=lda_model, texts=corpus2, dictionary=dictionary2, coherence='c_v')\n",
    "    x = coherence_model_lda1.get_coherence()\n",
    "    y = coherence_model_lda2.get_coherence()\n",
    "    \n",
    "    return x, y"
   ]
  },
  {
   "cell_type": "code",
   "execution_count": null,
   "metadata": {},
   "outputs": [],
   "source": [
    "from gensim.models import CoherenceModel\n",
    "import numpy as np\n",
    "import tqdm\n",
    "\n",
    "grid = {}\n",
    "grid['Validation_Set'] = {}\n",
    "\n",
    "# Topics range\n",
    "min_topics = 5\n",
    "max_topics = 20\n",
    "step_size = 1\n",
    "topics_range = range(min_topics, max_topics, step_size)\n",
    "\n",
    "# Alpha parameter\n",
    "alpha = list(np.arange(0.01, 1, 0.3))\n",
    "alpha.append('symmetric')\n",
    "alpha.append('asymmetric')\n",
    "\n",
    "# Beta parameter\n",
    "beta = list(np.arange(0.01, 1, 0.3))\n",
    "beta.append('symmetric')\n",
    "beta.append('auto')\n",
    "\n",
    "# Validation sets\n",
    "num_of_docs = len(bi_corpus)\n",
    "corpus_sets = bi_corpus\n",
    "\n",
    "corpus_title = ['100% Corpus']\n",
    "\n",
    "model_results = {'Validation_Set': [],\n",
    "                 'Topics': [],\n",
    "                 'Alpha': [],\n",
    "                 'Beta': [],\n",
    "                 'Coherence_u': [],\n",
    "                 'Coherence_v': []\n",
    "                }\n",
    "\n",
    "# Can take a long time to run\n",
    "if 1 == 1:\n",
    "    pbar = tqdm.tqdm(total=(len(beta)*len(alpha)*len(topics_range)*len(corpus_title)))\n",
    "    \n",
    "    # iterate through validation corpuses\n",
    "    for i in range(len(corpus_sets)):\n",
    "        # iterate through number of topics\n",
    "        for k in topics_range:\n",
    "            # iterate through alpha va\n",
    "            for a in alpha:\n",
    "                # iterare through beta values\n",
    "                for b in beta:\n",
    "                    # get the coherence score for the given parameters\n",
    "                    u, v = compute_coherence_values(corpus=corpus_sets[i], dictionary=dictionary2, \n",
    "                                                  k=k, a=a, b=b)\n",
    "                    print(u, v)\n",
    "\n",
    "                    # Save the model results\n",
    "                    model_results['Validation_Set'].append(corpus_title[i])\n",
    "                    model_results['Topics'].append(k)\n",
    "                    model_results['Alpha'].append(a)\n",
    "                    model_results['Beta'].append(b)\n",
    "                    model_results['Coherence_u'].append(u)\n",
    "                    model_results['Coherence_v'].append(v)\n",
    "                    \n",
    "                    pbar.update(1)\n",
    "    pd.DataFrame(model_results).to_csv('./results/lda_tuning_results.csv', index=False)\n",
    "    pbar.close()"
   ]
  },
  {
   "cell_type": "code",
   "execution_count": null,
   "metadata": {},
   "outputs": [],
   "source": [
    "pd.DataFrame(model_results).to_csv('./results/lda_tuning_results.csv', index=False)"
   ]
  },
  {
   "cell_type": "code",
   "execution_count": null,
   "metadata": {},
   "outputs": [],
   "source": [
    "pd.DataFrame(model_results).max"
   ]
  },
  {
   "cell_type": "code",
   "execution_count": null,
   "metadata": {},
   "outputs": [],
   "source": [
    "#The best model\n",
    "#coherence_u: topic 12, alpha 0.81, beta 0.91\n",
    "#coherence_v: topic 16, alpha: asymmetric, beta: 0.91\n",
    "num_topics_u = 12\n",
    "\n",
    "lda_model_u = gensim.models.LdaMulticore(corpus=bi_corpus,\n",
    "                                           id2word=dictionary2,\n",
    "                                           num_topics=num_topics_u, \n",
    "                                           random_state=100,\n",
    "                                           chunksize=100,\n",
    "                                           passes=20,\n",
    "                                           alpha=0.81,\n",
    "                                           eta=0.91)\n",
    "\n",
    "num_topics_v = 16\n",
    "\n",
    "lda_model_v = gensim.models.LdaMulticore(corpus=bi_corpus,\n",
    "                                           id2word=dictionary2,\n",
    "                                           num_topics=num_topics_v, \n",
    "                                           random_state=100,\n",
    "                                           chunksize=100,\n",
    "                                           passes=20,\n",
    "                                           alpha= 'asymmetric',\n",
    "                                           eta=0.91)"
   ]
  },
  {
   "cell_type": "code",
   "execution_count": null,
   "metadata": {},
   "outputs": [],
   "source": [
    "from pprint import pprint\n",
    "\n",
    "# Print the Keyword in the 10 topics\n",
    "pprint(lda_model_u.print_topics())"
   ]
  },
  {
   "cell_type": "code",
   "execution_count": null,
   "metadata": {},
   "outputs": [],
   "source": [
    "pprint(lda_model_v.print_topics())"
   ]
  },
  {
   "cell_type": "code",
   "execution_count": null,
   "metadata": {},
   "outputs": [],
   "source": [
    "#We need to plot the results\n",
    "\n",
    "train_vecs = []\n",
    "for i in range(len(df)):\n",
    "    top_topics = (\n",
    "        lda_model_u.get_document_topics(bi_corpus[i], minimum_probability = 0.0) #we capture the instances where a review is \n",
    "        #presented with 0% in some topics, and the representation for each review will add up to 100%\n",
    "    )\n",
    "    \n",
    "    topic_vec = [top_topics[i][1] for i in range(num_topics_u)]\n",
    "    train_vecs.append(topic_vec)\n",
    "    \n",
    "print(train_vecs[1])"
   ]
  },
  {
   "cell_type": "code",
   "execution_count": null,
   "metadata": {},
   "outputs": [],
   "source": [
    "train_vecs"
   ]
  },
  {
   "cell_type": "code",
   "execution_count": null,
   "metadata": {},
   "outputs": [],
   "source": [
    "#1990\n",
    "print(df[df['Year'] == 1990].index)\n",
    "print(df[df['Year'] == 2000].index)\n",
    "print(df[df['Year'] == 2010].index)\n",
    "print(df[df['Year'] == 2020].index)\n",
    "dftrain_vecs_1990 = pd.DataFrame(train_vecs[749:781])\n",
    "dftrain_vecs_2000 = pd.DataFrame(train_vecs[2844:3014])\n",
    "dftrain_vecs_2010 = pd.DataFrame(train_vecs[6400:6731])\n",
    "dftrain_vecs_2020 = pd.DataFrame(train_vecs[6732:7657])"
   ]
  },
  {
   "cell_type": "code",
   "execution_count": null,
   "metadata": {},
   "outputs": [],
   "source": [
    "fig, ax = plt.subplots()\n",
    "fig.set_figwidth(7)\n",
    "fig.set_figheight(5)\n",
    "ax.set_xlim([0,0.2])\n",
    "(dftrain_vecs_1990.sum()/dftrain_vecs_1990.sum().sum()).plot(kind = 'barh')\n",
    "\n",
    "fig, ax = plt.subplots()\n",
    "fig.set_figwidth(7)\n",
    "fig.set_figheight(5)\n",
    "ax.set_xlim([0,0.2])\n",
    "(dftrain_vecs_2000.sum()/dftrain_vecs_2000.sum().sum()).plot(kind = 'barh')\n",
    "\n",
    "fig, ax = plt.subplots()\n",
    "fig.set_figwidth(7)\n",
    "fig.set_figheight(5)\n",
    "ax.set_xlim([0,0.2])\n",
    "(dftrain_vecs_2010.sum()/dftrain_vecs_2010.sum().sum()).plot(kind = 'barh')\n",
    "\n",
    "fig, ax = plt.subplots()\n",
    "fig.set_figwidth(7)\n",
    "fig.set_figheight(5)\n",
    "ax.set_xlim([0,0.2])\n",
    "(dftrain_vecs_2020.sum()/dftrain_vecs_2020.sum().sum()).plot(kind = 'barh')"
   ]
  },
  {
   "cell_type": "code",
   "execution_count": null,
   "metadata": {},
   "outputs": [],
   "source": []
  },
  {
   "cell_type": "code",
   "execution_count": null,
   "metadata": {},
   "outputs": [],
   "source": [
    "#frequency plot\n",
    "location = []\n",
    "\n",
    "for i in range(len(train_vecs)):\n",
    "    maxi = max(train_vecs[i])\n",
    "    loc = train_vecs[i].index(maxi)\n",
    "    location.append(loc + 1)\n",
    "    \n",
    "df['Topic'] = location\n",
    "\n",
    "print(df['Topic'])"
   ]
  },
  {
   "cell_type": "code",
   "execution_count": null,
   "metadata": {},
   "outputs": [],
   "source": [
    "from matplotlib import pyplot as plt\n",
    "\n",
    "f, ax = plt.subplots(1, 1, figsize = (10, 10))\n",
    "\n",
    "df['Topic'].value_counts().plot(kind = 'barh') #horizontal frequency plot"
   ]
  },
  {
   "cell_type": "code",
   "execution_count": null,
   "metadata": {},
   "outputs": [],
   "source": [
    "(agg_topics.loc[2000,:]/agg_topics.loc[2000,:].sum())*100\n"
   ]
  },
  {
   "cell_type": "code",
   "execution_count": null,
   "metadata": {},
   "outputs": [],
   "source": [
    "from matplotlib import pyplot as plt\n",
    "agg_topics = df.groupby([df.index.year,'Topic'])['Topic'].count().unstack().fillna(0)\n",
    "agg_topics_1 = agg_topics.copy()\n",
    "\n",
    "for i in list(df.index.year.unique()):\n",
    "    print(i)\n",
    "    sum_ = agg_topics_1.loc[i,:].sum()\n",
    "    print(sum_)\n",
    "    agg_topics_1.loc[i,:] = (agg_topics_1.loc[i,:]/sum_) * 100\n"
   ]
  },
  {
   "cell_type": "code",
   "execution_count": null,
   "metadata": {},
   "outputs": [],
   "source": [
    "\n",
    "\n",
    "fig, ax = plt.subplots()\n",
    "\n",
    "\n",
    "fig.set_figwidth(7)\n",
    "fig.set_figheight(5)\n",
    "colors = ['black', 'slategray', 'lightcoral','peru','chocolate','darkorange',\n",
    "          'yellow','greenyellow','darkgreen','aquamarine','cyan',\n",
    "         'blue', 'violet','hotpink','pink','orchid','red','darkred']\n",
    "bottom = np.zeros(len(agg_topics))\n",
    "\n",
    "for i, col in enumerate(agg_topics.columns):\n",
    "  ax.bar(agg_topics.index, agg_topics[col], bottom=bottom, label=col,\n",
    "         color=colors[i])\n",
    "  bottom += np.array(agg_topics[col])\n",
    "\n",
    "ax.set_title('Topics by year')\n",
    "ax.legend()\n",
    "\n",
    "\n",
    "fig, ax = plt.subplots()\n",
    "fig.set_figwidth(10)\n",
    "fig.set_figheight(5)\n",
    "\n",
    "colors = ['black', 'slategray', 'lightcoral','peru','chocolate','darkorange',\n",
    "          'yellow','greenyellow','darkgreen','aquamarine','cyan',\n",
    "         'blue', 'violet','hotpink','pink','orchid','red','darkred']\n",
    "bottom = np.zeros(len(agg_topics_1))\n",
    "\n",
    "for i, col in enumerate(agg_topics_1.columns):\n",
    "  ax.bar(agg_topics_1.index, agg_topics_1[col], bottom=bottom, label=col,\n",
    "         color=colors[i])\n",
    "  bottom += np.array(agg_topics_1[col])\n",
    "\n",
    "ax.set_title('Topics by year (%)')\n",
    "ax.legend()"
   ]
  },
  {
   "cell_type": "code",
   "execution_count": null,
   "metadata": {},
   "outputs": [],
   "source": [
    "import pyLDAvis.gensim_models\n",
    "import pickle\n",
    "import pyLDAvis\n",
    "import os\n",
    "\n",
    "pyLDAvis.enable_notebook()\n",
    "\n",
    "LDAvis_data_filepath = os.path.join('./results/ldavis_prepared_'+ 'Final')\n",
    "\n",
    "if 1 == 1:\n",
    "    LDAvis_prepared = pyLDAvis.gensim_models.prepare(lda_model, bi_corpus, dictionary2)\n",
    "    with open(LDAvis_data_filepath,'wb') as f:\n",
    "        pickle.dump(LDAvis_prepared, f)\n",
    "        \n",
    "with open(LDAvis_data_filepath, 'rb') as f:\n",
    "    LDAvis_prepared = pickle.load(f)\n",
    "    \n",
    "pyLDAvis.save_html(LDAvis_prepared, './results/ldavis_prepared_'+ 'Final' + '.html')"
   ]
  },
  {
   "cell_type": "code",
   "execution_count": null,
   "metadata": {},
   "outputs": [],
   "source": [
    "pyLDAvis.gensim_models.prepare(lda_model, bi_corpus, dictionary2)"
   ]
  },
  {
   "cell_type": "code",
   "execution_count": null,
   "metadata": {},
   "outputs": [],
   "source": [
    "from collections import Counter\n",
    "\n",
    "Counter(df.coverDate).keys()"
   ]
  },
  {
   "cell_type": "code",
   "execution_count": null,
   "metadata": {},
   "outputs": [],
   "source": [
    "import pyLDAvis.gensim_models\n",
    "import pickle\n",
    "import pyLDAvis\n",
    "import os\n",
    "\n",
    "pyLDAvis.enable_notebook()\n",
    "\n",
    "LDAvis_data_filepath = os.path.join('./results/lda_'+str(num_topics))\n",
    "\n",
    "if 1 == 1:\n",
    "    LDAvis_prepared = pyLDAvis.gensim_models.prepare(lda_model, bi_corpus, dictionary2)\n",
    "    with open(LDAvis_data_filepath,'wb') as f:\n",
    "        pickle.dump(LDAvis_prepared, f)\n",
    "        \n",
    "with open(LDAvis_data_filepath, 'rb') as f:\n",
    "    LDAvis_prepared = pickle.load(f)\n",
    "    \n",
    "pyLDAvis.save_html(LDAvis_prepared, './results/lda_'+str(num_topics) + '.html')"
   ]
  },
  {
   "cell_type": "markdown",
   "metadata": {},
   "source": [
    "## Logistic Regression - Still need to add the sentiments\n",
    "\n",
    "### X: Topic distribution per corpus, year, Sentiment, author publication score, first author's university rank, \n",
    "\n",
    "### y: citation number\n",
    "\n",
    "### Things to do\n",
    "* k-cv to choose the optimal topic numbers\n",
    "* bigram\n",
    "* interaction term\n",
    "\n",
    "### Results\n",
    "\n",
    "We see that a normal logistic model performs the best in terms of f1 score\n",
    "\n",
    "* We can try other diagnostics."
   ]
  },
  {
   "cell_type": "markdown",
   "metadata": {},
   "source": [
    "### logistic regression (bigram)"
   ]
  },
  {
   "cell_type": "code",
   "execution_count": null,
   "metadata": {},
   "outputs": [],
   "source": [
    "from sklearn.model_selection import KFold\n",
    "from sklearn.preprocessing import StandardScaler\n",
    "from sklearn.linear_model import LogisticRegression\n",
    "from sklearn.metrics import f1_score\n",
    "from sklearn.linear_model import LinearRegression\n",
    "from sklearn.linear_model import SGDClassifier\n",
    "from sklearn.metrics import classification_report\n",
    "import numpy as np\n",
    "\n",
    "df.coverDate = df.coverDate.astype(str).str[0:4].astype(int)\n",
    "\n",
    "X = np.column_stack([train_vecs, df.coverDate, df[0]])\n",
    "y = np.array(df.citedby_count)\n",
    "y[y<=np.median(y)] = 0\n",
    "y[y>np.median(y)] = 1\n",
    "\n",
    "#import warnings\n",
    "#warnings.filterwarnings('ignore')\n",
    "\n",
    "kf = KFold(10, shuffle = True, random_state = 42)\n",
    "\n",
    "lr_score , lrsgd_score, svcsgd_score, cv_lr_f1, cv_lrsgd_f1, cv_svcsgd_f1, = [], [], [], [], [], []\n",
    "\n",
    "for train_ind, val_ind in kf.split(X,y):\n",
    "    X_train, y_train = X[train_ind], y[train_ind]\n",
    "    X_val, y_val = X[val_ind], y[val_ind]\n",
    "    scaler = StandardScaler()\n",
    "    X_train_scale = scaler.fit_transform(X_train)\n",
    "    X_val_scale = scaler.transform(X_val)\n",
    "    \n",
    "    lr = LogisticRegression(\n",
    "        class_weight = 'balanced',\n",
    "        solver = 'saga',\n",
    "        fit_intercept = True,\n",
    "        max_iter = 10000, \n",
    "        C = 0.8\n",
    "    ).fit(X_train_scale, y_train)\n",
    "    \n",
    "    \n",
    "    y_pred = lr.predict(X_val_scale)\n",
    "    cv_lr_f1.append(f1_score(y_val, y_pred, average='binary'))\n",
    "    lr_score.append(lr.score(X_val_scale, y_val))\n",
    "\n",
    "    sgd = SGDClassifier(\n",
    "        max_iter=10000,\n",
    "        tol=1e-3,\n",
    "        loss='log',\n",
    "        class_weight='balanced'\n",
    "    ).fit(X_train_scale, y_train)\n",
    "    \n",
    "    y_pred = sgd.predict(X_val_scale)\n",
    "    cv_lrsgd_f1.append(f1_score(y_val, y_pred, average='binary'))\n",
    "    lrsgd_score.append(sgd.score(X_val_scale, y_val))\n",
    "    # print(lrsgd_score)\n",
    "    \n",
    "    # SGD Modified Huber\n",
    "    sgd_huber = SGDClassifier(\n",
    "        max_iter=10000,\n",
    "        tol=1e-3,\n",
    "        alpha=20,\n",
    "        loss='modified_huber',\n",
    "        class_weight='balanced'\n",
    "    ).fit(X_train_scale, y_train)\n",
    "                       \n",
    "    y_pred = sgd_huber.predict(X_val_scale)\n",
    "    cv_svcsgd_f1.append(f1_score(y_val, y_pred, average='binary'))\n",
    "    svcsgd_score.append(sgd_huber.score(X_val_scale, y_val))\n",
    "\n",
    "print(f'Logistic Regression Val f1: {np.mean(cv_lr_f1):.3f} +- {np.std(cv_lr_f1):.3f}')\n",
    "print(f'Logisitic Regression SGD Val f1: {np.mean(cv_lrsgd_f1):.3f} +- {np.std(cv_lrsgd_f1):.3f}')\n",
    "print(f'SVM Huber Val f1: {np.mean(cv_svcsgd_f1):.3f} +- {np.std(cv_svcsgd_f1):.3f}')\n",
    "print(f'Logistic Regression Accuracy:{np.mean(lr_score)}')\n",
    "print(f'Logistic Regression SGD Accuracy:{np.mean(lrsgd_score)}')\n",
    "print(f'SVM Huber Accuracy:{np.mean(svcsgd_score)}')"
   ]
  },
  {
   "cell_type": "code",
   "execution_count": null,
   "metadata": {},
   "outputs": [],
   "source": [
    "print(sgd.coef_, sgd.intercept_)\n",
    "print(lr.coef_, lr.intercept_)"
   ]
  },
  {
   "cell_type": "markdown",
   "metadata": {},
   "source": [
    "# Word Embeddings"
   ]
  },
  {
   "cell_type": "markdown",
   "metadata": {},
   "source": [
    "### Loading the pre-trained Google's word2vec model\n",
    "How to make it work?\n",
    "- Dowload Google's trained Word2Vec model at: https://s3.amazonaws.com/dl4j-distribution/GoogleNews-vectors-negative300.bin.gz\n",
    "- unzip the .gz file"
   ]
  },
  {
   "cell_type": "code",
   "execution_count": 61,
   "metadata": {},
   "outputs": [],
   "source": [
    "import gensim\n",
    "# Load Google's pre-trained Word2Vec model.\n",
    "model = gensim.models.KeyedVectors.load_word2vec_format(r'C:\\Users\\marco\\Desktop\\NLP_local\\notebook\\data\\GoogleNews-vectors-negative300.bin', binary=True)\n",
    "#model = gensim.models.KeyedVectors.load_word2vec_format(r'C:\\Users\\USER\\OneDrive\\Documents\\Python\\NLP\\GoogleNews-vectors-negative300.bin', binary=True)"
   ]
  },
  {
   "cell_type": "markdown",
   "metadata": {},
   "source": [
    "### Creating a sentence embedding for each abstract\n",
    "\n",
    "In the cell below, we create the embedding for each word of the abstract using Google's word2vec model. Then we average all these vectors to obtain a unique abstract (sentence) embedding. This is repeated for all the abstracts in corpus1. Notice that corpus1 was created [here](#Creating-corpus1-and-corpus2)."
   ]
  },
  {
   "cell_type": "code",
   "execution_count": 62,
   "metadata": {},
   "outputs": [],
   "source": [
    "# Create an empty list used to store the abstract embedding\n",
    "list_word2vec_vector_max = []\n",
    "list_word2vec_vector_mean = []\n",
    "# Create an empty list to store the words that our model does not recognise\n",
    "list_missing_word = []\n",
    "\n",
    "# Loop all the abstracts in corpus1\n",
    "for i in range(len(corpus1)):\n",
    "    # Creating an empty list used to store the word embeddings of each word in the abstract\n",
    "    word_matrix = []\n",
    "    # Loop all the words in corpus1[i]\n",
    "    for word in corpus1[i]:\n",
    "        # Try/except is used here because if a word is not recognised by the model, an exception is raised\n",
    "        try:\n",
    "            # Embedding the word using our model\n",
    "            word_vector = model[word]\n",
    "            # Appending the embedding to the list of embeddings\n",
    "            word_matrix.append(word_vector)\n",
    "        except Exception as e:\n",
    "            # If the word is not recognised, it is stored in the list below\n",
    "            list_missing_word.append(word)\n",
    "    # Take the average over all the word embeddings of an abstract\n",
    "    sentence_embedding_max = np.max(np.asarray(word_matrix), axis = 0)\n",
    "    sentence_embedding_mean = np.mean(np.asarray(word_matrix), axis = 0)\n",
    "    # Append the average vector to the list below\n",
    "    list_word2vec_vector_max.append(sentence_embedding_max)\n",
    "    list_word2vec_vector_mean.append(sentence_embedding_mean)"
   ]
  },
  {
   "cell_type": "code",
   "execution_count": 63,
   "metadata": {},
   "outputs": [
    {
     "name": "stdout",
     "output_type": "stream",
     "text": [
      "{'foucault', 'josephson', 'aronson', 'deme', 'klimoski', 'nud', 'bagozzi', 'brody', 'wildavsky', 'multigroup', 'aee', 'mrp', 'handelsge', 'ntbfs', 'abss', 'tetrad', 'corba', 'interindustry', 'phistication', 'tqc', 'eichenbaum', 'gietzmann', 'abrahamson', 'touchant', 'interpretivist', 'statistique', 'ipma', 'triassic', 'rhq', 'sugject', 'gss', 'interrenewal', 'nexpert', 'vaiy', 'pdsq', 'ahp', 'zagreb', 'emr', 'hdensity', 'fondement', 'behaviour', 'nonconstant', 'mdm', 'misspeafie', 'exogeneity', 'eai', 'sprague', 'msq', 'ridder', 'tippett', 'wcm', 'unsolicite', 'keynesian', 'communitie', 'deshpandé', 'hardee', 'iept', 'suivante', 'intéresse', 'sociocognitive', 'fmc', 'certe', 'woodward', 'suboptimality', 'hypothèse', 'sceptical', 'boltzmann', 'shortcircuite', 'mehrabian', 'perceptron', 'minimise', 'cmip', 'earthmove', 'inadequacie', 'odss', 'noncomplaine', 'nonborrowe', 'assemblyline', 'hdo', 'flavour', 'collinearity', 'bernhofen', 'partiellement', 'pareto', 'régulièrement', 'difine', 'assembledfor', 'computerise', 'grammatocentric', 'givon', 'comporte', 'darsp', 'coomb', 'hyp', 'tdm', 'visualise', 'disconfirmation', 'anlayze', 'modelling', 'stakeholde', 'hnd', 'rasmuson', 'fmea', 'fdef', 'asce', 'fanner', 'dantzig', 'smf', 'cadbury', 'generalise', 'rulebase', 'prb', 'hirschman', 'connus', 'judgement', 'multiechelon', 'smdps', 'hampel', 'hauptman', 'fiscalist', 'revêt', 'busn', 'berton', 'cournot', 'randu', 'postautomation', 'rca', 'vegeto', 'guatemala', 'listwise', 'norand', 'multibusiness', 'enpirical', 'lfm', 'fidel_gastro', 'interfirm', 'specialise', 'entière', 'denzin', 'cybermarkete', 'satisficing', 'loglogistic', 'galbraith', 'overviewe', 'mtsa', 'ccb', 'thieme', 'routledge', 'mahajan', 'mcdowell', 'preexist', 'columbu', 'stalog', 'standardisation', 'sbow', 'socialeconomic', 'photocopi', 'brdand', 'visualisation', 'makespan', 'lillis', 'pdma', 'rmt', 'arkansa', 'emphasise', 'quantifie', 'polya', 'marager', 'pointwise', 'aicpa', 'stationarity', 'markov', 'prien', 'uks', 'kornai', 'noncompensatory', 'nonuser', 'strickland', 'multiobjective', 'analyse', 'mcb', 'ereation', 'mca', 'standardised', 'oecd', 'dsci', 'sanjit', 'barki', 'multiobject', 'multicommodity', 'postt', 'hbm', 'neighbour', 'denison', 'krieger', 'loglinear', 'solow', 'ashworth', 'objectbase', 'xcon', 'neuman', 'eisenhardt', 'mnc', 'ramchandran', 'esrc', 'analyser', 'comptable', 'wordprocesse', 'competencie', 'robey', 'kyst', 'undetecte', 'moenaert', 'cbis', 'fouri', 'universitie', 'qeeg', 'kida', 'extrapolative', 'inme', 'cleland', 'sbi', 'habituellement', 'undescribe', 'drg', 'nobe', 'apporte', 'endogenize', 'tangibilize', 'exmar', 'conserv', 'hagerty', 'poursuite', 'delphi', 'interfunctional', 'haag', 'collinson', 'smirnov', 'smfs', 'conséquence', 'subsidie', 'cgs', 'biplot', 'ldc', 'mne', 'hyposthenic', 'customise', 'lsdv', 'dirichlet', 'favoriser', 'heckman', 'sengupta', 'lyndon', 'posées', 'nonmetric', 'lifo', 'weaknesse', 'submodule', 'arnoud', 'vpa', 'hics', 'americanized', 'intéressent', 'defamiliarize', 'griggs', 'dpm', 'ebrd', 'microstation', 'intellective', 'stretford', 'aaker', 'gulati', 'enrolment', 'internatioonal', 'decisionsupport', 'kuiper', 'dupont', 'hypersthenic', 'chonko', 'psel', 'discusse', 'hodgkinson', 'blount', 'papadopoulos', 'nistep', 'rbc', 'phénomène', 'laurence', 'kolmogorov', 'slovak', 'identifie', 'hopfield', 'modifie', 'jorgenson', 'smdp', 'dmus', 'ccpp', 'liberalisation', 'lvfat', 'jaikumar', 'regenwetter', 'smt', 'probit', 'amts', 'massetti', 'strengthtene', 'hokkaido', 'deaft', 'hisrich', 'sightplan', 'bhaskar', 'utilised', 'spearman', 'manova', 'shaipe', 'bootstrappe', 'segregationary', 'fsi', 'spede', 'prefmap', 'velten', 'grosch', 'setzbuch', 'multitrait', 'gibb', 'reengineere', 'eiss', 'associé', 'youngrok', 'comptabilité', 'macneil', 'nfib', 'idm', 'metalworke', 'neurophysical', 'deschoolmeester', 'submarginal', 'dartmoor', 'rappaport', 'balise', 'perkin', 'avrunin', 'saeed', 'karian', 'kohlberg', 'focusse', 'lisrel', 'drouilly', 'grampian', 'calcomp', 'alscal', 'ehevi', 'elsevter', 'priontization', 'dudewicz', 'endogeneity', 'mlgas', 'systemstend', 'sogen', 'elegan', 'econometrica', 'hyperplane', 'multidyadic', 'blom', 'englewood', 'uncoordinate', 'hypodynamy', 'connectionist', 'qfd', 'favourably', 'kluwer', 'recognise', 'westhead', 'réglementation', 'metaknowledge', 'hollingshead', 'decisionmake', 'glaser', 'converger', 'likableness', 'noninstance', 'callender', 'aforementione', 'scandinavia', 'ukts', 'autoregressive', 'dmu', 'uscg', 'euc', 'valdez', 'cocitation', 'caic', 'msa', 'bpr', 'olkin', 'bernoulli', 'nonfranchise', 'sfi', 'belate', 'similaritie', 'nonaka', 'gpos', 'heterogenou', 'successe', 'moderational', 'xsome', 'nohria', 'sbu', 'expérimentale', 'résultant', 'expérimentaux', 'oscedastic', 'mcdss', 'jonscher', 'cim', 'abilitie', 'vcrs', 'semler', 'mcdm', 'equivocality', 'schumpeter', 'sociometric', 'buyclass', 'multimethod', 'samiee', 'instrat', 'parasuraman', 'igi', 'mediationist', 'donegan', 'capacitie', 'etrs', 'ipos', 'organisational', 'relationalism', 'overidentified', 'pudong', 'eap', 'realisation', 'characterise', 'organisation', 'taber', 'programme', 'procéder', 'markovian', 'cpos', 'unimpacted', 'smartware', 'adap', 'charne', 'hartwick', 'fortran', 'factorially', 'nontime', 'étendre', 'existante', 'cronin', 'colly', 'monotonia', 'wayfinde', 'methodologie', 'lymman', 'ellsworth', 'pmd', 'vcs', 'présentent', 'ickis', 'brabander', 'sodoeconomic', 'noninnovative', 'paq', 'wortzel', 'subproblem', 'libraiy', 'centred', 'backpropagation', 'operationalise', 'hypothese', 'longsworth', 'poineering', 'maslow', 'varietey', 'dreher', 'aldine', 'andersen', 'vfr', 'stackelberg', 'dunnette', 'alaskan', 'ishikawa', 'keynesianism', 'catalyse', 'condorcet', 'isomorphism', 'holzner', 'eastman', 'rhode', 'bicriteria', 'siberiana', 'nonuniformity', 'souder', 'krishnamurti', 'schoonhoven', 'shortcome', 'plenborg', 'hrm', 'gld', 'vlsi', 'théorie', 'addison', 'bougen', 'varma', 'foucauldian', 'gestionnaire', 'sherwood', 'nonchosen', 'hughe', 'coshh', 'interactionist', 'autocorrelated', 'clilp', 'behavioural', 'enquiry', 'intrafirm', 'jstor', 'elsevier', 'abernethy', 'satisfie', 'multiperiod', 'nlm', 'falmagne', 'gert', 'fraunhofer', 'anova', 'gpo', 'subspecialize', 'complementor', 'ranjay', 'detrende', 'burchell', 'policentric', 'établit', 'muthén', 'mdu', 'csfr', 'multipli', 'nonsimultaneous', 'naisbitt', 'autopoietic', 'postchoice', 'invocational', 'jinhong', 'beebe', 'topa', 'negopy', 'housewive', 'diagnosticity', 'nomological', 'sidepayment', 'salarie', 'enrol', 'biostatistic', 'mbnqa', 'favour', 'chernoff', 'youngbae', 'taejon', 'aidant', 'dryden', 'osburn', 'fasb', 'mltif', 'sfas', 'kell', 'spss', 'centre', 'combinatorially', 'multifacete', 'reposent', 'entitie', 'nonminoritie', 'boettcher', 'ddb', 'ksa', 'parfold', 'bonferroni', 'complexifient', 'mncs', 'satisfaciton', 'cogniive', 'psychosyndrome', 'iie', 'fulfil', 'présentant', 'morecambe', 'nmr', 'jaccard', 'lechnology', 'hofstede', 'mahon', 'ontogenesis', 'polychoric', 'emh', 'ksao', 'hannan', 'hce', 'heslop', 'iae', 'affranchise', 'streit', 'processual', 'cointegrate', 'qol', 'synergie', 'pdi', 'résolvent', 'borda', 'callendar', 'xpertrule', 'drury', 'wilcoxon', 'waterhouse', 'practise', 'nonnormal', 'newtonian', 'multiattribute', 'utilisation', 'marjorie', 'deskill', 'prévision', 'ikr', 'skille', 'realise', 'noninstrumental', 'weinstein', 'fifo', 'typifie', 'burlington', 'robotize', 'cdm', 'boundedly', 'chercheur', 'outli', 'siberia', 'stockout', 'kogut', 'tvar', 'recontracte', 'videotext', 'slovenia', 'reinveste', 'workcrew', 'preteste', 'benchmarke', 'queueing', 'gdss', 'franz', 'christiano', 'technostructure', 'kohli', 'nonchoice', 'mdss', 'microcompute', 'extentionist', 'blackwell', 'markham', 'callability', 'dbase', 'amortissable', 'jinqiao', 'advantageouslv', 'shewhart', 'publientelle', 'nitin', 'residualize', 'goûts', 'mycin', 'irm', 'bayes', 'nct', 'ceel', 'baldrige', 'gatsby', 'curvilinearly', 'hvat', 'piecewise', 'cbt', 'nonrecursive', 'agqa', 'feige', 'muyzenberg', 'nonspecificity', 'nichola', 'gough', 'digraph', 'dsss', 'plusieur', 'utilise', 'possibilitie', 'birley', 'aiss', 'psychophysic', 'prentice', 'enquire', 'hyperrectangles', 'dealprone', 'macmillan', 'javorite', 'hierarchize', 'sbus', 'atms', 'multicriteria', 'dougherty', 'nrf', 'goffman', 'crg', 'sandia', 'maris', 'srull', 'astec', 'labour', 'organised', 'bmft', 'aacsb', 'lgebraic', 'fairbank', 'chenhall', 'mediational', 'formulae', 'servqual', 'prosig', 'sackett', 'zeleny', 'derivedby', 'mueller', 'heteroscedastic', 'riedwyl', 'threelayer', 'microefficiency', 'nielsen', 'empow', 'sorrounde', 'lpform', 'tqm', 'esbt', 'acteristic', 'adivisor', 'abbie', 'vérification', 'instem', 'icl'}\n",
      "(300,)\n",
      "(69, 300)\n",
      "300\n"
     ]
    }
   ],
   "source": [
    "# Checking the words that are not recognised by the model\n",
    "print(set(list_missing_word))\n",
    "print(np.shape(word_vector)) # Check size of a word vector (must be 300)\n",
    "print(np.shape(word_matrix)) # Check size word matrix (must be equal to num of words in abstract minus the words that are not recognised)\n",
    "print(len(list_word2vec_vector_mean[0])) # Check size of abstract vector (must be 300)"
   ]
  },
  {
   "cell_type": "markdown",
   "metadata": {},
   "source": [
    "### Penalized Logistic model to predict number of citations with abstract embeddings\n",
    "\n",
    "Run a (penalized) logistic regression to see if the asbtract embeddings using Google's word2vec model have any predictive power of the number of citations.\n",
    "The y variable used is the same defined [here](#logistic-regression-(unigram)). The x variables are the 300 values of the asbtract embeddings. "
   ]
  },
  {
   "cell_type": "code",
   "execution_count": 64,
   "metadata": {},
   "outputs": [
    {
     "name": "stdout",
     "output_type": "stream",
     "text": [
      "18.0\n",
      "0.495\n",
      "[1. 1. 1. 1. 0. 1. 1. 1. 0. 0.]\n",
      "0     19.0\n",
      "1     22.0\n",
      "2     20.0\n",
      "3     88.0\n",
      "4     13.0\n",
      "5    138.0\n",
      "6     63.0\n",
      "7    298.0\n",
      "8     12.0\n",
      "9     13.0\n",
      "Name: Cited by, dtype: float64\n",
      "0    this article extends a foucauldian view of pow...\n",
      "1    this paper focuses on the strategic role and t...\n",
      "Name: Abstract, dtype: object\n",
      "[['article', 'extend', 'foucauldian', 'view', 'power', 'knowledge', 'archetypical', 'knowledge', 'intensive', 'organization', 'scientific', 'research', 'laboratory', 'foucault', 'hesitate', 'extend', 'analytic', 'power', 'hard', 'rhetorical', 'social', 'study', 'provide', 'foundation', 'extension', 'article', 'discursive', 'production', 'power', 'knowledge', 'big', 'laboratory', 'conduct', 'nuclear', 'fusion', 'research', 'illuminate', 'critical', 'incident', 'fusion', 'research', 'discipline', 'impose', 'normative', 'discipline', 'individual', 'scientist', 'research', 'team', 'scientific', 'knowledge', 'solely', 'product', 'datum', 'theory', 'emerge', 'discursive', 'formation', 'management', 'practice', 'institutional', 'context', 'frame', 'relationship', 'knowledge', 'power', 'sage', 'publication'], ['paper', 'focus', 'strategic', 'role', 'implementation', 'textual', 'datum', 'mining', 'government', 'organization', 'special', 'emphasis', 'support', 'management', 'technology', 'begin', 'define', 'discuss', 'strategic', 'management', 'process', 'federal', 'government', 'organization', 'role', 'integral', 'process', 'paper', 'proceed', 'use', 'application', 'result', 'demonstration', 'program', 'office', 'naval', 'research', 'potential', 'benefit', 'integration', 'national', 'multi', 'national', 'database', 'support', 'strategic', 'decision', 'direction', 'funding', 'government', 'creation', 'usable', 'database', 'support', 'strategic', 'decision', 'area', 'government', 'implication', 'demonstration', 'program', 'relative', 'large', 'scale', 'implementation', 'tdm', 'discuss', 'paper', 'end', 'description', 'principle', 'requirement', 'high', 'quality', 'study']]\n"
     ]
    }
   ],
   "source": [
    "y = np.array(df[\"Cited by\"])\n",
    "y_median = np.median(y)\n",
    "print(y_median)\n",
    "y[y<=y_median] = 0\n",
    "y[y>y_median] = 1\n",
    "print(sum(y)/y.size)\n",
    "# Check that y vector has the same order of df\n",
    "print(y[:10])\n",
    "print(df[\"Cited by\"][:10])\n",
    "# check that corpus1 has the same order of df\n",
    "print(df.Abstract[:2])\n",
    "print(corpus1[:2])"
   ]
  },
  {
   "cell_type": "code",
   "execution_count": 65,
   "metadata": {},
   "outputs": [
    {
     "name": "stdout",
     "output_type": "stream",
     "text": [
      "\n",
      " using 10 as penalization parameter\n",
      "Logistic Regression Val f1: 0.573 +- 0.056\n",
      "Logistic Regression Accuracy:0.5811111111111111\n",
      "Coefficients bigger than 0.1: 144\n",
      "\n",
      " using 1 as penalization parameter\n",
      "Logistic Regression Val f1: 0.604 +- 0.064\n",
      "Logistic Regression Accuracy:0.6077777777777778\n",
      "Coefficients bigger than 0.1: 140\n",
      "\n",
      " using 0.1 as penalization parameter\n",
      "Logistic Regression Val f1: 0.612 +- 0.064\n",
      "Logistic Regression Accuracy:0.618888888888889\n",
      "Coefficients bigger than 0.1: 80\n",
      "\n",
      " using 0.05 as penalization parameter\n",
      "Logistic Regression Val f1: 0.619 +- 0.053\n",
      "Logistic Regression Accuracy:0.6200000000000001\n",
      "Coefficients bigger than 0.1: 36\n",
      "\n",
      " using 0.025 as penalization parameter\n",
      "Logistic Regression Val f1: 0.606 +- 0.052\n",
      "Logistic Regression Accuracy:0.6066666666666666\n",
      "Coefficients bigger than 0.1: 4\n",
      "\n",
      " using 0.01 as penalization parameter\n",
      "Logistic Regression Val f1: 0.586 +- 0.051\n",
      "Logistic Regression Accuracy:0.5933333333333333\n",
      "Coefficients bigger than 0.1: 0\n",
      "\n",
      " using 1e-06 as penalization parameter\n",
      "Logistic Regression Val f1: 0.392 +- 0.323\n",
      "Logistic Regression Accuracy:0.4955555555555556\n",
      "Coefficients bigger than 0.1: 0\n",
      "\n",
      " using 100 as penalization parameter\n",
      "Logistic Regression Val f1: 0.659 +- 0.042\n",
      "Logistic Regression Accuracy:0.6599999999999999\n",
      "Coefficients bigger than 0.1: 152\n",
      "\n",
      " using 10 as penalization parameter\n",
      "Logistic Regression Val f1: 0.660 +- 0.032\n",
      "Logistic Regression Accuracy:0.6633333333333334\n",
      "Coefficients bigger than 0.1: 150\n",
      "\n",
      " using 5 as penalization parameter\n",
      "Logistic Regression Val f1: 0.663 +- 0.033\n",
      "Logistic Regression Accuracy:0.6644444444444446\n",
      "Coefficients bigger than 0.1: 141\n",
      "\n",
      " using 2.5 as penalization parameter\n",
      "Logistic Regression Val f1: 0.669 +- 0.036\n",
      "Logistic Regression Accuracy:0.6655555555555556\n",
      "Coefficients bigger than 0.1: 140\n",
      "\n",
      " using 1 as penalization parameter\n",
      "Logistic Regression Val f1: 0.672 +- 0.050\n",
      "Logistic Regression Accuracy:0.6677777777777778\n",
      "Coefficients bigger than 0.1: 130\n",
      "\n",
      " using 0.1 as penalization parameter\n",
      "Logistic Regression Val f1: 0.664 +- 0.056\n",
      "Logistic Regression Accuracy:0.6622222222222222\n",
      "Coefficients bigger than 0.1: 33\n",
      "\n",
      " using 1e-06 as penalization parameter\n",
      "Logistic Regression Val f1: 0.205 +- 0.315\n",
      "Logistic Regression Accuracy:0.5111111111111111\n",
      "Coefficients bigger than 0.1: 0\n"
     ]
    }
   ],
   "source": [
    "from sklearn.model_selection import KFold\n",
    "from sklearn.linear_model import LogisticRegression\n",
    "from sklearn.metrics import f1_score\n",
    "from sklearn.model_selection import train_test_split\n",
    "\n",
    "def logit_model_w2v(X, y, C_grid):\n",
    "    '''\n",
    "    This function takes a grid of values of the tuning parameter and returns a dictionary with the f1_Score and accuracy \n",
    "    on a 10-fold cross validation\n",
    "    '''\n",
    "    w2c_logit_acc = {}\n",
    "\n",
    "    for C in C_grid:\n",
    "        # Set K-Folds cross-validator\n",
    "        kf = KFold(10, shuffle = True, random_state = 42)\n",
    "\n",
    "        # Empty lists to store the mean accuracy (lr_score) and balanced F-score (cv_lr_f1)\n",
    "        lr_score , cv_lr_f1= [], []\n",
    "\n",
    "        for train_ind, val_ind in kf.split(X,y):\n",
    "            X_train, y_train = X[train_ind], y[train_ind]\n",
    "            X_val, y_val = X[val_ind], y[val_ind]\n",
    "\n",
    "            # Notice that I am NOT normalizing the data <<---\n",
    "\n",
    "            # Set logistic regression model\n",
    "            lr = LogisticRegression(\n",
    "                class_weight = 'balanced',\n",
    "                solver = 'saga',\n",
    "                fit_intercept = True,\n",
    "                max_iter = 10000, \n",
    "                C = C # Penalization parameter\n",
    "            ).fit(X_train, y_train)\n",
    "\n",
    "            # Computing mean accuracy and balanced F-score\n",
    "            y_pred = lr.predict(X_val)\n",
    "            cv_lr_f1.append(f1_score(y_val, y_pred, average='binary'))\n",
    "            lr_score.append(lr.score(X_val, y_val))\n",
    "        F1_score = np.mean(cv_lr_f1)\n",
    "        acc_score = np.mean(lr_score)\n",
    "        print(f\"\\n using {C} as penalization parameter\")\n",
    "        print(f'Logistic Regression Val f1: {F1_score:.3f} +- {np.std(cv_lr_f1):.3f}')\n",
    "        print(f'Logistic Regression Accuracy:{acc_score}')\n",
    "        print(\"Coefficients bigger than 0.1:\", sum(sum(lr.coef_>0.1))) # Check number of coefficient bigger than 0.1\n",
    "        w2c_logit_c = {\"F1_score\" : F1_score, \"acc_score\" : acc_score}\n",
    "        w2c_logit_acc[C] = w2c_logit_c\n",
    "    return w2c_logit_acc\n",
    "\n",
    "# Setting X as the predictior of the model (i.e. the abstract sentence embedding)\n",
    "X = np.column_stack([list_word2vec_vector_max]) # We use the max\n",
    "# Set the grid\n",
    "C_grid = [10, 1, 0.1, 0.05, 0.025, 0.01, 0.000001]\n",
    "# Sort sample in test and train/validation\n",
    "X_train_max, X_test_max, y_train_max, y_test_max = train_test_split(X, y,  test_size=0.1)\n",
    "w2c_logit_acc_max = logit_model_w2v(X_train_max, y_train_max, C_grid)\n",
    "\n",
    "# Setting X as the predictior of the model (i.e. the abstract sentence embedding)\n",
    "X = np.column_stack([list_word2vec_vector_mean]) # We use the mean\n",
    "# Sort sample in test and train/validation\n",
    "X_train_mean, X_test_mean, y_train_mean, y_test_mean = train_test_split(X, y,  test_size=0.1)\n",
    "# Set a new grid\n",
    "C_grid = [100, 10, 5, 2.5, 1, 0.1, 0.000001]\n",
    "w2c_logit_acc_mean = logit_model_w2v(X_train_mean, y_train_mean, C_grid)"
   ]
  },
  {
   "cell_type": "code",
   "execution_count": 66,
   "metadata": {},
   "outputs": [
    {
     "name": "stdout",
     "output_type": "stream",
     "text": [
      "           F1_score  acc_score\n",
      "10.000000  0.573468   0.581111\n",
      "1.000000   0.603712   0.607778\n",
      "0.100000   0.611553   0.618889\n",
      "0.050000   0.618540   0.620000\n",
      "0.025000   0.606162   0.606667\n",
      "0.010000   0.586337   0.593333\n",
      "0.000001   0.391680   0.495556\n"
     ]
    },
    {
     "data": {
      "text/plain": [
       "Float64Index([0.05], dtype='float64')"
      ]
     },
     "execution_count": 66,
     "metadata": {},
     "output_type": "execute_result"
    }
   ],
   "source": [
    "w2c_logit_acc_max_df = pd.DataFrame.from_dict(w2c_logit_acc_max, orient = \"index\")\n",
    "print(w2c_logit_acc_max_df)\n",
    "# Select the best value of C for abstract embedding with max\n",
    "max_c = max(w2c_logit_acc_max_df.F1_score)\n",
    "w2c_logit_acc_max_df.loc[w2c_logit_acc_max_df.F1_score == max_c, :].index"
   ]
  },
  {
   "cell_type": "code",
   "execution_count": 67,
   "metadata": {},
   "outputs": [
    {
     "name": "stdout",
     "output_type": "stream",
     "text": [
      "f1_score on test: 0.6725663716814159\n",
      "Accuracy on test: 0.63\n"
     ]
    }
   ],
   "source": [
    "# Training again the model on the entire train set with c = max_c\n",
    "lr_max_best = LogisticRegression(\n",
    "                class_weight = 'balanced',\n",
    "                solver = 'saga',\n",
    "                fit_intercept = True,\n",
    "                max_iter = 10000, \n",
    "                C = max_c # Penalization parameter set to max_c\n",
    "            ).fit(X_train_max, y_train_max)\n",
    "# Computing mean accuracy and balanced F-score on train dataset\n",
    "y_pred = lr_max_best.predict(X_test_max)\n",
    "print(\"f1_score on test:\", f1_score(y_test_max, y_pred, average='binary'))\n",
    "print(\"Accuracy on test:\", lr_max_best.score(X_test_max, y_test_max))"
   ]
  },
  {
   "cell_type": "code",
   "execution_count": 68,
   "metadata": {},
   "outputs": [
    {
     "name": "stdout",
     "output_type": "stream",
     "text": [
      "            F1_score  acc_score\n",
      "100.000000  0.658781   0.660000\n",
      "10.000000   0.660008   0.663333\n",
      "5.000000    0.662877   0.664444\n",
      "2.500000    0.668616   0.665556\n",
      "1.000000    0.671613   0.667778\n",
      "0.100000    0.663879   0.662222\n",
      "0.000001    0.205489   0.511111\n"
     ]
    },
    {
     "data": {
      "text/plain": [
       "Float64Index([1.0], dtype='float64')"
      ]
     },
     "execution_count": 68,
     "metadata": {},
     "output_type": "execute_result"
    }
   ],
   "source": [
    "w2c_logit_acc_mean_df = pd.DataFrame.from_dict(w2c_logit_acc_mean, orient = \"index\")\n",
    "print(w2c_logit_acc_mean_df)\n",
    "# Select the best value of C for abstract embedding with mean\n",
    "max_c = max(w2c_logit_acc_mean_df.F1_score)\n",
    "w2c_logit_acc_mean_df.loc[w2c_logit_acc_mean_df.F1_score == max_c, :].index"
   ]
  },
  {
   "cell_type": "code",
   "execution_count": 69,
   "metadata": {},
   "outputs": [
    {
     "name": "stdout",
     "output_type": "stream",
     "text": [
      "f1_score on test: 0.6185567010309277\n",
      "Accuracy on test: 0.63\n"
     ]
    }
   ],
   "source": [
    "# Training again the model on the entire train set with c = max_c\n",
    "lr_mean_best = LogisticRegression(\n",
    "                class_weight = 'balanced',\n",
    "                solver = 'saga',\n",
    "                fit_intercept = True,\n",
    "                max_iter = 10000, \n",
    "                C = max_c # Penalization parameter set to max_c\n",
    "            ).fit(X_train_mean, y_train_mean)\n",
    "# Computing mean accuracy and balanced F-score on train dataset\n",
    "y_pred = lr_mean_best.predict(X_test_mean)\n",
    "print(\"f1_score on test:\", f1_score(y_test_mean, y_pred, average='binary'))\n",
    "print(\"Accuracy on test:\", lr_mean_best.score(X_test_mean, y_test_mean))"
   ]
  },
  {
   "cell_type": "markdown",
   "metadata": {},
   "source": [
    "### LASSO\n",
    "Running a LASSO model to predict the number of citations.\n",
    "\n",
    "**Since probably we are not using LASSO do not mind about this part**"
   ]
  },
  {
   "cell_type": "code",
   "execution_count": 70,
   "metadata": {},
   "outputs": [
    {
     "data": {
      "text/plain": [
       "'\\nfrom sklearn.linear_model import Lasso\\nfrom sklearn.metrics import mean_squared_error\\n\\ndef LASSO_model_w2v(X, y, C_grid):\\n    w2c_LASSO_mse = {}\\n\\n    for C in C_grid:\\n        # Set K-Folds cross-validator\\n        k = 10\\n        kf = KFold(k, shuffle = True, random_state = 42)\\n\\n        # Empty lists to store the mean accuracy (lr_score) and balanced F-score (cv_lr_f1)\\n        LASSO_mse = []\\n\\n        for train_ind, val_ind in kf.split(X,y):\\n            X_train, y_train = X[train_ind], y[train_ind]\\n            X_val, y_val = X[val_ind], y[val_ind]\\n\\n            # Notice that I am NOT normalizing the data <<---\\n\\n            # Set logistic regression model\\n            lasso = Lasso(alpha = C).fit(X_train, y_train)\\n\\n            # Computing mean accuracy and balanced F-score\\n            y_pred = lasso.predict(X_val)\\n            # print(y_pred[:20])\\n            LASSO_mse.append(mean_squared_error(y_pred, y_val))\\n        mse_score = np.mean(LASSO_mse)\\n        print(f\"\\n using {C} as penalization parameter\")\\n        print(f\\'LASSO MSE: {mse_score:.3f} +- {np.std(LASSO_mse)/k:.3f}\\')\\n        print(\"Coefficients bigger than 0.01:\", sum(lasso.coef_>0.01)) # Check number of coefficient bigger than 0.1\\n        w2c_LASSO_c = {\"mse\" : mse_score, \"sd\" : np.std(LASSO_mse)/k}\\n        w2c_LASSO_mse[C] = w2c_LASSO_c\\n    return w2c_LASSO_mse\\n\\n\\nX = np.column_stack([list_word2vec_vector_max])\\n\\nyears_from_pub = 2021-df.Year\\n\\nX_pos = X[y>0]\\ny_pos = df[\"Cited by\"][y>0]\\n\\nC_grid = [1,  0.5, 0.25, 0.1, 0.075, 0.05, 1e-5]\\nw2c_lasso_mse_max = LASSO_model_w2v(X, df[\"Cited by\"], C_grid)\\nw2c_lasso_mse_max = pd.DataFrame.from_dict(w2c_lasso_mse_max, orient = \"index\")\\n\\nX = np.column_stack([list_word2vec_vector_mean])\\nX_pos = X[y>0]\\n\\nC_grid = [1,0.1, 0.05, 0.025, 0.01, 0.005, 1e-5]\\nw2c_lasso_mse_mean = LASSO_model_w2v(X, df[\"Cited by\"], C_grid)\\nw2c_lasso_mse_mean = pd.DataFrame.from_dict(w2c_lasso_mse_mean, orient = \"index\")\\nprint(w2c_lasso_mse_max)\\nprint(w2c_lasso_mse_mean)\\n\\nX = np.column_stack([list_word2vec_vector_max])\\nX_pos = X[y>0]\\ny_pos = df[\"Cited by\"][y>0]\\n\\nC_grid = [1,  0.05, 0.025, 0.01, 0.0075, 0.005, 1e-5]\\nw2c_lasso_mse_max = LASSO_model_w2v(X, df[\"Cited by\"]/years_from_pub, C_grid)\\nw2c_lasso_mse_max = pd.DataFrame.from_dict(w2c_lasso_mse_max, orient = \"index\")\\n\\nX = np.column_stack([list_word2vec_vector_mean])\\nX_pos = X[y>0]\\n\\nC_grid = [1, 0.01, 0.005, 0.0025, 0.001, 0.0005, 1e-5]\\nw2c_lasso_mse_mean = LASSO_model_w2v(X, df[\"Cited by\"]/years_from_pub, C_grid)\\nw2c_lasso_mse_mean = pd.DataFrame.from_dict(w2c_lasso_mse_mean, orient = \"index\")\\n\\nprint(w2c_lasso_mse_max)\\nprint(w2c_lasso_mse_mean)\\n'"
      ]
     },
     "execution_count": 70,
     "metadata": {},
     "output_type": "execute_result"
    }
   ],
   "source": [
    "'''\n",
    "from sklearn.linear_model import Lasso\n",
    "from sklearn.metrics import mean_squared_error\n",
    "\n",
    "def LASSO_model_w2v(X, y, C_grid):\n",
    "    w2c_LASSO_mse = {}\n",
    "\n",
    "    for C in C_grid:\n",
    "        # Set K-Folds cross-validator\n",
    "        k = 10\n",
    "        kf = KFold(k, shuffle = True, random_state = 42)\n",
    "\n",
    "        # Empty lists to store the mean accuracy (lr_score) and balanced F-score (cv_lr_f1)\n",
    "        LASSO_mse = []\n",
    "\n",
    "        for train_ind, val_ind in kf.split(X,y):\n",
    "            X_train, y_train = X[train_ind], y[train_ind]\n",
    "            X_val, y_val = X[val_ind], y[val_ind]\n",
    "\n",
    "            # Notice that I am NOT normalizing the data <<---\n",
    "\n",
    "            # Set logistic regression model\n",
    "            lasso = Lasso(alpha = C).fit(X_train, y_train)\n",
    "\n",
    "            # Computing mean accuracy and balanced F-score\n",
    "            y_pred = lasso.predict(X_val)\n",
    "            # print(y_pred[:20])\n",
    "            LASSO_mse.append(mean_squared_error(y_pred, y_val))\n",
    "        mse_score = np.mean(LASSO_mse)\n",
    "        print(f\"\\n using {C} as penalization parameter\")\n",
    "        print(f'LASSO MSE: {mse_score:.3f} +- {np.std(LASSO_mse)/k:.3f}')\n",
    "        print(\"Coefficients bigger than 0.01:\", sum(lasso.coef_>0.01)) # Check number of coefficient bigger than 0.1\n",
    "        w2c_LASSO_c = {\"mse\" : mse_score, \"sd\" : np.std(LASSO_mse)/k}\n",
    "        w2c_LASSO_mse[C] = w2c_LASSO_c\n",
    "    return w2c_LASSO_mse\n",
    "\n",
    "\n",
    "X = np.column_stack([list_word2vec_vector_max])\n",
    "\n",
    "years_from_pub = 2021-df.Year\n",
    "\n",
    "X_pos = X[y>0]\n",
    "y_pos = df[\"Cited by\"][y>0]\n",
    "\n",
    "C_grid = [1,  0.5, 0.25, 0.1, 0.075, 0.05, 1e-5]\n",
    "w2c_lasso_mse_max = LASSO_model_w2v(X, df[\"Cited by\"], C_grid)\n",
    "w2c_lasso_mse_max = pd.DataFrame.from_dict(w2c_lasso_mse_max, orient = \"index\")\n",
    "\n",
    "X = np.column_stack([list_word2vec_vector_mean])\n",
    "X_pos = X[y>0]\n",
    "\n",
    "C_grid = [1,0.1, 0.05, 0.025, 0.01, 0.005, 1e-5]\n",
    "w2c_lasso_mse_mean = LASSO_model_w2v(X, df[\"Cited by\"], C_grid)\n",
    "w2c_lasso_mse_mean = pd.DataFrame.from_dict(w2c_lasso_mse_mean, orient = \"index\")\n",
    "print(w2c_lasso_mse_max)\n",
    "print(w2c_lasso_mse_mean)\n",
    "\n",
    "X = np.column_stack([list_word2vec_vector_max])\n",
    "X_pos = X[y>0]\n",
    "y_pos = df[\"Cited by\"][y>0]\n",
    "\n",
    "C_grid = [1,  0.05, 0.025, 0.01, 0.0075, 0.005, 1e-5]\n",
    "w2c_lasso_mse_max = LASSO_model_w2v(X, df[\"Cited by\"]/years_from_pub, C_grid)\n",
    "w2c_lasso_mse_max = pd.DataFrame.from_dict(w2c_lasso_mse_max, orient = \"index\")\n",
    "\n",
    "X = np.column_stack([list_word2vec_vector_mean])\n",
    "X_pos = X[y>0]\n",
    "\n",
    "C_grid = [1, 0.01, 0.005, 0.0025, 0.001, 0.0005, 1e-5]\n",
    "w2c_lasso_mse_mean = LASSO_model_w2v(X, df[\"Cited by\"]/years_from_pub, C_grid)\n",
    "w2c_lasso_mse_mean = pd.DataFrame.from_dict(w2c_lasso_mse_mean, orient = \"index\")\n",
    "\n",
    "print(w2c_lasso_mse_max)\n",
    "print(w2c_lasso_mse_mean)\n",
    "'''"
   ]
  }
 ],
 "metadata": {
  "kernelspec": {
   "display_name": "Python 3",
   "language": "python",
   "name": "python3"
  },
  "language_info": {
   "codemirror_mode": {
    "name": "ipython",
    "version": 3
   },
   "file_extension": ".py",
   "mimetype": "text/x-python",
   "name": "python",
   "nbconvert_exporter": "python",
   "pygments_lexer": "ipython3",
   "version": "3.8.5"
  }
 },
 "nbformat": 4,
 "nbformat_minor": 2
}
